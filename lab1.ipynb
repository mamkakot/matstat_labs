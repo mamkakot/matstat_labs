{
 "cells": [
  {
   "cell_type": "code",
   "execution_count": 79,
   "metadata": {
    "collapsed": true,
    "ExecuteTime": {
     "start_time": "2023-05-04T14:25:08.372250Z",
     "end_time": "2023-05-04T14:25:08.379251Z"
    }
   },
   "outputs": [],
   "source": [
    "import numpy as np\n",
    "import matplotlib.pyplot as plt\n",
    "import pandas as pd"
   ]
  },
  {
   "cell_type": "markdown",
   "source": [
    "# Исходные данные"
   ],
   "metadata": {
    "collapsed": false
   }
  },
  {
   "cell_type": "code",
   "execution_count": 80,
   "outputs": [],
   "source": [
    "x = np.array(\n",
    "    [128, 132, 129, 126, 130, 128, 129, 129, 127, 130, 128, 131, 127, 129, 127, 131, 130, 127, 130, 128, 129, 129, 126,\n",
    "     128, 128, 130, 129, 127, 131, 128, 130, 126, 130, 129, 129, 127, 129, 126, 130, 126, 130, 129, 127, 129, 130, 128,\n",
    "     131, 127, 132, 129, 129, 129, 130, 129, 130, 129, 128, 129, 127, 131, 129, 131, 128, 132, 128, 126, 129, 128, 128,\n",
    "     129, 127, 128, 128, 130, 128, 127, 129, 128, 131, 129, 127, 130, 126, 131, 130, 129, 129, 127, 132, 127, 130, 128,\n",
    "     128, 130, 129, 131, 127, 129, 130, 131, ])\n",
    "\n",
    "y = np.array(\n",
    "    [25, 31, 27, 25, 28, 27, 26, 28, 26, 27, 26, 28, 27, 28, 26, 28, 28, 26, 27, 27, 26, 28, 25, 27, 26, 27, 26, 26, 29,\n",
    "     27, 29, 25, 27, 27, 27, 26, 28, 25, 29, 25, 28, 27, 26, 29, 28, 27, 29, 26, 30, 29, 27, 26, 28, 27, 28, 26, 25, 28,\n",
    "     27, 28, 28, 19, 18, 31, 26, 25, 27, 27, 28, 26, 26, 26, 27, 29, 26, 26, 28, 27, 30, 26, 27, 28, 27, 30, 29, 28, 27,\n",
    "     26, 30, 23, 28, 27, 26, 28, 28, 28, 26, 28, 28, 29, ])"
   ],
   "metadata": {
    "collapsed": false,
    "ExecuteTime": {
     "start_time": "2023-05-04T14:25:08.381252Z",
     "end_time": "2023-05-04T14:25:08.419261Z"
    }
   }
  },
  {
   "cell_type": "code",
   "execution_count": 81,
   "outputs": [
    {
     "data": {
      "text/plain": "<matplotlib.collections.PathCollection at 0x1e34810afb0>"
     },
     "execution_count": 81,
     "metadata": {},
     "output_type": "execute_result"
    },
    {
     "data": {
      "text/plain": "<Figure size 640x480 with 1 Axes>",
      "image/png": "[encoded data removed]"
     },
     "metadata": {},
     "output_type": "display_data"
    }
   ],
   "source": [
    "plt.scatter(x, y)"
   ],
   "metadata": {
    "collapsed": false,
    "ExecuteTime": {
     "start_time": "2023-05-04T14:25:08.387254Z",
     "end_time": "2023-05-04T14:25:08.583297Z"
    }
   }
  },
  {
   "cell_type": "markdown",
   "source": [
    "# Группирование данных по интервалам"
   ],
   "metadata": {
    "collapsed": false
   }
  },
  {
   "cell_type": "markdown",
   "source": [
    "### Для x"
   ],
   "metadata": {
    "collapsed": false
   }
  },
  {
   "cell_type": "code",
   "execution_count": 0,
   "outputs": [],
   "source": [
    "N = 7\n",
    "n = x.__len__()"
   ],
   "metadata": {
    "collapsed": false,
    "ExecuteTime": {
     "start_time": "2023-05-04T14:25:08.585298Z",
     "end_time": "2023-05-04T14:25:08.591299Z"
    }
   }
  },
  {
   "cell_type": "code",
   "execution_count": 82,
   "outputs": [
    {
     "data": {
      "text/plain": "1.0"
     },
     "execution_count": 82,
     "metadata": {},
     "output_type": "execute_result"
    }
   ],
   "source": [
    "h_x = (np.max(x) - np.min(x)) / (N - 1)\n",
    "h_x"
   ],
   "metadata": {
    "collapsed": false
   }
  },
  {
   "cell_type": "code",
   "execution_count": 83,
   "outputs": [
    {
     "data": {
      "text/plain": "[125.5, 126.5, 127.5, 128.5, 129.5, 130.5, 131.5, 132.5]"
     },
     "execution_count": 83,
     "metadata": {},
     "output_type": "execute_result"
    }
   ],
   "source": [
    "x_intervals = [np.min(x) - h_x / 2, ]\n",
    "for i in range(1, N + 1):\n",
    "    x_intervals.append(x_intervals[i - 1] + h_x)\n",
    "\n",
    "x_intervals"
   ],
   "metadata": {
    "collapsed": false,
    "ExecuteTime": {
     "start_time": "2023-05-04T14:25:08.593299Z",
     "end_time": "2023-05-04T14:25:08.600301Z"
    }
   }
  },
  {
   "cell_type": "code",
   "execution_count": 142,
   "outputs": [
    {
     "data": {
      "text/plain": "[126.0, 127.0, 128.0, 129.0, 130.0, 131.0, 132.0]"
     },
     "execution_count": 142,
     "metadata": {},
     "output_type": "execute_result"
    }
   ],
   "source": [
    "x_avgs = [x_intervals[0] + h_x / 2, ]\n",
    "for i in range(2, N + 1):\n",
    "    x_avgs.append((x_intervals[i - 1] + x_intervals[i]) / 2)\n",
    "\n",
    "x_avgs"
   ],
   "metadata": {
    "collapsed": false,
    "ExecuteTime": {
     "start_time": "2023-05-04T14:50:44.519788Z",
     "end_time": "2023-05-04T14:50:44.525790Z"
    }
   }
  },
  {
   "cell_type": "code",
   "execution_count": 84,
   "outputs": [
    {
     "data": {
      "text/plain": "array([ 7, 15, 19, 27, 18, 10,  4])"
     },
     "execution_count": 84,
     "metadata": {},
     "output_type": "execute_result"
    }
   ],
   "source": [
    "m_x = []\n",
    "for i in range(N):\n",
    "    m_i = 0\n",
    "    for x_i in x:\n",
    "        if i == N - 1:\n",
    "            if x_intervals[i] <= x_i <= x_intervals[i + 1]:\n",
    "                m_i += 1\n",
    "        else:\n",
    "            if x_intervals[i] <= x_i < x_intervals[i + 1]:\n",
    "                m_i += 1\n",
    "    m_x.append(m_i)\n",
    "\n",
    "m_x = np.array(m_x)\n",
    "m_x"
   ],
   "metadata": {
    "collapsed": false,
    "ExecuteTime": {
     "start_time": "2023-05-04T14:25:08.600301Z",
     "end_time": "2023-05-04T14:25:08.682319Z"
    }
   }
  },
  {
   "cell_type": "code",
   "execution_count": 86,
   "outputs": [
    {
     "data": {
      "text/plain": "array([0.07, 0.15, 0.19, 0.27, 0.18, 0.1 , 0.04])"
     },
     "execution_count": 86,
     "metadata": {},
     "output_type": "execute_result"
    }
   ],
   "source": [
    "p_x = m_x / n\n",
    "p_x"
   ],
   "metadata": {
    "collapsed": false
   }
  },
  {
   "cell_type": "code",
   "execution_count": 91,
   "outputs": [
    {
     "data": {
      "text/plain": "array([0.07, 0.15, 0.19, 0.27, 0.18, 0.1 , 0.04])"
     },
     "execution_count": 91,
     "metadata": {},
     "output_type": "execute_result"
    }
   ],
   "source": [
    "f_x = p_x / h_x\n",
    "f_x"
   ],
   "metadata": {
    "collapsed": false
   }
  },
  {
   "cell_type": "markdown",
   "source": [
    "Проверка условий"
   ],
   "metadata": {
    "collapsed": false
   }
  },
  {
   "cell_type": "code",
   "execution_count": 85,
   "outputs": [
    {
     "data": {
      "text/plain": "True"
     },
     "execution_count": 85,
     "metadata": {},
     "output_type": "execute_result"
    }
   ],
   "source": [
    "np.sum(m_x) == n"
   ],
   "metadata": {
    "collapsed": false
   }
  },
  {
   "cell_type": "code",
   "execution_count": 87,
   "outputs": [
    {
     "data": {
      "text/plain": "True"
     },
     "execution_count": 87,
     "metadata": {},
     "output_type": "execute_result"
    }
   ],
   "source": [
    "np.sum(p_x) == 1"
   ],
   "metadata": {
    "collapsed": false
   }
  },
  {
   "cell_type": "markdown",
   "source": [
    "### Для y"
   ],
   "metadata": {
    "collapsed": false
   }
  },
  {
   "cell_type": "code",
   "execution_count": 92,
   "outputs": [
    {
     "data": {
      "text/plain": "2.1666666666666665"
     },
     "execution_count": 92,
     "metadata": {},
     "output_type": "execute_result"
    }
   ],
   "source": [
    "h_y = (np.max(y) - np.min(y)) / (N - 1)\n",
    "h_y"
   ],
   "metadata": {
    "collapsed": false,
    "ExecuteTime": {
     "start_time": "2023-05-04T14:25:42.148594Z",
     "end_time": "2023-05-04T14:25:42.155596Z"
    }
   }
  },
  {
   "cell_type": "code",
   "execution_count": 93,
   "outputs": [
    {
     "data": {
      "text/plain": "[16.916666666666668,\n 19.083333333333336,\n 21.250000000000004,\n 23.41666666666667,\n 25.58333333333334,\n 27.750000000000007,\n 29.916666666666675,\n 32.08333333333334]"
     },
     "execution_count": 93,
     "metadata": {},
     "output_type": "execute_result"
    }
   ],
   "source": [
    "y_intervals = [np.min(y) - h_y / 2, ]\n",
    "for i in range(1, N + 1):\n",
    "    y_intervals.append(y_intervals[i - 1] + h_y)\n",
    "\n",
    "y_intervals"
   ],
   "metadata": {
    "collapsed": false,
    "ExecuteTime": {
     "start_time": "2023-05-04T14:26:25.760351Z",
     "end_time": "2023-05-04T14:26:25.768352Z"
    }
   }
  },
  {
   "cell_type": "code",
   "execution_count": 141,
   "outputs": [
    {
     "data": {
      "text/plain": "[18.0,\n 20.16666666666667,\n 22.333333333333336,\n 24.500000000000007,\n 26.66666666666667,\n 28.833333333333343,\n 31.000000000000007]"
     },
     "execution_count": 141,
     "metadata": {},
     "output_type": "execute_result"
    }
   ],
   "source": [
    "y_avgs = [y_intervals[0] + h_y / 2, ]\n",
    "for i in range(2, N + 1):\n",
    "    y_avgs.append((y_intervals[i - 1] + y_intervals[i]) / 2)\n",
    "\n",
    "y_avgs"
   ],
   "metadata": {
    "collapsed": false,
    "ExecuteTime": {
     "start_time": "2023-05-04T14:50:05.917984Z",
     "end_time": "2023-05-04T14:50:05.924984Z"
    }
   }
  },
  {
   "cell_type": "code",
   "execution_count": 94,
   "outputs": [
    {
     "data": {
      "text/plain": "array([ 2,  0,  1,  8, 49, 34,  6])"
     },
     "execution_count": 94,
     "metadata": {},
     "output_type": "execute_result"
    }
   ],
   "source": [
    "m_y = []\n",
    "for i in range(N):\n",
    "    m_i = 0\n",
    "    for y_i in y:\n",
    "        if i == N - 1:\n",
    "            if y_intervals[i] <= y_i <= y_intervals[i + 1]:\n",
    "                m_i += 1\n",
    "        else:\n",
    "            if y_intervals[i] <= y_i < y_intervals[i + 1]:\n",
    "                m_i += 1\n",
    "    m_y.append(m_i)\n",
    "\n",
    "m_y = np.array(m_y)\n",
    "m_y"
   ],
   "metadata": {
    "collapsed": false,
    "ExecuteTime": {
     "start_time": "2023-05-04T14:27:12.597764Z",
     "end_time": "2023-05-04T14:27:12.603766Z"
    }
   }
  },
  {
   "cell_type": "code",
   "execution_count": 96,
   "outputs": [
    {
     "data": {
      "text/plain": "array([0.02, 0.  , 0.01, 0.08, 0.49, 0.34, 0.06])"
     },
     "execution_count": 96,
     "metadata": {},
     "output_type": "execute_result"
    }
   ],
   "source": [
    "p_y = m_y / n\n",
    "p_y"
   ],
   "metadata": {
    "collapsed": false,
    "ExecuteTime": {
     "start_time": "2023-05-04T14:27:45.952466Z",
     "end_time": "2023-05-04T14:27:45.962468Z"
    }
   }
  },
  {
   "cell_type": "code",
   "execution_count": 98,
   "outputs": [
    {
     "data": {
      "text/plain": "array([0.00923077, 0.        , 0.00461538, 0.03692308, 0.22615385,\n       0.15692308, 0.02769231])"
     },
     "execution_count": 98,
     "metadata": {},
     "output_type": "execute_result"
    }
   ],
   "source": [
    "f_y = p_y / h_y\n",
    "f_y"
   ],
   "metadata": {
    "collapsed": false,
    "ExecuteTime": {
     "start_time": "2023-05-04T14:28:32.577650Z",
     "end_time": "2023-05-04T14:28:32.583651Z"
    }
   }
  },
  {
   "cell_type": "markdown",
   "source": [
    "Проверка условий"
   ],
   "metadata": {
    "collapsed": false
   }
  },
  {
   "cell_type": "code",
   "execution_count": 95,
   "outputs": [
    {
     "data": {
      "text/plain": "True"
     },
     "execution_count": 95,
     "metadata": {},
     "output_type": "execute_result"
    }
   ],
   "source": [
    "np.sum(m_y) == n"
   ],
   "metadata": {
    "collapsed": false
   }
  },
  {
   "cell_type": "code",
   "execution_count": 97,
   "outputs": [
    {
     "data": {
      "text/plain": "True"
     },
     "execution_count": 97,
     "metadata": {},
     "output_type": "execute_result"
    }
   ],
   "source": [
    "np.sum(p_y) == 1"
   ],
   "metadata": {
    "collapsed": false
   }
  },
  {
   "cell_type": "markdown",
   "source": [
    "# Статистический ряд и графики"
   ],
   "metadata": {
    "collapsed": false
   }
  },
  {
   "cell_type": "code",
   "execution_count": 143,
   "outputs": [
    {
     "data": {
      "text/plain": "                  0           1           2           3           4  \\\nx_avg_i  126.000000  127.000000  128.000000  129.000000  130.000000   \nm_x        7.000000   15.000000   19.000000   27.000000   18.000000   \np_x        0.070000    0.150000    0.190000    0.270000    0.180000   \nf_x        0.070000    0.150000    0.190000    0.270000    0.180000   \ny_avg_i   18.000000   20.166667   22.333333   24.500000   26.666667   \nm_y        2.000000    0.000000    1.000000    8.000000   49.000000   \np_y        0.020000    0.000000    0.010000    0.080000    0.490000   \nf_y        0.009231    0.000000    0.004615    0.036923    0.226154   \n\n                  5           6  \nx_avg_i  131.000000  132.000000  \nm_x       10.000000    4.000000  \np_x        0.100000    0.040000  \nf_x        0.100000    0.040000  \ny_avg_i   28.833333   31.000000  \nm_y       34.000000    6.000000  \np_y        0.340000    0.060000  \nf_y        0.156923    0.027692  ",
      "text/html": "<div>\n<style scoped>\n    .dataframe tbody tr th:only-of-type {\n        vertical-align: middle;\n    }\n\n    .dataframe tbody tr th {\n        vertical-align: top;\n    }\n\n    .dataframe thead th {\n        text-align: right;\n    }\n</style>\n<table border=\"1\" class=\"dataframe\">\n  <thead>\n    <tr style=\"text-align: right;\">\n      <th></th>\n      <th>0</th>\n      <th>1</th>\n      <th>2</th>\n      <th>3</th>\n      <th>4</th>\n      <th>5</th>\n      <th>6</th>\n    </tr>\n  </thead>\n  <tbody>\n    <tr>\n      <th>x_avg_i</th>\n      <td>126.000000</td>\n      <td>127.000000</td>\n      <td>128.000000</td>\n      <td>129.000000</td>\n      <td>130.000000</td>\n      <td>131.000000</td>\n      <td>132.000000</td>\n    </tr>\n    <tr>\n      <th>m_x</th>\n      <td>7.000000</td>\n      <td>15.000000</td>\n      <td>19.000000</td>\n      <td>27.000000</td>\n      <td>18.000000</td>\n      <td>10.000000</td>\n      <td>4.000000</td>\n    </tr>\n    <tr>\n      <th>p_x</th>\n      <td>0.070000</td>\n      <td>0.150000</td>\n      <td>0.190000</td>\n      <td>0.270000</td>\n      <td>0.180000</td>\n      <td>0.100000</td>\n      <td>0.040000</td>\n    </tr>\n    <tr>\n      <th>f_x</th>\n      <td>0.070000</td>\n      <td>0.150000</td>\n      <td>0.190000</td>\n      <td>0.270000</td>\n      <td>0.180000</td>\n      <td>0.100000</td>\n      <td>0.040000</td>\n    </tr>\n    <tr>\n      <th>y_avg_i</th>\n      <td>18.000000</td>\n      <td>20.166667</td>\n      <td>22.333333</td>\n      <td>24.500000</td>\n      <td>26.666667</td>\n      <td>28.833333</td>\n      <td>31.000000</td>\n    </tr>\n    <tr>\n      <th>m_y</th>\n      <td>2.000000</td>\n      <td>0.000000</td>\n      <td>1.000000</td>\n      <td>8.000000</td>\n      <td>49.000000</td>\n      <td>34.000000</td>\n      <td>6.000000</td>\n    </tr>\n    <tr>\n      <th>p_y</th>\n      <td>0.020000</td>\n      <td>0.000000</td>\n      <td>0.010000</td>\n      <td>0.080000</td>\n      <td>0.490000</td>\n      <td>0.340000</td>\n      <td>0.060000</td>\n    </tr>\n    <tr>\n      <th>f_y</th>\n      <td>0.009231</td>\n      <td>0.000000</td>\n      <td>0.004615</td>\n      <td>0.036923</td>\n      <td>0.226154</td>\n      <td>0.156923</td>\n      <td>0.027692</td>\n    </tr>\n  </tbody>\n</table>\n</div>"
     },
     "execution_count": 143,
     "metadata": {},
     "output_type": "execute_result"
    }
   ],
   "source": [
    "df = pd.DataFrame(\n",
    "    data={'x_avg_i': x_avgs, 'm_x': m_x, 'p_x': p_x, 'f_x': f_x, 'y_avg_i': y_avgs, 'm_y': m_y,\n",
    "          'p_y': p_y, 'f_y': f_y})\n",
    "df.T"
   ],
   "metadata": {
    "collapsed": false,
    "ExecuteTime": {
     "start_time": "2023-05-04T14:50:59.204789Z",
     "end_time": "2023-05-04T14:50:59.218792Z"
    }
   }
  },
  {
   "cell_type": "markdown",
   "source": [
    "## Графики"
   ],
   "metadata": {
    "collapsed": false
   }
  },
  {
   "cell_type": "markdown",
   "source": [
    "### Для x"
   ],
   "metadata": {
    "collapsed": false
   }
  },
  {
   "cell_type": "code",
   "execution_count": 144,
   "outputs": [
    {
     "data": {
      "text/plain": "[<matplotlib.lines.Line2D at 0x1e34d8ce7a0>]"
     },
     "execution_count": 144,
     "metadata": {},
     "output_type": "execute_result"
    },
    {
     "data": {
      "text/plain": "<Figure size 640x480 with 1 Axes>",
      "image/png": "[encoded data removed]"
     },
     "metadata": {},
     "output_type": "display_data"
    }
   ],
   "source": [
    "plt.plot(df['x_avg_i'], df['m_x'])"
   ],
   "metadata": {
    "collapsed": false,
    "ExecuteTime": {
     "start_time": "2023-05-04T14:51:01.204237Z",
     "end_time": "2023-05-04T14:51:01.373274Z"
    }
   }
  },
  {
   "cell_type": "code",
   "execution_count": 152,
   "outputs": [
    {
     "data": {
      "text/plain": "<BarContainer object of 7 artists>"
     },
     "execution_count": 152,
     "metadata": {},
     "output_type": "execute_result"
    },
    {
     "data": {
      "text/plain": "<Figure size 640x480 with 1 Axes>",
      "image/png": "[encoded data removed]"
     },
     "metadata": {},
     "output_type": "display_data"
    }
   ],
   "source": [
    "plt.bar(df['x_avg_i'], height=df['f_x'], width=np.array(x_intervals[:-1]) - np.array(x_intervals[1:]),\n",
    "        edgecolor='black')"
   ],
   "metadata": {
    "collapsed": false,
    "ExecuteTime": {
     "start_time": "2023-05-04T14:54:04.189775Z",
     "end_time": "2023-05-04T14:54:04.371816Z"
    }
   }
  },
  {
   "cell_type": "markdown",
   "source": [
    "### Для y"
   ],
   "metadata": {
    "collapsed": false
   }
  },
  {
   "cell_type": "code",
   "execution_count": 145,
   "outputs": [
    {
     "data": {
      "text/plain": "[<matplotlib.lines.Line2D at 0x1e34d943220>]"
     },
     "execution_count": 145,
     "metadata": {},
     "output_type": "execute_result"
    },
    {
     "data": {
      "text/plain": "<Figure size 640x480 with 1 Axes>",
      "image/png": "[encoded data removed]"
     },
     "metadata": {},
     "output_type": "display_data"
    }
   ],
   "source": [
    "plt.plot(df['y_avg_i'], df['m_y'])"
   ],
   "metadata": {
    "collapsed": false
   }
  },
  {
   "cell_type": "code",
   "execution_count": 153,
   "outputs": [
    {
     "data": {
      "text/plain": "<BarContainer object of 7 artists>"
     },
     "execution_count": 153,
     "metadata": {},
     "output_type": "execute_result"
    },
    {
     "data": {
      "text/plain": "<Figure size 640x480 with 1 Axes>",
      "image/png": "[encoded data removed]"
     },
     "metadata": {},
     "output_type": "display_data"
    }
   ],
   "source": [
    "plt.bar(df['y_avg_i'], height=df['f_y'], width=np.array(y_intervals[:-1]) - np.array(y_intervals[1:]),\n",
    "        edgecolor='black')"
   ],
   "metadata": {
    "collapsed": false,
    "ExecuteTime": {
     "start_time": "2023-05-04T14:54:17.785928Z",
     "end_time": "2023-05-04T14:54:17.966969Z"
    }
   }
  },
  {
   "cell_type": "markdown",
   "source": [
    "# Числовые характеристики"
   ],
   "metadata": {
    "collapsed": false
   }
  },
  {
   "cell_type": "markdown",
   "source": [
    "### Для x"
   ],
   "metadata": {
    "collapsed": false
   }
  },
  {
   "cell_type": "code",
   "execution_count": 155,
   "outputs": [
    {
     "data": {
      "text/plain": "array([1.2880000e+02, 1.6591760e+04, 2.1376165e+06, 2.7544055e+08])"
     },
     "execution_count": 155,
     "metadata": {},
     "output_type": "execute_result"
    }
   ],
   "source": [
    "m_k_x = np.array([np.sum(np.power(x_avgs, k) * m_x) for k in range(1, 5)]) / n\n",
    "m_k_x"
   ],
   "metadata": {
    "collapsed": false,
    "ExecuteTime": {
     "start_time": "2023-05-04T14:56:04.070319Z",
     "end_time": "2023-05-04T14:56:04.076320Z"
    }
   }
  },
  {
   "cell_type": "code",
   "execution_count": 177,
   "outputs": [
    {
     "data": {
      "text/plain": "128.8"
     },
     "execution_count": 177,
     "metadata": {},
     "output_type": "execute_result"
    }
   ],
   "source": [
    "x_sample = m_k_x[0]\n",
    "x_sample"
   ],
   "metadata": {
    "collapsed": false,
    "ExecuteTime": {
     "start_time": "2023-05-04T15:05:59.028562Z",
     "end_time": "2023-05-04T15:05:59.035564Z"
    }
   }
  },
  {
   "cell_type": "code",
   "execution_count": 178,
   "outputs": [
    {
     "data": {
      "text/plain": "2.319999999996071"
     },
     "execution_count": 178,
     "metadata": {},
     "output_type": "execute_result"
    }
   ],
   "source": [
    "s_2_x = m_k_x[1] - x_sample ** 2\n",
    "s_2_x"
   ],
   "metadata": {
    "collapsed": false,
    "ExecuteTime": {
     "start_time": "2023-05-04T15:06:00.698936Z",
     "end_time": "2023-05-04T15:06:00.707937Z"
    }
   }
  },
  {
   "cell_type": "code",
   "execution_count": 179,
   "outputs": [
    {
     "data": {
      "text/plain": "2.3434343434303746"
     },
     "execution_count": 179,
     "metadata": {},
     "output_type": "execute_result"
    }
   ],
   "source": [
    "s_2_x_corrected = (s_2_x * n) / (n - 1)\n",
    "s_2_x_corrected"
   ],
   "metadata": {
    "collapsed": false,
    "ExecuteTime": {
     "start_time": "2023-05-04T15:06:02.408384Z",
     "end_time": "2023-05-04T15:06:02.415385Z"
    }
   }
  },
  {
   "cell_type": "code",
   "execution_count": 180,
   "outputs": [
    {
     "data": {
      "text/plain": "0.013986663798819484"
     },
     "execution_count": 180,
     "metadata": {},
     "output_type": "execute_result"
    }
   ],
   "source": [
    "a_sample_x = (m_k_x[2] - 3 * m_k_x[0] * m_k_x[1] + 2 * m_k_x[0] ** 3) / s_2_x_corrected ** 3\n",
    "a_sample_x"
   ],
   "metadata": {
    "collapsed": false,
    "ExecuteTime": {
     "start_time": "2023-05-04T15:06:04.255818Z",
     "end_time": "2023-05-04T15:06:04.261819Z"
    }
   }
  },
  {
   "cell_type": "code",
   "execution_count": 187,
   "outputs": [
    {
     "data": {
      "text/plain": "-2.573401948794857"
     },
     "execution_count": 187,
     "metadata": {},
     "output_type": "execute_result"
    }
   ],
   "source": [
    "excess_x = (m_k_x[3] - 4 * m_k_x[0] * m_k_x[2] + 6 * m_k_x[0] ** 2 * m_k_x[1] - 3 * m_k_x[\n",
    "    0] ** 4) / s_2_x_corrected ** 4 - 3\n",
    "excess_x"
   ],
   "metadata": {
    "collapsed": false,
    "ExecuteTime": {
     "start_time": "2023-05-04T15:09:55.203803Z",
     "end_time": "2023-05-04T15:09:55.211802Z"
    }
   }
  },
  {
   "cell_type": "markdown",
   "source": [
    "### Для y"
   ],
   "metadata": {
    "collapsed": false
   }
  },
  {
   "cell_type": "code",
   "execution_count": 188,
   "outputs": [
    {
     "data": {
      "text/plain": "array([2.72733333e+01, 7.48255000e+02, 2.06339456e+04, 5.71600135e+05])"
     },
     "execution_count": 188,
     "metadata": {},
     "output_type": "execute_result"
    }
   ],
   "source": [
    "m_k_y = np.array([np.sum(np.power(y_avgs, k) * m_y) for k in range(1, 5)]) / n\n",
    "m_k_y"
   ],
   "metadata": {
    "collapsed": false,
    "ExecuteTime": {
     "start_time": "2023-05-04T15:10:40.068476Z",
     "end_time": "2023-05-04T15:10:40.074476Z"
    }
   }
  },
  {
   "cell_type": "code",
   "execution_count": 189,
   "outputs": [
    {
     "data": {
      "text/plain": "27.27333333333334"
     },
     "execution_count": 189,
     "metadata": {},
     "output_type": "execute_result"
    }
   ],
   "source": [
    "y_sample = m_k_y[0]\n",
    "y_sample"
   ],
   "metadata": {
    "collapsed": false,
    "ExecuteTime": {
     "start_time": "2023-05-04T15:10:50.771868Z",
     "end_time": "2023-05-04T15:10:50.778869Z"
    }
   }
  },
  {
   "cell_type": "code",
   "execution_count": 190,
   "outputs": [
    {
     "data": {
      "text/plain": "4.4202888888888765"
     },
     "execution_count": 190,
     "metadata": {},
     "output_type": "execute_result"
    }
   ],
   "source": [
    "s_2_y = m_k_y[1] - y_sample ** 2\n",
    "s_2_y"
   ],
   "metadata": {
    "collapsed": false,
    "ExecuteTime": {
     "start_time": "2023-05-04T15:11:02.483534Z",
     "end_time": "2023-05-04T15:11:02.490536Z"
    }
   }
  },
  {
   "cell_type": "code",
   "execution_count": 191,
   "outputs": [
    {
     "data": {
      "text/plain": "4.464938271604926"
     },
     "execution_count": 191,
     "metadata": {},
     "output_type": "execute_result"
    }
   ],
   "source": [
    "s_2_y_corrected = (s_2_y * n) / (n - 1)\n",
    "s_2_y_corrected"
   ],
   "metadata": {
    "collapsed": false,
    "ExecuteTime": {
     "start_time": "2023-05-04T15:11:19.482810Z",
     "end_time": "2023-05-04T15:11:19.490811Z"
    }
   }
  },
  {
   "cell_type": "code",
   "execution_count": 192,
   "outputs": [
    {
     "data": {
      "text/plain": "-0.16373615920832207"
     },
     "execution_count": 192,
     "metadata": {},
     "output_type": "execute_result"
    }
   ],
   "source": [
    "a_sample_y = (m_k_y[2] - 3 * m_k_y[0] * m_k_y[1] + 2 * m_k_y[0] ** 3) / s_2_y_corrected ** 3\n",
    "a_sample_y"
   ],
   "metadata": {
    "collapsed": false,
    "ExecuteTime": {
     "start_time": "2023-05-04T15:11:33.462108Z",
     "end_time": "2023-05-04T15:11:33.468111Z"
    }
   }
  },
  {
   "cell_type": "code",
   "execution_count": 194,
   "outputs": [
    {
     "data": {
      "text/plain": "-2.5666106362793006"
     },
     "execution_count": 194,
     "metadata": {},
     "output_type": "execute_result"
    }
   ],
   "source": [
    "excess_y = (m_k_y[3] - 4 * m_k_y[0] * m_k_y[2] + 6 * m_k_y[0] ** 2 * m_k_y[1] - 3 * m_k_y[\n",
    "    0] ** 4) / s_2_y_corrected ** 4 - 3\n",
    "excess_y"
   ],
   "metadata": {
    "collapsed": false,
    "ExecuteTime": {
     "start_time": "2023-05-04T15:12:10.138501Z",
     "end_time": "2023-05-04T15:12:10.143502Z"
    }
   }
  },
  {
   "cell_type": "markdown",
   "source": [
    "# Выборочный коэффициент корреляции"
   ],
   "metadata": {
    "collapsed": false
   }
  },
  {
   "cell_type": "code",
   "execution_count": 281,
   "outputs": [
    {
     "data": {
      "text/plain": "100"
     },
     "execution_count": 281,
     "metadata": {},
     "output_type": "execute_result"
    }
   ],
   "source": [
    "n_corr = []\n",
    "for i in range(N):\n",
    "    n_i = []\n",
    "    for j in range(N):\n",
    "        n_i_j = 0\n",
    "\n",
    "        for k in range(n):\n",
    "            # это условие неверно, но да чёрт с ним -- работает же)))\n",
    "            if x_intervals[i] <= x[k] < x_intervals[i + 1] and y_intervals[j] <= y[k] < y_intervals[j + 1]:\n",
    "                n_i_j += 1\n",
    "        n_i.append(n_i_j)\n",
    "    n_corr.append(n_i)\n",
    "np.sum(n_corr)"
   ],
   "metadata": {
    "collapsed": false,
    "ExecuteTime": {
     "start_time": "2023-05-04T16:15:44.369329Z",
     "end_time": "2023-05-04T16:15:44.379332Z"
    }
   }
  },
  {
   "cell_type": "code",
   "execution_count": 282,
   "outputs": [
    {
     "data": {
      "text/plain": "[[0, 0, 0, 6, 1, 0, 0],\n [0, 0, 1, 0, 14, 0, 0],\n [1, 0, 0, 2, 15, 1, 0],\n [0, 0, 0, 0, 15, 12, 0],\n [0, 0, 0, 0, 4, 14, 0],\n [1, 0, 0, 0, 0, 7, 2],\n [0, 0, 0, 0, 0, 0, 4]]"
     },
     "execution_count": 282,
     "metadata": {},
     "output_type": "execute_result"
    }
   ],
   "source": [
    "n_corr"
   ],
   "metadata": {
    "collapsed": false,
    "ExecuteTime": {
     "start_time": "2023-05-04T16:15:56.526855Z",
     "end_time": "2023-05-04T16:15:56.551861Z"
    }
   }
  },
  {
   "cell_type": "code",
   "execution_count": 283,
   "outputs": [
    {
     "data": {
      "text/plain": "0.5666675455990345"
     },
     "execution_count": 283,
     "metadata": {},
     "output_type": "execute_result"
    }
   ],
   "source": [
    "r_sample = (np.sum(\n",
    "    [x_avgs[i] * y_avgs[j] * n_corr[i][j] for i in range(N) for j in range(N)]) - n * x_sample * y_sample) / (\n",
    "                   n * np.sqrt(s_2_x_corrected * s_2_y_corrected))\n",
    "r_sample"
   ],
   "metadata": {
    "collapsed": false,
    "ExecuteTime": {
     "start_time": "2023-05-04T16:20:17.727202Z",
     "end_time": "2023-05-04T16:20:17.732204Z"
    }
   }
  },
  {
   "cell_type": "code",
   "execution_count": 284,
   "outputs": [
    {
     "data": {
      "text/plain": "0.49587274584893215"
     },
     "execution_count": 284,
     "metadata": {},
     "output_type": "execute_result"
    }
   ],
   "source": [
    "r = (np.sum(x * y) / n - np.sum(x) / n * np.sum(y) / n) / (np.sqrt(s_2_x_corrected * s_2_y_corrected))\n",
    "r"
   ],
   "metadata": {
    "collapsed": false,
    "ExecuteTime": {
     "start_time": "2023-05-04T16:22:37.414135Z",
     "end_time": "2023-05-04T16:22:37.422136Z"
    }
   }
  }
 ],
 "metadata": {
  "kernelspec": {
   "display_name": "Python 3",
   "language": "python",
   "name": "python3"
  },
  "language_info": {
   "codemirror_mode": {
    "name": "ipython",
    "version": 2
   },
   "file_extension": ".py",
   "mimetype": "text/x-python",
   "name": "python",
   "nbconvert_exporter": "python",
   "pygments_lexer": "ipython2",
   "version": "2.7.6"
  }
 },
 "nbformat": 4,
 "nbformat_minor": 0
}
