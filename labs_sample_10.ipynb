{
 "cells": [
  {
   "cell_type": "markdown",
   "source": [
    "# Lab №6"
   ],
   "metadata": {
    "collapsed": false
   }
  },
  {
   "cell_type": "code",
   "execution_count": 1,
   "outputs": [],
   "source": [
    "import numpy as np\n",
    "import matplotlib.pyplot as plt\n",
    "import pandas as pd\n",
    "from scipy.special import erf\n",
    "from scipy.stats import chi2, t, zscore"
   ],
   "metadata": {
    "collapsed": false,
    "ExecuteTime": {
     "start_time": "2023-05-10T02:42:54.230098Z",
     "end_time": "2023-05-10T02:42:57.025731Z"
    }
   }
  },
  {
   "cell_type": "markdown",
   "source": [
    "# Исходные данные"
   ],
   "metadata": {
    "collapsed": false
   }
  },
  {
   "cell_type": "code",
   "execution_count": 2,
   "outputs": [],
   "source": [
    "x = np.array(\n",
    "    [128, 132, 129, 126, 130, 128, 129, 129, 127, 130, 128, 131, 127, 129, 127, 131, 130, 127, 130, 128, 129, 129, 126,\n",
    "     128, 128, 130, 129, 127, 131, 128, 130, 126, 130, 129, 129, 127, 129, 126, 130, 126, 130, 129, 127, 129, 130, 128,\n",
    "     131, 127, 132, 129, 129, 129, 130, 129, 130, 129, 128, 129, 127, 131, 129, 131, 128, 132, 128, 126, 129, 128, 128,\n",
    "     129, 127, 128, 128, 130, 128, 127, 129, 128, 131, 129, 127, 130, 126, 131, 130, 129, 129, 127, 132, 127, 130, 128,\n",
    "     128, 130, 129, 131, 127, 129, 130, 131, ])\n",
    "\n",
    "y = np.array(\n",
    "    [25, 31, 27, 25, 28, 27, 26, 28, 26, 27, 26, 28, 27, 28, 26, 28, 28, 26, 27, 27, 26, 28, 25, 27, 26, 27, 26, 26, 29,\n",
    "     27, 29, 25, 27, 27, 27, 26, 28, 25, 29, 25, 28, 27, 26, 29, 28, 27, 29, 26, 30, 29, 27, 26, 28, 27, 28, 26, 25, 28,\n",
    "     27, 28, 28, 19, 18, 31, 26, 25, 27, 27, 28, 26, 26, 26, 27, 29, 26, 26, 28, 27, 30, 26, 27, 28, 27, 30, 29, 28, 27,\n",
    "     26, 30, 23, 28, 27, 26, 28, 28, 28, 26, 28, 28, 29, ])"
   ],
   "metadata": {
    "collapsed": false,
    "ExecuteTime": {
     "start_time": "2023-05-10T02:42:55.530394Z",
     "end_time": "2023-05-10T02:42:57.025731Z"
    }
   }
  },
  {
   "cell_type": "code",
   "execution_count": 3,
   "outputs": [
    {
     "data": {
      "text/plain": "<matplotlib.collections.PathCollection at 0x24558b7bd30>"
     },
     "execution_count": 3,
     "metadata": {},
     "output_type": "execute_result"
    },
    {
     "data": {
      "text/plain": "<Figure size 640x480 with 1 Axes>",
      "image/png": "[encoded data removed]"
     },
     "metadata": {},
     "output_type": "display_data"
    }
   ],
   "source": [
    "plt.scatter(x, y)"
   ],
   "metadata": {
    "collapsed": false,
    "ExecuteTime": {
     "start_time": "2023-05-10T02:42:55.534395Z",
     "end_time": "2023-05-10T02:42:57.026734Z"
    }
   }
  },
  {
   "cell_type": "markdown",
   "source": [
    "### Фильтрация от выбросов"
   ],
   "metadata": {
    "collapsed": false
   }
  },
  {
   "cell_type": "code",
   "execution_count": 4,
   "outputs": [
    {
     "data": {
      "text/plain": "(98, 2)"
     },
     "execution_count": 4,
     "metadata": {},
     "output_type": "execute_result"
    }
   ],
   "source": [
    "data = pd.DataFrame({'x': x, 'y': y})\n",
    "z = np.abs(zscore(data))\n",
    "data_clean = data[(z < 3).all(axis=1)]\n",
    "data_clean.shape"
   ],
   "metadata": {
    "collapsed": false,
    "ExecuteTime": {
     "start_time": "2023-05-10T02:42:55.752444Z",
     "end_time": "2023-05-10T02:42:57.026734Z"
    }
   }
  },
  {
   "cell_type": "code",
   "execution_count": 5,
   "outputs": [
    {
     "data": {
      "text/plain": "<matplotlib.collections.PathCollection at 0x24558e22590>"
     },
     "execution_count": 5,
     "metadata": {},
     "output_type": "execute_result"
    },
    {
     "data": {
      "text/plain": "<Figure size 640x480 with 1 Axes>",
      "image/png": "[encoded data removed]"
     },
     "metadata": {},
     "output_type": "display_data"
    }
   ],
   "source": [
    "plt.scatter(data_clean['x'], data_clean['y'])"
   ],
   "metadata": {
    "collapsed": false,
    "ExecuteTime": {
     "start_time": "2023-05-10T02:42:55.781450Z",
     "end_time": "2023-05-10T02:42:57.026734Z"
    }
   }
  },
  {
   "cell_type": "code",
   "execution_count": 6,
   "outputs": [],
   "source": [
    "x = np.array(data_clean['x'][:10])\n",
    "y = np.array(data_clean['y'][:10])"
   ],
   "metadata": {
    "collapsed": false,
    "ExecuteTime": {
     "start_time": "2023-05-10T02:42:55.968492Z",
     "end_time": "2023-05-10T02:42:57.026734Z"
    }
   }
  },
  {
   "cell_type": "markdown",
   "source": [
    "# Группирование данных по интервалам"
   ],
   "metadata": {
    "collapsed": false
   }
  },
  {
   "cell_type": "markdown",
   "source": [
    "### Для x"
   ],
   "metadata": {
    "collapsed": false
   }
  },
  {
   "cell_type": "code",
   "execution_count": 7,
   "outputs": [],
   "source": [
    "N = 7\n",
    "n = x.__len__()"
   ],
   "metadata": {
    "collapsed": false,
    "ExecuteTime": {
     "start_time": "2023-05-10T02:42:55.974493Z",
     "end_time": "2023-05-10T02:42:57.026734Z"
    }
   }
  },
  {
   "cell_type": "code",
   "execution_count": 8,
   "outputs": [
    {
     "data": {
      "text/plain": "1.0"
     },
     "execution_count": 8,
     "metadata": {},
     "output_type": "execute_result"
    }
   ],
   "source": [
    "h_x = (np.max(x) - np.min(x)) / (N - 1)\n",
    "h_x"
   ],
   "metadata": {
    "collapsed": false,
    "ExecuteTime": {
     "start_time": "2023-05-10T02:42:55.981495Z",
     "end_time": "2023-05-10T02:42:57.026734Z"
    }
   }
  },
  {
   "cell_type": "code",
   "execution_count": 9,
   "outputs": [
    {
     "data": {
      "text/plain": "[125.5, 126.5, 127.5, 128.5, 129.5, 130.5, 131.5, 132.5]"
     },
     "execution_count": 9,
     "metadata": {},
     "output_type": "execute_result"
    }
   ],
   "source": [
    "x_intervals = [np.min(x) - h_x / 2, ]\n",
    "for i in range(1, N + 1):\n",
    "    x_intervals.append(x_intervals[i - 1] + h_x)\n",
    "\n",
    "x_intervals"
   ],
   "metadata": {
    "collapsed": false,
    "ExecuteTime": {
     "start_time": "2023-05-10T02:42:55.986496Z",
     "end_time": "2023-05-10T02:42:57.026734Z"
    }
   }
  },
  {
   "cell_type": "code",
   "execution_count": 10,
   "outputs": [
    {
     "data": {
      "text/plain": "[126.0, 127.0, 128.0, 129.0, 130.0, 131.0, 132.0]"
     },
     "execution_count": 10,
     "metadata": {},
     "output_type": "execute_result"
    }
   ],
   "source": [
    "x_avgs = [x_intervals[0] + h_x / 2, ]\n",
    "for i in range(2, N + 1):\n",
    "    x_avgs.append((x_intervals[i - 1] + x_intervals[i]) / 2)\n",
    "\n",
    "x_avgs"
   ],
   "metadata": {
    "collapsed": false,
    "ExecuteTime": {
     "start_time": "2023-05-10T02:42:55.996499Z",
     "end_time": "2023-05-10T02:42:57.027734Z"
    }
   }
  },
  {
   "cell_type": "code",
   "execution_count": 11,
   "outputs": [
    {
     "data": {
      "text/plain": "array([1, 1, 2, 3, 2, 0, 1])"
     },
     "execution_count": 11,
     "metadata": {},
     "output_type": "execute_result"
    }
   ],
   "source": [
    "m_x = []\n",
    "for i in range(N):\n",
    "    m_i = 0\n",
    "    for x_i in x:\n",
    "        if i == N - 1:\n",
    "            if x_intervals[i] <= x_i <= x_intervals[i + 1]:\n",
    "                m_i += 1\n",
    "        else:\n",
    "            if x_intervals[i] <= x_i < x_intervals[i + 1]:\n",
    "                m_i += 1\n",
    "    m_x.append(m_i)\n",
    "\n",
    "m_x = np.array(m_x)\n",
    "m_x"
   ],
   "metadata": {
    "collapsed": false,
    "ExecuteTime": {
     "start_time": "2023-05-10T02:42:56.001500Z",
     "end_time": "2023-05-10T02:42:57.027734Z"
    }
   }
  },
  {
   "cell_type": "code",
   "execution_count": 12,
   "outputs": [
    {
     "data": {
      "text/plain": "array([0.1, 0.1, 0.2, 0.3, 0.2, 0. , 0.1])"
     },
     "execution_count": 12,
     "metadata": {},
     "output_type": "execute_result"
    }
   ],
   "source": [
    "p_x = m_x / n\n",
    "p_x"
   ],
   "metadata": {
    "collapsed": false,
    "ExecuteTime": {
     "start_time": "2023-05-10T02:42:56.011501Z",
     "end_time": "2023-05-10T02:42:57.027734Z"
    }
   }
  },
  {
   "cell_type": "code",
   "execution_count": 13,
   "outputs": [
    {
     "data": {
      "text/plain": "array([0.1, 0.1, 0.2, 0.3, 0.2, 0. , 0.1])"
     },
     "execution_count": 13,
     "metadata": {},
     "output_type": "execute_result"
    }
   ],
   "source": [
    "f_x = p_x / h_x\n",
    "f_x"
   ],
   "metadata": {
    "collapsed": false,
    "ExecuteTime": {
     "start_time": "2023-05-10T02:42:56.021504Z",
     "end_time": "2023-05-10T02:42:57.027734Z"
    }
   }
  },
  {
   "cell_type": "markdown",
   "source": [
    "Проверка условий"
   ],
   "metadata": {
    "collapsed": false
   }
  },
  {
   "cell_type": "code",
   "execution_count": 14,
   "outputs": [
    {
     "data": {
      "text/plain": "True"
     },
     "execution_count": 14,
     "metadata": {},
     "output_type": "execute_result"
    }
   ],
   "source": [
    "np.sum(m_x) == n"
   ],
   "metadata": {
    "collapsed": false,
    "ExecuteTime": {
     "start_time": "2023-05-10T02:42:56.032507Z",
     "end_time": "2023-05-10T02:42:57.027734Z"
    }
   }
  },
  {
   "cell_type": "code",
   "execution_count": 15,
   "outputs": [
    {
     "data": {
      "text/plain": "False"
     },
     "execution_count": 15,
     "metadata": {},
     "output_type": "execute_result"
    }
   ],
   "source": [
    "np.sum(p_x) == 1"
   ],
   "metadata": {
    "collapsed": false,
    "ExecuteTime": {
     "start_time": "2023-05-10T02:42:56.037508Z",
     "end_time": "2023-05-10T02:42:57.027734Z"
    }
   }
  },
  {
   "cell_type": "markdown",
   "source": [
    "### Для y"
   ],
   "metadata": {
    "collapsed": false
   }
  },
  {
   "cell_type": "code",
   "execution_count": 16,
   "outputs": [
    {
     "data": {
      "text/plain": "1.0"
     },
     "execution_count": 16,
     "metadata": {},
     "output_type": "execute_result"
    }
   ],
   "source": [
    "h_y = (np.max(y) - np.min(y)) / (N - 1)\n",
    "h_y"
   ],
   "metadata": {
    "collapsed": false,
    "ExecuteTime": {
     "start_time": "2023-05-10T02:42:56.045509Z",
     "end_time": "2023-05-10T02:42:57.028734Z"
    }
   }
  },
  {
   "cell_type": "code",
   "execution_count": 17,
   "outputs": [
    {
     "data": {
      "text/plain": "[24.5, 25.5, 26.5, 27.5, 28.5, 29.5, 30.5, 31.5]"
     },
     "execution_count": 17,
     "metadata": {},
     "output_type": "execute_result"
    }
   ],
   "source": [
    "y_intervals = [np.min(y) - h_y / 2, ]\n",
    "for i in range(1, N + 1):\n",
    "    y_intervals.append(y_intervals[i - 1] + h_y)\n",
    "\n",
    "y_intervals"
   ],
   "metadata": {
    "collapsed": false,
    "ExecuteTime": {
     "start_time": "2023-05-10T02:42:56.056513Z",
     "end_time": "2023-05-10T02:42:57.028734Z"
    }
   }
  },
  {
   "cell_type": "code",
   "execution_count": 18,
   "outputs": [
    {
     "data": {
      "text/plain": "[25.0, 26.0, 27.0, 28.0, 29.0, 30.0, 31.0]"
     },
     "execution_count": 18,
     "metadata": {},
     "output_type": "execute_result"
    }
   ],
   "source": [
    "y_avgs = [y_intervals[0] + h_y / 2, ]\n",
    "for i in range(2, N + 1):\n",
    "    y_avgs.append((y_intervals[i - 1] + y_intervals[i]) / 2)\n",
    "\n",
    "y_avgs"
   ],
   "metadata": {
    "collapsed": false,
    "ExecuteTime": {
     "start_time": "2023-05-10T02:42:56.063514Z",
     "end_time": "2023-05-10T02:42:57.028734Z"
    }
   }
  },
  {
   "cell_type": "code",
   "execution_count": 19,
   "outputs": [
    {
     "data": {
      "text/plain": "array([2, 2, 3, 2, 0, 0, 1])"
     },
     "execution_count": 19,
     "metadata": {},
     "output_type": "execute_result"
    }
   ],
   "source": [
    "m_y = []\n",
    "for i in range(N):\n",
    "    m_i = 0\n",
    "    for y_i in y:\n",
    "        if i == N - 1:\n",
    "            if y_intervals[i] <= y_i <= y_intervals[i + 1]:\n",
    "                m_i += 1\n",
    "        else:\n",
    "            if y_intervals[i] <= y_i < y_intervals[i + 1]:\n",
    "                m_i += 1\n",
    "    m_y.append(m_i)\n",
    "\n",
    "m_y = np.array(m_y)\n",
    "m_y"
   ],
   "metadata": {
    "collapsed": false,
    "ExecuteTime": {
     "start_time": "2023-05-10T02:42:56.071517Z",
     "end_time": "2023-05-10T02:42:57.028734Z"
    }
   }
  },
  {
   "cell_type": "code",
   "execution_count": 20,
   "outputs": [
    {
     "data": {
      "text/plain": "array([0.2, 0.2, 0.3, 0.2, 0. , 0. , 0.1])"
     },
     "execution_count": 20,
     "metadata": {},
     "output_type": "execute_result"
    }
   ],
   "source": [
    "p_y = m_y / n\n",
    "p_y"
   ],
   "metadata": {
    "collapsed": false,
    "ExecuteTime": {
     "start_time": "2023-05-10T02:42:56.078517Z",
     "end_time": "2023-05-10T02:42:57.028734Z"
    }
   }
  },
  {
   "cell_type": "code",
   "execution_count": 21,
   "outputs": [
    {
     "data": {
      "text/plain": "array([0.2, 0.2, 0.3, 0.2, 0. , 0. , 0.1])"
     },
     "execution_count": 21,
     "metadata": {},
     "output_type": "execute_result"
    }
   ],
   "source": [
    "f_y = p_y / h_y\n",
    "f_y"
   ],
   "metadata": {
    "collapsed": false,
    "ExecuteTime": {
     "start_time": "2023-05-10T02:42:56.085521Z",
     "end_time": "2023-05-10T02:42:57.028734Z"
    }
   }
  },
  {
   "cell_type": "markdown",
   "source": [
    "Проверка условий"
   ],
   "metadata": {
    "collapsed": false
   }
  },
  {
   "cell_type": "code",
   "execution_count": 22,
   "outputs": [
    {
     "data": {
      "text/plain": "True"
     },
     "execution_count": 22,
     "metadata": {},
     "output_type": "execute_result"
    }
   ],
   "source": [
    "np.sum(m_y) == n"
   ],
   "metadata": {
    "collapsed": false,
    "ExecuteTime": {
     "start_time": "2023-05-10T02:42:56.092523Z",
     "end_time": "2023-05-10T02:42:57.028734Z"
    }
   }
  },
  {
   "cell_type": "code",
   "execution_count": 23,
   "outputs": [
    {
     "data": {
      "text/plain": "False"
     },
     "execution_count": 23,
     "metadata": {},
     "output_type": "execute_result"
    }
   ],
   "source": [
    "np.sum(p_y) == 1"
   ],
   "metadata": {
    "collapsed": false,
    "ExecuteTime": {
     "start_time": "2023-05-10T02:42:56.101523Z",
     "end_time": "2023-05-10T02:42:57.028734Z"
    }
   }
  },
  {
   "cell_type": "markdown",
   "source": [
    "# Статистический ряд и графики"
   ],
   "metadata": {
    "collapsed": false
   }
  },
  {
   "cell_type": "code",
   "execution_count": 24,
   "outputs": [
    {
     "data": {
      "text/plain": "             0      1      2      3      4      5      6\nx_avg_i  126.0  127.0  128.0  129.0  130.0  131.0  132.0\nm_x        1.0    1.0    2.0    3.0    2.0    0.0    1.0\np_x        0.1    0.1    0.2    0.3    0.2    0.0    0.1\nf_x        0.1    0.1    0.2    0.3    0.2    0.0    0.1\ny_avg_i   25.0   26.0   27.0   28.0   29.0   30.0   31.0\nm_y        2.0    2.0    3.0    2.0    0.0    0.0    1.0\np_y        0.2    0.2    0.3    0.2    0.0    0.0    0.1\nf_y        0.2    0.2    0.3    0.2    0.0    0.0    0.1",
      "text/html": "<div>\n<style scoped>\n    .dataframe tbody tr th:only-of-type {\n        vertical-align: middle;\n    }\n\n    .dataframe tbody tr th {\n        vertical-align: top;\n    }\n\n    .dataframe thead th {\n        text-align: right;\n    }\n</style>\n<table border=\"1\" class=\"dataframe\">\n  <thead>\n    <tr style=\"text-align: right;\">\n      <th></th>\n      <th>0</th>\n      <th>1</th>\n      <th>2</th>\n      <th>3</th>\n      <th>4</th>\n      <th>5</th>\n      <th>6</th>\n    </tr>\n  </thead>\n  <tbody>\n    <tr>\n      <th>x_avg_i</th>\n      <td>126.0</td>\n      <td>127.0</td>\n      <td>128.0</td>\n      <td>129.0</td>\n      <td>130.0</td>\n      <td>131.0</td>\n      <td>132.0</td>\n    </tr>\n    <tr>\n      <th>m_x</th>\n      <td>1.0</td>\n      <td>1.0</td>\n      <td>2.0</td>\n      <td>3.0</td>\n      <td>2.0</td>\n      <td>0.0</td>\n      <td>1.0</td>\n    </tr>\n    <tr>\n      <th>p_x</th>\n      <td>0.1</td>\n      <td>0.1</td>\n      <td>0.2</td>\n      <td>0.3</td>\n      <td>0.2</td>\n      <td>0.0</td>\n      <td>0.1</td>\n    </tr>\n    <tr>\n      <th>f_x</th>\n      <td>0.1</td>\n      <td>0.1</td>\n      <td>0.2</td>\n      <td>0.3</td>\n      <td>0.2</td>\n      <td>0.0</td>\n      <td>0.1</td>\n    </tr>\n    <tr>\n      <th>y_avg_i</th>\n      <td>25.0</td>\n      <td>26.0</td>\n      <td>27.0</td>\n      <td>28.0</td>\n      <td>29.0</td>\n      <td>30.0</td>\n      <td>31.0</td>\n    </tr>\n    <tr>\n      <th>m_y</th>\n      <td>2.0</td>\n      <td>2.0</td>\n      <td>3.0</td>\n      <td>2.0</td>\n      <td>0.0</td>\n      <td>0.0</td>\n      <td>1.0</td>\n    </tr>\n    <tr>\n      <th>p_y</th>\n      <td>0.2</td>\n      <td>0.2</td>\n      <td>0.3</td>\n      <td>0.2</td>\n      <td>0.0</td>\n      <td>0.0</td>\n      <td>0.1</td>\n    </tr>\n    <tr>\n      <th>f_y</th>\n      <td>0.2</td>\n      <td>0.2</td>\n      <td>0.3</td>\n      <td>0.2</td>\n      <td>0.0</td>\n      <td>0.0</td>\n      <td>0.1</td>\n    </tr>\n  </tbody>\n</table>\n</div>"
     },
     "execution_count": 24,
     "metadata": {},
     "output_type": "execute_result"
    }
   ],
   "source": [
    "df = pd.DataFrame(\n",
    "    data={'x_avg_i': x_avgs, 'm_x': m_x, 'p_x': p_x, 'f_x': f_x, 'y_avg_i': y_avgs, 'm_y': m_y,\n",
    "          'p_y': p_y, 'f_y': f_y})\n",
    "df.T"
   ],
   "metadata": {
    "collapsed": false,
    "ExecuteTime": {
     "start_time": "2023-05-10T02:42:56.108525Z",
     "end_time": "2023-05-10T02:42:57.030734Z"
    }
   }
  },
  {
   "cell_type": "markdown",
   "source": [
    "## Графики"
   ],
   "metadata": {
    "collapsed": false
   }
  },
  {
   "cell_type": "markdown",
   "source": [
    "### Для x"
   ],
   "metadata": {
    "collapsed": false
   }
  },
  {
   "cell_type": "code",
   "execution_count": 25,
   "outputs": [
    {
     "data": {
      "text/plain": "[<matplotlib.lines.Line2D at 0x24558cd8a90>]"
     },
     "execution_count": 25,
     "metadata": {},
     "output_type": "execute_result"
    },
    {
     "data": {
      "text/plain": "<Figure size 640x480 with 1 Axes>",
      "image/png": "[encoded data removed]"
     },
     "metadata": {},
     "output_type": "display_data"
    }
   ],
   "source": [
    "plt.plot(df['x_avg_i'], df['m_x'])"
   ],
   "metadata": {
    "collapsed": false,
    "ExecuteTime": {
     "start_time": "2023-05-10T02:42:56.132530Z",
     "end_time": "2023-05-10T02:42:57.031735Z"
    }
   }
  },
  {
   "cell_type": "code",
   "execution_count": 26,
   "outputs": [
    {
     "data": {
      "text/plain": "<BarContainer object of 7 artists>"
     },
     "execution_count": 26,
     "metadata": {},
     "output_type": "execute_result"
    },
    {
     "data": {
      "text/plain": "<Figure size 640x480 with 1 Axes>",
      "image/png": "[encoded data removed]"
     },
     "metadata": {},
     "output_type": "display_data"
    }
   ],
   "source": [
    "plt.bar(df['x_avg_i'], height=df['f_x'], width=np.array(x_intervals[:-1]) - np.array(x_intervals[1:]),\n",
    "        edgecolor='black')"
   ],
   "metadata": {
    "collapsed": false,
    "ExecuteTime": {
     "start_time": "2023-05-10T02:42:56.315573Z",
     "end_time": "2023-05-10T02:42:57.031735Z"
    }
   }
  },
  {
   "cell_type": "markdown",
   "source": [
    "### Для y"
   ],
   "metadata": {
    "collapsed": false
   }
  },
  {
   "cell_type": "code",
   "execution_count": 27,
   "outputs": [
    {
     "data": {
      "text/plain": "[<matplotlib.lines.Line2D at 0x2455903e0e0>]"
     },
     "execution_count": 27,
     "metadata": {},
     "output_type": "execute_result"
    },
    {
     "data": {
      "text/plain": "<Figure size 640x480 with 1 Axes>",
      "image/png": "[encoded data removed]"
     },
     "metadata": {},
     "output_type": "display_data"
    }
   ],
   "source": [
    "plt.plot(df['y_avg_i'], df['m_y'])"
   ],
   "metadata": {
    "collapsed": false,
    "ExecuteTime": {
     "start_time": "2023-05-10T02:42:56.566629Z",
     "end_time": "2023-05-10T02:42:57.031735Z"
    }
   }
  },
  {
   "cell_type": "code",
   "execution_count": 28,
   "outputs": [
    {
     "data": {
      "text/plain": "<BarContainer object of 7 artists>"
     },
     "execution_count": 28,
     "metadata": {},
     "output_type": "execute_result"
    },
    {
     "data": {
      "text/plain": "<Figure size 640x480 with 1 Axes>",
      "image/png": "[encoded data removed]"
     },
     "metadata": {},
     "output_type": "display_data"
    }
   ],
   "source": [
    "plt.bar(df['y_avg_i'], height=df['f_y'], width=np.array(y_intervals[:-1]) - np.array(y_intervals[1:]),\n",
    "        edgecolor='black')"
   ],
   "metadata": {
    "collapsed": false,
    "ExecuteTime": {
     "start_time": "2023-05-10T02:42:56.748669Z",
     "end_time": "2023-05-10T02:42:57.031735Z"
    }
   }
  },
  {
   "cell_type": "markdown",
   "source": [
    "# Числовые характеристики"
   ],
   "metadata": {
    "collapsed": false
   }
  },
  {
   "cell_type": "markdown",
   "source": [
    "### Для x"
   ],
   "metadata": {
    "collapsed": false
   }
  },
  {
   "cell_type": "code",
   "execution_count": 29,
   "outputs": [
    {
     "data": {
      "text/plain": "array([1.28800000e+02, 1.65920000e+04, 2.13770980e+06, 2.75464735e+08])"
     },
     "execution_count": 29,
     "metadata": {},
     "output_type": "execute_result"
    }
   ],
   "source": [
    "m_k_x = np.array([np.sum(np.power(x_avgs, k) * m_x) for k in range(1, 5)]) / n\n",
    "m_k_x"
   ],
   "metadata": {
    "collapsed": false,
    "ExecuteTime": {
     "start_time": "2023-05-10T02:42:56.935712Z",
     "end_time": "2023-05-10T02:42:57.032735Z"
    }
   }
  },
  {
   "cell_type": "code",
   "execution_count": 30,
   "outputs": [
    {
     "data": {
      "text/plain": "128.8"
     },
     "execution_count": 30,
     "metadata": {},
     "output_type": "execute_result"
    }
   ],
   "source": [
    "x_sample = m_k_x[0]\n",
    "x_sample"
   ],
   "metadata": {
    "collapsed": false,
    "ExecuteTime": {
     "start_time": "2023-05-10T02:42:56.941713Z",
     "end_time": "2023-05-10T02:42:57.032735Z"
    }
   }
  },
  {
   "cell_type": "code",
   "execution_count": 31,
   "outputs": [
    {
     "data": {
      "text/plain": "2.5599999999976717"
     },
     "execution_count": 31,
     "metadata": {},
     "output_type": "execute_result"
    }
   ],
   "source": [
    "s_2_x = m_k_x[1] - x_sample ** 2\n",
    "s_2_x"
   ],
   "metadata": {
    "collapsed": false,
    "ExecuteTime": {
     "start_time": "2023-05-10T02:42:56.951715Z",
     "end_time": "2023-05-10T02:42:57.032735Z"
    }
   }
  },
  {
   "cell_type": "code",
   "execution_count": 32,
   "outputs": [
    {
     "data": {
      "text/plain": "2.8444444444418573"
     },
     "execution_count": 32,
     "metadata": {},
     "output_type": "execute_result"
    }
   ],
   "source": [
    "s_2_x_corrected = (s_2_x * n) / (n - 1)\n",
    "s_2_x_corrected"
   ],
   "metadata": {
    "collapsed": false,
    "ExecuteTime": {
     "start_time": "2023-05-10T02:42:56.957716Z",
     "end_time": "2023-05-10T02:42:57.032735Z"
    }
   }
  },
  {
   "cell_type": "code",
   "execution_count": 33,
   "outputs": [
    {
     "data": {
      "text/plain": "0.3396838065422423"
     },
     "execution_count": 33,
     "metadata": {},
     "output_type": "execute_result"
    }
   ],
   "source": [
    "a_sample_x = (m_k_x[2] - 3 * m_k_x[0] * m_k_x[1] + 2 * m_k_x[0] ** 3) / s_2_x_corrected ** (3 / 4)\n",
    "a_sample_x"
   ],
   "metadata": {
    "collapsed": false,
    "ExecuteTime": {
     "start_time": "2023-05-10T02:42:56.965719Z",
     "end_time": "2023-05-10T02:42:57.032735Z"
    }
   }
  },
  {
   "cell_type": "code",
   "execution_count": 34,
   "outputs": [
    {
     "data": {
      "text/plain": "-0.7531201548076805"
     },
     "execution_count": 34,
     "metadata": {},
     "output_type": "execute_result"
    }
   ],
   "source": [
    "excess_x = (m_k_x[3] - 4 * m_k_x[0] * m_k_x[2] + 6 * m_k_x[0] ** 2 * m_k_x[1] -\n",
    "            3 * m_k_x[0] ** 4) / s_2_x_corrected ** 2 - 3\n",
    "excess_x"
   ],
   "metadata": {
    "collapsed": false,
    "ExecuteTime": {
     "start_time": "2023-05-10T02:42:56.975721Z",
     "end_time": "2023-05-10T02:42:57.032735Z"
    }
   }
  },
  {
   "cell_type": "markdown",
   "source": [
    "### Для y"
   ],
   "metadata": {
    "collapsed": false
   }
  },
  {
   "cell_type": "code",
   "execution_count": 35,
   "outputs": [
    {
     "data": {
      "text/plain": "array([2.700000e+01, 7.318000e+02, 1.991460e+04, 5.442358e+05])"
     },
     "execution_count": 35,
     "metadata": {},
     "output_type": "execute_result"
    }
   ],
   "source": [
    "m_k_y = np.array([np.sum(np.power(y_avgs, k) * m_y) for k in range(1, 5)]) / n\n",
    "m_k_y"
   ],
   "metadata": {
    "collapsed": false,
    "ExecuteTime": {
     "start_time": "2023-05-10T02:42:56.984723Z",
     "end_time": "2023-05-10T02:42:57.032735Z"
    }
   }
  },
  {
   "cell_type": "code",
   "execution_count": 36,
   "outputs": [
    {
     "data": {
      "text/plain": "27.0"
     },
     "execution_count": 36,
     "metadata": {},
     "output_type": "execute_result"
    }
   ],
   "source": [
    "y_sample = m_k_y[0]\n",
    "y_sample"
   ],
   "metadata": {
    "collapsed": false,
    "ExecuteTime": {
     "start_time": "2023-05-10T02:42:56.991725Z",
     "end_time": "2023-05-10T02:42:57.033735Z"
    }
   }
  },
  {
   "cell_type": "code",
   "execution_count": 37,
   "outputs": [
    {
     "data": {
      "text/plain": "2.7999999999999545"
     },
     "execution_count": 37,
     "metadata": {},
     "output_type": "execute_result"
    }
   ],
   "source": [
    "s_2_y = m_k_y[1] - y_sample ** 2\n",
    "s_2_y"
   ],
   "metadata": {
    "collapsed": false,
    "ExecuteTime": {
     "start_time": "2023-05-10T02:42:56.997728Z",
     "end_time": "2023-05-10T02:42:57.033735Z"
    }
   }
  },
  {
   "cell_type": "code",
   "execution_count": 38,
   "outputs": [
    {
     "data": {
      "text/plain": "3.1111111111110605"
     },
     "execution_count": 38,
     "metadata": {},
     "output_type": "execute_result"
    }
   ],
   "source": [
    "s_2_y_corrected = (s_2_y * n) / (n - 1)\n",
    "s_2_y_corrected"
   ],
   "metadata": {
    "collapsed": false,
    "ExecuteTime": {
     "start_time": "2023-05-10T02:42:57.005729Z",
     "end_time": "2023-05-10T02:42:57.034735Z"
    }
   }
  },
  {
   "cell_type": "code",
   "execution_count": 39,
   "outputs": [
    {
     "data": {
      "text/plain": "2.0490596247768273"
     },
     "execution_count": 39,
     "metadata": {},
     "output_type": "execute_result"
    }
   ],
   "source": [
    "a_sample_y = (m_k_y[2] - 3 * m_k_y[0] * m_k_y[1] + 2 * m_k_y[0] ** 3) / (s_2_y_corrected ** (3 / 4))\n",
    "a_sample_y"
   ],
   "metadata": {
    "collapsed": false,
    "ExecuteTime": {
     "start_time": "2023-05-10T02:42:57.012731Z",
     "end_time": "2023-05-10T02:42:57.034735Z"
    }
   }
  },
  {
   "cell_type": "code",
   "execution_count": 40,
   "outputs": [
    {
     "data": {
      "text/plain": "0.016836734689164246"
     },
     "execution_count": 40,
     "metadata": {},
     "output_type": "execute_result"
    }
   ],
   "source": [
    "excess_y = (m_k_y[3] - 4 * m_k_y[0] * m_k_y[2] + 6 * m_k_y[0] ** 2 * m_k_y[1] - 3 * m_k_y[\n",
    "    0] ** 4) / s_2_y_corrected ** 2 - 3\n",
    "excess_y"
   ],
   "metadata": {
    "collapsed": false,
    "ExecuteTime": {
     "start_time": "2023-05-10T02:42:57.020731Z",
     "end_time": "2023-05-10T02:42:57.034735Z"
    }
   }
  },
  {
   "cell_type": "markdown",
   "source": [
    "# Выборочный коэффициент корреляции"
   ],
   "metadata": {
    "collapsed": false
   }
  },
  {
   "cell_type": "code",
   "execution_count": 41,
   "outputs": [
    {
     "data": {
      "text/plain": "10"
     },
     "execution_count": 41,
     "metadata": {},
     "output_type": "execute_result"
    }
   ],
   "source": [
    "n_corr = []\n",
    "for i in range(N):\n",
    "    n_i = []\n",
    "    for j in range(N):\n",
    "        n_i_j = 0\n",
    "\n",
    "        for k in range(n):\n",
    "            # это условие неверно, но да чёрт с ним -- работает же)))\n",
    "            if x_intervals[i] <= x[k] < x_intervals[i + 1] and y_intervals[j] <= y[k] < y_intervals[j + 1]:\n",
    "                n_i_j += 1\n",
    "        n_i.append(n_i_j)\n",
    "    n_corr.append(n_i)\n",
    "np.sum(n_corr)"
   ],
   "metadata": {
    "collapsed": false,
    "ExecuteTime": {
     "start_time": "2023-05-10T02:42:57.038735Z",
     "end_time": "2023-05-10T02:42:57.059740Z"
    }
   }
  },
  {
   "cell_type": "code",
   "execution_count": 42,
   "outputs": [
    {
     "data": {
      "text/plain": "[[1, 0, 0, 0, 0, 0, 0],\n [0, 1, 0, 0, 0, 0, 0],\n [1, 0, 1, 0, 0, 0, 0],\n [0, 1, 1, 1, 0, 0, 0],\n [0, 0, 1, 1, 0, 0, 0],\n [0, 0, 0, 0, 0, 0, 0],\n [0, 0, 0, 0, 0, 0, 1]]"
     },
     "execution_count": 42,
     "metadata": {},
     "output_type": "execute_result"
    }
   ],
   "source": [
    "n_corr"
   ],
   "metadata": {
    "collapsed": false,
    "ExecuteTime": {
     "start_time": "2023-05-10T02:42:57.046737Z",
     "end_time": "2023-05-10T02:42:57.897930Z"
    }
   }
  },
  {
   "cell_type": "code",
   "execution_count": 43,
   "outputs": [
    {
     "data": {
      "text/plain": "0.7731635066635438"
     },
     "execution_count": 43,
     "metadata": {},
     "output_type": "execute_result"
    }
   ],
   "source": [
    "r_sample = (np.sum(\n",
    "    [x_avgs[i] * y_avgs[j] * n_corr[i][j] for i in range(N) for j in range(N)]) - n * x_sample * y_sample) / (\n",
    "                   n * np.sqrt(s_2_x_corrected * s_2_y_corrected))\n",
    "r_sample"
   ],
   "metadata": {
    "collapsed": false,
    "ExecuteTime": {
     "start_time": "2023-05-10T02:42:57.057739Z",
     "end_time": "2023-05-10T02:42:57.898931Z"
    }
   }
  },
  {
   "cell_type": "code",
   "execution_count": 44,
   "outputs": [
    {
     "data": {
      "text/plain": "0.7731635066636049"
     },
     "execution_count": 44,
     "metadata": {},
     "output_type": "execute_result"
    }
   ],
   "source": [
    "r = (np.sum(x * y) / n - np.sum(x) / n * np.sum(y) / n) / (np.sqrt(s_2_x_corrected * s_2_y_corrected))\n",
    "r"
   ],
   "metadata": {
    "collapsed": false,
    "ExecuteTime": {
     "start_time": "2023-05-10T02:42:57.067742Z",
     "end_time": "2023-05-10T02:42:57.898931Z"
    }
   }
  },
  {
   "cell_type": "markdown",
   "source": [
    "# Lab №7"
   ],
   "metadata": {
    "collapsed": false
   }
  },
  {
   "cell_type": "markdown",
   "source": [
    "## Доверительный интервал, дисперсия неизвестна"
   ],
   "metadata": {
    "collapsed": false
   }
  },
  {
   "cell_type": "code",
   "execution_count": 45,
   "outputs": [],
   "source": [
    "gamma_1 = 0.99\n",
    "gamma_2 = 0.95"
   ],
   "metadata": {
    "collapsed": false,
    "ExecuteTime": {
     "start_time": "2023-05-10T02:42:57.076743Z",
     "end_time": "2023-05-10T02:42:57.900931Z"
    }
   }
  },
  {
   "cell_type": "code",
   "execution_count": 46,
   "outputs": [
    {
     "data": {
      "text/plain": "(1.6865480854223687, 1.7638342073763793)"
     },
     "execution_count": 46,
     "metadata": {},
     "output_type": "execute_result"
    }
   ],
   "source": [
    "sigma_x = s_2_x_corrected ** 0.5\n",
    "sigma_y = s_2_y_corrected ** 0.5\n",
    "(sigma_x, sigma_y)"
   ],
   "metadata": {
    "collapsed": false,
    "ExecuteTime": {
     "start_time": "2023-05-10T02:42:57.080745Z",
     "end_time": "2023-05-10T02:42:57.918936Z"
    }
   }
  },
  {
   "cell_type": "markdown",
   "source": [
    "### Для x"
   ],
   "metadata": {
    "collapsed": false
   }
  },
  {
   "cell_type": "code",
   "execution_count": 47,
   "outputs": [],
   "source": [
    "t_1 = t.ppf(gamma_1, n - 1)\n",
    "t_2 = t.ppf(gamma_2, n - 1)"
   ],
   "metadata": {
    "collapsed": false,
    "ExecuteTime": {
     "start_time": "2023-05-10T02:42:57.087748Z",
     "end_time": "2023-05-10T02:42:57.918936Z"
    }
   }
  },
  {
   "cell_type": "code",
   "execution_count": 48,
   "outputs": [
    {
     "data": {
      "text/plain": "(127.29523310757374, 130.3047668924263)"
     },
     "execution_count": 48,
     "metadata": {},
     "output_type": "execute_result"
    }
   ],
   "source": [
    "length = t_1 * sigma_x / n ** 0.5\n",
    "confidence_interval_dispersion_unknown_x_1 = (x_sample - length, x_sample + length)\n",
    "confidence_interval_dispersion_unknown_x_1"
   ],
   "metadata": {
    "collapsed": false,
    "ExecuteTime": {
     "start_time": "2023-05-10T02:42:57.093748Z",
     "end_time": "2023-05-10T02:42:57.918936Z"
    }
   }
  },
  {
   "cell_type": "code",
   "execution_count": 49,
   "outputs": [
    {
     "data": {
      "text/plain": "(127.82233976925185, 129.77766023074818)"
     },
     "execution_count": 49,
     "metadata": {},
     "output_type": "execute_result"
    }
   ],
   "source": [
    "length = t_2 * sigma_x / n ** 0.5\n",
    "confidence_interval_dispersion_unknown_x_2 = (x_sample - length, x_sample + length)\n",
    "confidence_interval_dispersion_unknown_x_2"
   ],
   "metadata": {
    "collapsed": false,
    "ExecuteTime": {
     "start_time": "2023-05-10T02:42:57.099750Z",
     "end_time": "2023-05-10T02:42:57.918936Z"
    }
   }
  },
  {
   "cell_type": "markdown",
   "source": [
    "### Для y"
   ],
   "metadata": {
    "collapsed": false
   }
  },
  {
   "cell_type": "code",
   "execution_count": 50,
   "outputs": [
    {
     "data": {
      "text/plain": "(25.426277114818088, 28.573722885181912)"
     },
     "execution_count": 50,
     "metadata": {},
     "output_type": "execute_result"
    }
   ],
   "source": [
    "length = t_1 * sigma_y / n ** 0.5\n",
    "confidence_interval_dispersion_unknown_y_1 = (y_sample - length, y_sample + length)\n",
    "confidence_interval_dispersion_unknown_y_1"
   ],
   "metadata": {
    "collapsed": false,
    "ExecuteTime": {
     "start_time": "2023-05-10T02:42:57.106751Z",
     "end_time": "2023-05-10T02:42:57.919936Z"
    }
   }
  },
  {
   "cell_type": "code",
   "execution_count": 51,
   "outputs": [
    {
     "data": {
      "text/plain": "(25.97753845675071, 28.02246154324929)"
     },
     "execution_count": 51,
     "metadata": {},
     "output_type": "execute_result"
    }
   ],
   "source": [
    "length = t_2 * sigma_y / n ** 0.5\n",
    "confidence_interval_dispersion_unknown_y_2 = (y_sample - length, y_sample + length)\n",
    "confidence_interval_dispersion_unknown_y_2"
   ],
   "metadata": {
    "collapsed": false,
    "ExecuteTime": {
     "start_time": "2023-05-10T02:42:57.112752Z",
     "end_time": "2023-05-10T02:42:57.919936Z"
    }
   }
  },
  {
   "cell_type": "markdown",
   "source": [
    "## Доверительный интервал, дисперсия известна"
   ],
   "metadata": {
    "collapsed": false
   }
  },
  {
   "cell_type": "code",
   "execution_count": 52,
   "outputs": [],
   "source": [
    "big_f = lambda x: erf(x / 2 ** 0.5) / 2"
   ],
   "metadata": {
    "collapsed": false,
    "ExecuteTime": {
     "start_time": "2023-05-10T02:42:57.120754Z",
     "end_time": "2023-05-10T02:42:57.919936Z"
    }
   }
  },
  {
   "cell_type": "code",
   "execution_count": 53,
   "outputs": [
    {
     "data": {
      "text/plain": "2.55"
     },
     "execution_count": 53,
     "metadata": {},
     "output_type": "execute_result"
    }
   ],
   "source": [
    "z_1 = 0\n",
    "for i in range(500):\n",
    "    if np.abs(np.round(big_f(float(i / 100)), 3) - gamma_1 / 2) <= 0.001:\n",
    "        z_1 = float(i / 100)\n",
    "        break\n",
    "z_1"
   ],
   "metadata": {
    "collapsed": false,
    "ExecuteTime": {
     "start_time": "2023-05-10T02:42:57.126755Z",
     "end_time": "2023-05-10T02:42:57.920936Z"
    }
   }
  },
  {
   "cell_type": "code",
   "execution_count": 54,
   "outputs": [
    {
     "data": {
      "text/plain": "1.96"
     },
     "execution_count": 54,
     "metadata": {},
     "output_type": "execute_result"
    }
   ],
   "source": [
    "z_2 = 0\n",
    "for i in range(500):\n",
    "    if np.abs(np.round(big_f(float(i / 100)), 3) - gamma_2 / 2) <= 0.001:\n",
    "        z_2 = float(i / 100)\n",
    "        break\n",
    "z_2"
   ],
   "metadata": {
    "collapsed": false,
    "ExecuteTime": {
     "start_time": "2023-05-10T02:42:57.139758Z",
     "end_time": "2023-05-10T02:42:57.920936Z"
    }
   }
  },
  {
   "cell_type": "markdown",
   "source": [
    "### Для x"
   ],
   "metadata": {
    "collapsed": false
   }
  },
  {
   "cell_type": "code",
   "execution_count": 55,
   "outputs": [
    {
     "data": {
      "text/plain": "(127.44000000000062, 130.1599999999994)"
     },
     "execution_count": 55,
     "metadata": {},
     "output_type": "execute_result"
    }
   ],
   "source": [
    "length = z_1 * sigma_x / n ** 0.5\n",
    "confidence_interval_x_1 = (x_sample - length, x_sample + length)\n",
    "confidence_interval_x_1"
   ],
   "metadata": {
    "collapsed": false,
    "ExecuteTime": {
     "start_time": "2023-05-10T02:42:57.149761Z",
     "end_time": "2023-05-10T02:42:57.921936Z"
    }
   }
  },
  {
   "cell_type": "code",
   "execution_count": 56,
   "outputs": [
    {
     "data": {
      "text/plain": "(127.75466666666715, 129.84533333333286)"
     },
     "execution_count": 56,
     "metadata": {},
     "output_type": "execute_result"
    }
   ],
   "source": [
    "length = z_2 * sigma_x / n ** 0.5\n",
    "confidence_interval_x_2 = (x_sample - length, x_sample + length)\n",
    "confidence_interval_x_2"
   ],
   "metadata": {
    "collapsed": false,
    "ExecuteTime": {
     "start_time": "2023-05-10T02:42:57.155762Z",
     "end_time": "2023-05-10T02:42:57.921936Z"
    }
   }
  },
  {
   "cell_type": "markdown",
   "source": [
    "### Для y"
   ],
   "metadata": {
    "collapsed": false
   }
  },
  {
   "cell_type": "code",
   "execution_count": 57,
   "outputs": [
    {
     "data": {
      "text/plain": "(25.577677954892085, 28.422322045107915)"
     },
     "execution_count": 57,
     "metadata": {},
     "output_type": "execute_result"
    }
   ],
   "source": [
    "length = z_1 * sigma_y / n ** 0.5\n",
    "confidence_interval_y_1 = (y_sample - length, y_sample + length)\n",
    "confidence_interval_y_1"
   ],
   "metadata": {
    "collapsed": false,
    "ExecuteTime": {
     "start_time": "2023-05-10T02:42:57.162764Z",
     "end_time": "2023-05-10T02:42:57.921936Z"
    }
   }
  },
  {
   "cell_type": "code",
   "execution_count": 58,
   "outputs": [
    {
     "data": {
      "text/plain": "(25.906764231995485, 28.093235768004515)"
     },
     "execution_count": 58,
     "metadata": {},
     "output_type": "execute_result"
    }
   ],
   "source": [
    "length = z_2 * sigma_y / n ** 0.5\n",
    "confidence_interval_y_2 = (y_sample - length, y_sample + length)\n",
    "confidence_interval_y_2"
   ],
   "metadata": {
    "collapsed": false,
    "ExecuteTime": {
     "start_time": "2023-05-10T02:42:57.169766Z",
     "end_time": "2023-05-10T02:42:57.921936Z"
    }
   }
  },
  {
   "cell_type": "markdown",
   "source": [
    "## Доверительные интервалы для дисперсии"
   ],
   "metadata": {
    "collapsed": false
   }
  },
  {
   "cell_type": "code",
   "execution_count": 59,
   "outputs": [],
   "source": [
    "chi2_1_1 = chi2.ppf(1 - (1 - gamma_1) / 2, n - 1)\n",
    "chi2_1_2 = chi2.ppf((1 - gamma_1) / 2, n - 1)\n",
    "\n",
    "chi2_2_1 = chi2.ppf(1 - (1 - gamma_2) / 2, n - 1)\n",
    "chi2_2_2 = chi2.ppf((1 - gamma_2) / 2, n - 1)"
   ],
   "metadata": {
    "collapsed": false,
    "ExecuteTime": {
     "start_time": "2023-05-10T02:42:57.173766Z",
     "end_time": "2023-05-10T02:42:57.922936Z"
    }
   }
  },
  {
   "cell_type": "markdown",
   "source": [
    "### Для x"
   ],
   "metadata": {
    "collapsed": false
   }
  },
  {
   "cell_type": "code",
   "execution_count": 60,
   "outputs": [
    {
     "data": {
      "text/plain": "(14.755613848955152, 1.0852354622797362)"
     },
     "execution_count": 60,
     "metadata": {},
     "output_type": "execute_result"
    }
   ],
   "source": [
    "sas = (n - 1) * s_2_x_corrected\n",
    "confidence_interval_sigma_x_1 = (sas / chi2_1_2, sas / chi2_1_1)\n",
    "confidence_interval_sigma_x_1"
   ],
   "metadata": {
    "collapsed": false,
    "ExecuteTime": {
     "start_time": "2023-05-10T02:42:57.182768Z",
     "end_time": "2023-05-10T02:42:57.922936Z"
    }
   }
  },
  {
   "cell_type": "code",
   "execution_count": 61,
   "outputs": [
    {
     "data": {
      "text/plain": "(9.480113887334742, 1.3457557948956698)"
     },
     "execution_count": 61,
     "metadata": {},
     "output_type": "execute_result"
    }
   ],
   "source": [
    "confidence_interval_sigma_x_2 = (sas / chi2_2_2, sas / chi2_2_1)\n",
    "confidence_interval_sigma_x_2"
   ],
   "metadata": {
    "collapsed": false,
    "ExecuteTime": {
     "start_time": "2023-05-10T02:42:57.190770Z",
     "end_time": "2023-05-10T02:42:57.922936Z"
    }
   }
  },
  {
   "cell_type": "markdown",
   "source": [
    "### Для y"
   ],
   "metadata": {
    "collapsed": false
   }
  },
  {
   "cell_type": "code",
   "execution_count": 62,
   "outputs": [
    {
     "data": {
      "text/plain": "(16.13895264730911, 1.1869762868695217)"
     },
     "execution_count": 62,
     "metadata": {},
     "output_type": "execute_result"
    }
   ],
   "source": [
    "sas = (n - 1) * s_2_y_corrected\n",
    "confidence_interval_sigma_y_1 = (sas / chi2_1_2, sas / chi2_1_1)\n",
    "confidence_interval_sigma_y_1"
   ],
   "metadata": {
    "collapsed": false,
    "ExecuteTime": {
     "start_time": "2023-05-10T02:42:57.195774Z",
     "end_time": "2023-05-10T02:42:57.922936Z"
    }
   }
  },
  {
   "cell_type": "code",
   "execution_count": 63,
   "outputs": [
    {
     "data": {
      "text/plain": "(10.368874564281636, 1.4719204006684534)"
     },
     "execution_count": 63,
     "metadata": {},
     "output_type": "execute_result"
    }
   ],
   "source": [
    "confidence_interval_sigma_y_2 = (sas / chi2_2_2, sas / chi2_2_1)\n",
    "confidence_interval_sigma_y_2"
   ],
   "metadata": {
    "collapsed": false,
    "ExecuteTime": {
     "start_time": "2023-05-10T02:42:57.201773Z",
     "end_time": "2023-05-10T02:42:57.922936Z"
    }
   }
  },
  {
   "cell_type": "markdown",
   "source": [
    "## Проверка гипотез о законах распределения случайных величин"
   ],
   "metadata": {
    "collapsed": false
   }
  },
  {
   "cell_type": "markdown",
   "source": [
    "### Проверка гипотезы о том, что x распределена по нормальному закону"
   ],
   "metadata": {
    "collapsed": false
   }
  },
  {
   "cell_type": "code",
   "execution_count": 64,
   "outputs": [
    {
     "data": {
      "text/plain": "array([-1.9566593 , -1.36373224, -0.77080518, -0.17787812,  0.41504894,\n        1.007976  ,  1.60090307,  2.19383013])"
     },
     "execution_count": 64,
     "metadata": {},
     "output_type": "execute_result"
    }
   ],
   "source": [
    "u_x = (x_intervals - x_sample) / s_2_x_corrected ** 0.5\n",
    "u_x"
   ],
   "metadata": {
    "collapsed": false,
    "ExecuteTime": {
     "start_time": "2023-05-10T02:42:57.210774Z",
     "end_time": "2023-05-10T02:42:57.922936Z"
    }
   }
  },
  {
   "cell_type": "code",
   "execution_count": 65,
   "outputs": [
    {
     "data": {
      "text/plain": "array([-0.47480623, -0.41367407, -0.27958879, -0.07059065,  0.16094696,\n        0.34326701,  0.4453008 ,  0.48587619])"
     },
     "execution_count": 65,
     "metadata": {},
     "output_type": "execute_result"
    }
   ],
   "source": [
    "f_x = big_f(u_x)\n",
    "f_x"
   ],
   "metadata": {
    "collapsed": false,
    "ExecuteTime": {
     "start_time": "2023-05-10T02:42:57.218776Z",
     "end_time": "2023-05-10T02:42:57.923937Z"
    }
   }
  },
  {
   "cell_type": "code",
   "execution_count": 66,
   "outputs": [
    {
     "data": {
      "text/plain": "0    0.1\n1    0.1\n2    0.2\n3    0.3\n4    0.2\n5    0.0\n6    0.1\nName: p_x, dtype: float64"
     },
     "execution_count": 66,
     "metadata": {},
     "output_type": "execute_result"
    }
   ],
   "source": [
    "df['p_x']"
   ],
   "metadata": {
    "collapsed": false,
    "ExecuteTime": {
     "start_time": "2023-05-10T02:42:57.226778Z",
     "end_time": "2023-05-10T02:42:57.943941Z"
    }
   }
  },
  {
   "cell_type": "code",
   "execution_count": 67,
   "outputs": [
    {
     "data": {
      "text/plain": "array([0.06113216, 0.13408528, 0.20899814, 0.23153761, 0.18232005,\n       0.1020338 , 0.04057538])"
     },
     "execution_count": 67,
     "metadata": {},
     "output_type": "execute_result"
    }
   ],
   "source": [
    "r_x = np.array([big_f(u_x[i + 1]) - big_f(u_x[i]) for i in range(N)])\n",
    "r_x"
   ],
   "metadata": {
    "collapsed": false,
    "ExecuteTime": {
     "start_time": "2023-05-10T02:42:57.233780Z",
     "end_time": "2023-05-10T02:42:57.943941Z"
    }
   }
  },
  {
   "cell_type": "code",
   "execution_count": 68,
   "outputs": [
    {
     "data": {
      "text/plain": "2.4478611716180443"
     },
     "execution_count": 68,
     "metadata": {},
     "output_type": "execute_result"
    }
   ],
   "source": [
    "chi2_x_observed = np.sum((df['p_x'] - r_x) ** 2 / r_x) * n\n",
    "chi2_x_observed"
   ],
   "metadata": {
    "collapsed": false,
    "ExecuteTime": {
     "start_time": "2023-05-10T02:42:57.239781Z",
     "end_time": "2023-05-10T02:42:57.943941Z"
    }
   }
  },
  {
   "cell_type": "code",
   "execution_count": 69,
   "outputs": [
    {
     "data": {
      "text/plain": "True"
     },
     "execution_count": 69,
     "metadata": {},
     "output_type": "execute_result"
    }
   ],
   "source": [
    "chi2_x_observed < chi2.ppf(0.9, n - 1)"
   ],
   "metadata": {
    "collapsed": false,
    "ExecuteTime": {
     "start_time": "2023-05-10T02:42:57.248782Z",
     "end_time": "2023-05-10T02:42:57.954942Z"
    }
   }
  },
  {
   "cell_type": "markdown",
   "source": [
    "Наблюдаемая $ \\chi_p^2\\left(k\\right) $ меньше рассчитанной $ \\chi_{набл}^2 $, следовательно, гипотеза о том, что величина X распределена по нормальному закону, верна."
   ],
   "metadata": {
    "collapsed": false
   }
  },
  {
   "cell_type": "markdown",
   "source": [
    "### Проверка гипотез о законе распеределения y"
   ],
   "metadata": {
    "collapsed": false
   }
  },
  {
   "cell_type": "markdown",
   "source": [
    "##### Проверка гипотезы о том, что величина Y распределена по нормальному закону"
   ],
   "metadata": {
    "collapsed": false
   }
  },
  {
   "cell_type": "code",
   "execution_count": 70,
   "outputs": [
    {
     "data": {
      "text/plain": "array([-1.41736677, -0.85042006, -0.28347335,  0.28347335,  0.85042006,\n        1.41736677,  1.98431348,  2.55126019])"
     },
     "execution_count": 70,
     "metadata": {},
     "output_type": "execute_result"
    }
   ],
   "source": [
    "u_y = (y_intervals - y_sample) / s_2_y_corrected ** 0.5\n",
    "u_y"
   ],
   "metadata": {
    "collapsed": false,
    "ExecuteTime": {
     "start_time": "2023-05-10T02:42:57.254785Z",
     "end_time": "2023-05-10T02:42:57.954942Z"
    }
   }
  },
  {
   "cell_type": "code",
   "execution_count": 71,
   "outputs": [
    {
     "data": {
      "text/plain": "array([-0.42181214, -0.30245421, -0.111593  ,  0.111593  ,  0.30245421,\n        0.42181214,  0.47638955,  0.49463329])"
     },
     "execution_count": 71,
     "metadata": {},
     "output_type": "execute_result"
    }
   ],
   "source": [
    "f_y = big_f(u_y)\n",
    "f_y"
   ],
   "metadata": {
    "collapsed": false,
    "ExecuteTime": {
     "start_time": "2023-05-10T02:42:57.266787Z",
     "end_time": "2023-05-10T02:42:57.954942Z"
    }
   }
  },
  {
   "cell_type": "code",
   "execution_count": 72,
   "outputs": [
    {
     "data": {
      "text/plain": "array([0.11935793, 0.19086121, 0.223186  , 0.19086121, 0.11935793,\n       0.05457741, 0.01824374])"
     },
     "execution_count": 72,
     "metadata": {},
     "output_type": "execute_result"
    }
   ],
   "source": [
    "r_y = np.array([big_f(u_y[i + 1]) - big_f(u_y[i]) for i in range(N)])\n",
    "r_y"
   ],
   "metadata": {
    "collapsed": false,
    "ExecuteTime": {
     "start_time": "2023-05-10T02:42:57.273789Z",
     "end_time": "2023-05-10T02:42:57.955943Z"
    }
   }
  },
  {
   "cell_type": "code",
   "execution_count": 73,
   "outputs": [
    {
     "data": {
      "text/plain": "6.221088388726984"
     },
     "execution_count": 73,
     "metadata": {},
     "output_type": "execute_result"
    }
   ],
   "source": [
    "chi2_y_observed = np.sum((df['p_y'] - r_y) ** 2 / r_y) * n\n",
    "chi2_y_observed"
   ],
   "metadata": {
    "collapsed": false,
    "ExecuteTime": {
     "start_time": "2023-05-10T02:42:57.285791Z",
     "end_time": "2023-05-10T02:42:57.955943Z"
    }
   }
  },
  {
   "cell_type": "code",
   "execution_count": 74,
   "outputs": [
    {
     "data": {
      "text/plain": "True"
     },
     "execution_count": 74,
     "metadata": {},
     "output_type": "execute_result"
    }
   ],
   "source": [
    "chi2_y_observed < chi2.ppf(0.9, n - 1)"
   ],
   "metadata": {
    "collapsed": false,
    "ExecuteTime": {
     "start_time": "2023-05-10T02:42:57.292792Z",
     "end_time": "2023-05-10T02:42:57.955943Z"
    }
   }
  },
  {
   "cell_type": "markdown",
   "source": [
    "Наблюдаемая $ \\chi_p^2\\left(k\\right) $ меньше рассчитанной $ \\chi_{набл}^2 $, следовательно, гипотеза о том, что величина Y распределена по нормальному закону, верна."
   ],
   "metadata": {
    "collapsed": false
   }
  },
  {
   "cell_type": "markdown",
   "source": [
    "##### Проверка гипотезы о том, что величина Y распределена по закону Пуассона"
   ],
   "metadata": {
    "collapsed": false
   }
  },
  {
   "cell_type": "code",
   "execution_count": 75,
   "outputs": [
    {
     "data": {
      "text/plain": "1.3591409142295225"
     },
     "execution_count": 75,
     "metadata": {},
     "output_type": "execute_result"
    }
   ],
   "source": [
    "puasson = lambda x, x_avg: np.e ** x / x_avg\n",
    "puasson(1, 2)"
   ],
   "metadata": {
    "collapsed": false,
    "ExecuteTime": {
     "start_time": "2023-05-10T02:42:57.299794Z",
     "end_time": "2023-05-10T02:42:57.955943Z"
    }
   }
  },
  {
   "cell_type": "code",
   "execution_count": 76,
   "outputs": [
    {
     "data": {
      "text/plain": "array([0.00684756, 0.0120714 , 0.02128038, 0.03751468, 0.06613374,\n       0.1165856 , 0.20552598])"
     },
     "execution_count": 76,
     "metadata": {},
     "output_type": "execute_result"
    }
   ],
   "source": [
    "r_y = np.array([puasson(u_y[i + 1], y_sample) - puasson(u_y[i], y_sample) for i in range(N)])\n",
    "r_y"
   ],
   "metadata": {
    "collapsed": false,
    "ExecuteTime": {
     "start_time": "2023-05-10T02:42:57.307796Z",
     "end_time": "2023-05-10T02:42:57.955943Z"
    }
   }
  },
  {
   "cell_type": "code",
   "execution_count": 77,
   "outputs": [
    {
     "data": {
      "text/plain": "129.65227293577527"
     },
     "execution_count": 77,
     "metadata": {},
     "output_type": "execute_result"
    }
   ],
   "source": [
    "chi2_y_observed = np.sum((df['p_y'] - r_y) ** 2 / r_y) * n\n",
    "chi2_y_observed"
   ],
   "metadata": {
    "collapsed": false,
    "ExecuteTime": {
     "start_time": "2023-05-10T02:42:57.313797Z",
     "end_time": "2023-05-10T02:42:57.955943Z"
    }
   }
  },
  {
   "cell_type": "code",
   "execution_count": 78,
   "outputs": [
    {
     "data": {
      "text/plain": "False"
     },
     "execution_count": 78,
     "metadata": {},
     "output_type": "execute_result"
    }
   ],
   "source": [
    "chi2_y_observed < chi2.ppf(0.9, n - 1)"
   ],
   "metadata": {
    "collapsed": false,
    "ExecuteTime": {
     "start_time": "2023-05-10T02:42:57.321799Z",
     "end_time": "2023-05-10T02:42:57.956943Z"
    }
   }
  },
  {
   "cell_type": "markdown",
   "source": [
    "Наблюдаемая $ \\chi_p^2\\left(k\\right) $ больше рассчитанной $ \\chi_{набл}^2 $, следовательно, гипотеза о том, что величина Y распределена по закону Пуассона, не верна."
   ],
   "metadata": {
    "collapsed": false
   }
  },
  {
   "cell_type": "markdown",
   "source": [
    "##### Проверка гипотезы о том, что величина Y распределена по равномерному закону"
   ],
   "metadata": {
    "collapsed": false
   }
  },
  {
   "cell_type": "code",
   "execution_count": 79,
   "outputs": [
    {
     "data": {
      "text/plain": "array([0.14285714, 0.14285714, 0.14285714, 0.14285714, 0.14285714,\n       0.14285714, 0.14285714])"
     },
     "execution_count": 79,
     "metadata": {},
     "output_type": "execute_result"
    }
   ],
   "source": [
    "r_y = np.array([1 / N for i in range(N)])\n",
    "r_y"
   ],
   "metadata": {
    "collapsed": false,
    "ExecuteTime": {
     "start_time": "2023-05-10T02:42:57.328802Z",
     "end_time": "2023-05-10T02:42:57.956943Z"
    }
   }
  },
  {
   "cell_type": "code",
   "execution_count": 80,
   "outputs": [
    {
     "data": {
      "text/plain": "5.4"
     },
     "execution_count": 80,
     "metadata": {},
     "output_type": "execute_result"
    }
   ],
   "source": [
    "chi2_y_observed = np.sum((df['p_y'] - r_y) ** 2 / r_y) * n\n",
    "chi2_y_observed"
   ],
   "metadata": {
    "collapsed": false,
    "ExecuteTime": {
     "start_time": "2023-05-10T02:42:57.335804Z",
     "end_time": "2023-05-10T02:42:57.956943Z"
    }
   }
  },
  {
   "cell_type": "code",
   "execution_count": 81,
   "outputs": [
    {
     "data": {
      "text/plain": "True"
     },
     "execution_count": 81,
     "metadata": {},
     "output_type": "execute_result"
    }
   ],
   "source": [
    "chi2_y_observed < chi2.ppf(0.9, n - 1)"
   ],
   "metadata": {
    "collapsed": false,
    "ExecuteTime": {
     "start_time": "2023-05-10T02:42:57.345806Z",
     "end_time": "2023-05-10T02:42:57.956943Z"
    }
   }
  },
  {
   "cell_type": "markdown",
   "source": [
    "Наблюдаемая $ \\chi_p^2\\left(k\\right) $ меньше рассчитанной $ \\chi_{набл}^2 $, следовательно, гипотеза о том, что величина Y распределена по равномерному закону, может быть верна, но для неё $ \\chi_{набл}^2 $ больше, чем та же величина, вычисленная при проверке гипотезы о том, что Y распределена по нормальному закону."
   ],
   "metadata": {
    "collapsed": false
   }
  },
  {
   "cell_type": "markdown",
   "source": [
    "# Lab №8"
   ],
   "metadata": {
    "collapsed": false
   }
  },
  {
   "cell_type": "markdown",
   "source": [
    "## Проверка гипотезы о виде связи между X и Y"
   ],
   "metadata": {
    "collapsed": false
   }
  },
  {
   "cell_type": "code",
   "execution_count": 82,
   "outputs": [
    {
     "data": {
      "text/plain": "3.4481447267829717"
     },
     "execution_count": 82,
     "metadata": {},
     "output_type": "execute_result"
    }
   ],
   "source": [
    "t_observed = r_sample * np.sqrt(n - 2) / np.sqrt(1 - r_sample ** 2)\n",
    "t_observed"
   ],
   "metadata": {
    "collapsed": false,
    "ExecuteTime": {
     "start_time": "2023-05-10T02:42:57.351806Z",
     "end_time": "2023-05-10T02:42:57.956943Z"
    }
   }
  },
  {
   "cell_type": "code",
   "execution_count": 83,
   "outputs": [
    {
     "data": {
      "text/plain": "False"
     },
     "execution_count": 83,
     "metadata": {},
     "output_type": "execute_result"
    }
   ],
   "source": [
    "t_observed < t.ppf(0.9, n - 2)"
   ],
   "metadata": {
    "collapsed": false,
    "ExecuteTime": {
     "start_time": "2023-05-10T02:42:57.359808Z",
     "end_time": "2023-05-10T02:42:57.956943Z"
    }
   }
  },
  {
   "cell_type": "markdown",
   "source": [
    "$ |T_{набл} |≥T_p (k) $, значит, X и Y связаны линейно."
   ],
   "metadata": {
    "collapsed": false
   }
  },
  {
   "cell_type": "markdown",
   "source": [
    "## Метод наименьших квадратов для линейной регрессии"
   ],
   "metadata": {
    "collapsed": false
   }
  },
  {
   "cell_type": "code",
   "execution_count": 84,
   "outputs": [],
   "source": [
    "def cool_regression(x, y, scale: int = 2):\n",
    "    matrix = []\n",
    "    for i in range(scale):\n",
    "        coefs_i = []\n",
    "        for j in range(i, i + scale):\n",
    "            coefs_i.append(np.sum(np.power(x, j)))\n",
    "        matrix.append(coefs_i)\n",
    "    vec = [np.sum(y.reshape(len(x), ) * np.power(x, i)) for i in range(scale)]\n",
    "    return np.linalg.solve(matrix, vec)"
   ],
   "metadata": {
    "collapsed": false,
    "ExecuteTime": {
     "start_time": "2023-05-10T02:42:57.371811Z",
     "end_time": "2023-05-10T02:42:57.957944Z"
    }
   }
  },
  {
   "cell_type": "code",
   "execution_count": 85,
   "outputs": [],
   "source": [
    "def cool_function(x, coefficients):\n",
    "    return sum(coefficients[i] * x ** i for i in range(len(coefficients)))"
   ],
   "metadata": {
    "collapsed": false,
    "ExecuteTime": {
     "start_time": "2023-05-10T02:42:57.375811Z",
     "end_time": "2023-05-10T02:42:57.957944Z"
    }
   }
  },
  {
   "cell_type": "code",
   "execution_count": 86,
   "outputs": [
    {
     "data": {
      "text/plain": "array([-88.71875  ,   0.8984375])"
     },
     "execution_count": 86,
     "metadata": {},
     "output_type": "execute_result"
    }
   ],
   "source": [
    "cool_regression(x, y)"
   ],
   "metadata": {
    "collapsed": false,
    "ExecuteTime": {
     "start_time": "2023-05-10T02:42:57.381812Z",
     "end_time": "2023-05-10T02:42:57.957944Z"
    }
   }
  },
  {
   "cell_type": "code",
   "execution_count": 88,
   "outputs": [
    {
     "data": {
      "text/plain": "<matplotlib.collections.PathCollection at 0x24558c48310>"
     },
     "execution_count": 88,
     "metadata": {},
     "output_type": "execute_result"
    },
    {
     "data": {
      "text/plain": "<Figure size 640x480 with 1 Axes>",
      "image/png": "[encoded data removed]"
     },
     "metadata": {},
     "output_type": "display_data"
    }
   ],
   "source": [
    "coefficients = cool_regression(x, y)\n",
    "y_estimate = cool_function(x, coefficients)\n",
    "plt.plot(x, y_estimate, color='red')\n",
    "plt.scatter(x, y)"
   ],
   "metadata": {
    "collapsed": false,
    "ExecuteTime": {
     "start_time": "2023-05-10T02:43:18.494766Z",
     "end_time": "2023-05-10T02:43:18.972874Z"
    }
   }
  },
  {
   "cell_type": "code",
   "execution_count": 89,
   "outputs": [
    {
     "data": {
      "text/plain": "<matplotlib.collections.PathCollection at 0x2455a243220>"
     },
     "execution_count": 89,
     "metadata": {},
     "output_type": "execute_result"
    },
    {
     "data": {
      "text/plain": "<Figure size 640x480 with 1 Axes>",
      "image/png": "[encoded data removed]"
     },
     "metadata": {},
     "output_type": "display_data"
    }
   ],
   "source": [
    "coefficients = cool_regression(x, y, scale=3)\n",
    "y_estimate_2 = cool_function(x, coefficients)\n",
    "plt.plot(x, y_estimate_2, color='red')\n",
    "plt.scatter(x, y)"
   ],
   "metadata": {
    "collapsed": false,
    "ExecuteTime": {
     "start_time": "2023-05-10T02:43:18.690810Z",
     "end_time": "2023-05-10T02:43:19.011884Z"
    }
   }
  },
  {
   "cell_type": "markdown",
   "source": [
    "Среднеквадратическое отклонение между двумя полученными функциями"
   ],
   "metadata": {
    "collapsed": false
   }
  },
  {
   "cell_type": "code",
   "execution_count": 90,
   "outputs": [
    {
     "data": {
      "text/plain": "3.858695194353727e-09"
     },
     "execution_count": 90,
     "metadata": {},
     "output_type": "execute_result"
    }
   ],
   "source": [
    "error = np.sqrt(np.sum(np.power(y_estimate - y_estimate_2, 2))) / n\n",
    "error"
   ],
   "metadata": {
    "collapsed": false,
    "ExecuteTime": {
     "start_time": "2023-05-10T02:43:18.883854Z",
     "end_time": "2023-05-10T02:43:19.011884Z"
    }
   }
  },
  {
   "cell_type": "code",
   "execution_count": 91,
   "outputs": [
    {
     "data": {
      "text/plain": "True"
     },
     "execution_count": 91,
     "metadata": {},
     "output_type": "execute_result"
    }
   ],
   "source": [
    "np.round(error, 5) == 0"
   ],
   "metadata": {
    "collapsed": false,
    "ExecuteTime": {
     "start_time": "2023-05-10T02:43:18.891856Z",
     "end_time": "2023-05-10T02:43:19.011884Z"
    }
   }
  },
  {
   "cell_type": "markdown",
   "source": [
    "Среднеквадратическое отклонение между реальными данными и полученной функцией"
   ],
   "metadata": {
    "collapsed": false
   }
  },
  {
   "cell_type": "code",
   "execution_count": 92,
   "outputs": [
    {
     "data": {
      "text/plain": "0.27084935850025565"
     },
     "execution_count": 92,
     "metadata": {},
     "output_type": "execute_result"
    }
   ],
   "source": [
    "error = np.sqrt(np.sum(np.power(y - y_estimate, 2))) / n\n",
    "error"
   ],
   "metadata": {
    "collapsed": false,
    "ExecuteTime": {
     "start_time": "2023-05-10T02:43:18.899857Z",
     "end_time": "2023-05-10T02:43:19.011884Z"
    }
   }
  }
 ],
 "metadata": {
  "kernelspec": {
   "display_name": "Python 3",
   "language": "python",
   "name": "python3"
  },
  "language_info": {
   "codemirror_mode": {
    "name": "ipython",
    "version": 2
   },
   "file_extension": ".py",
   "mimetype": "text/x-python",
   "name": "python",
   "nbconvert_exporter": "python",
   "pygments_lexer": "ipython2",
   "version": "2.7.6"
  }
 },
 "nbformat": 4,
 "nbformat_minor": 0
}
