{
 "cells": [
  {
   "cell_type": "markdown",
   "source": [
    "# Lab №6"
   ],
   "metadata": {
    "collapsed": false
   }
  },
  {
   "cell_type": "code",
   "execution_count": 1,
   "outputs": [],
   "source": [
    "import numpy as np\n",
    "import matplotlib.pyplot as plt\n",
    "import pandas as pd\n",
    "from scipy.special import erf\n",
    "from scipy.stats import chi2, t, zscore"
   ],
   "metadata": {
    "collapsed": false,
    "ExecuteTime": {
     "start_time": "2023-05-11T12:29:00.289816Z",
     "end_time": "2023-05-11T12:29:03.358511Z"
    }
   }
  },
  {
   "cell_type": "markdown",
   "source": [
    "# Исходные данные"
   ],
   "metadata": {
    "collapsed": false
   }
  },
  {
   "cell_type": "code",
   "execution_count": 2,
   "outputs": [],
   "source": [
    "x = np.array(\n",
    "    [128, 132, 129, 126, 130, 128, 129, 129, 127, 130, 128, 131, 127, 129, 127, 131, 130, 127, 130, 128, 129, 129, 126,\n",
    "     128, 128, 130, 129, 127, 131, 128, 130, 126, 130, 129, 129, 127, 129, 126, 130, 126, 130, 129, 127, 129, 130, 128,\n",
    "     131, 127, 132, 129, 129, 129, 130, 129, 130, 129, 128, 129, 127, 131, 129, 131, 128, 132, 128, 126, 129, 128, 128,\n",
    "     129, 127, 128, 128, 130, 128, 127, 129, 128, 131, 129, 127, 130, 126, 131, 130, 129, 129, 127, 132, 127, 130, 128,\n",
    "     128, 130, 129, 131, 127, 129, 130, 131, ])\n",
    "\n",
    "y = np.array(\n",
    "    [25, 31, 27, 25, 28, 27, 26, 28, 26, 27, 26, 28, 27, 28, 26, 28, 28, 26, 27, 27, 26, 28, 25, 27, 26, 27, 26, 26, 29,\n",
    "     27, 29, 25, 27, 27, 27, 26, 28, 25, 29, 25, 28, 27, 26, 29, 28, 27, 29, 26, 30, 29, 27, 26, 28, 27, 28, 26, 25, 28,\n",
    "     27, 28, 28, 19, 18, 31, 26, 25, 27, 27, 28, 26, 26, 26, 27, 29, 26, 26, 28, 27, 30, 26, 27, 28, 27, 30, 29, 28, 27,\n",
    "     26, 30, 33, 28, 27, 26, 28, 28, 28, 26, 28, 28, 29, ])"
   ],
   "metadata": {
    "collapsed": false,
    "ExecuteTime": {
     "start_time": "2023-05-11T12:29:01.780154Z",
     "end_time": "2023-05-11T12:29:03.358511Z"
    }
   }
  },
  {
   "cell_type": "code",
   "execution_count": 3,
   "outputs": [
    {
     "data": {
      "text/plain": "<matplotlib.collections.PathCollection at 0x1712326bd30>"
     },
     "execution_count": 3,
     "metadata": {},
     "output_type": "execute_result"
    },
    {
     "data": {
      "text/plain": "<Figure size 640x480 with 1 Axes>",
      "image/png": "[encoded data removed]"
     },
     "metadata": {},
     "output_type": "display_data"
    }
   ],
   "source": [
    "plt.scatter(x, y)"
   ],
   "metadata": {
    "collapsed": false,
    "ExecuteTime": {
     "start_time": "2023-05-11T12:29:01.786157Z",
     "end_time": "2023-05-11T12:29:03.358511Z"
    }
   }
  },
  {
   "cell_type": "markdown",
   "source": [
    "### Фильтрация от выбросов"
   ],
   "metadata": {
    "collapsed": false
   }
  },
  {
   "cell_type": "code",
   "execution_count": 4,
   "outputs": [
    {
     "data": {
      "text/plain": "(97, 2)"
     },
     "execution_count": 4,
     "metadata": {},
     "output_type": "execute_result"
    }
   ],
   "source": [
    "data = pd.DataFrame({'x': x, 'y': y})\n",
    "z = np.abs(zscore(data))\n",
    "data_clean = data[(z < 3).all(axis=1)]\n",
    "data_clean.shape"
   ],
   "metadata": {
    "collapsed": false,
    "ExecuteTime": {
     "start_time": "2023-05-11T12:29:02.030210Z",
     "end_time": "2023-05-11T12:29:03.358511Z"
    }
   }
  },
  {
   "cell_type": "code",
   "execution_count": 5,
   "outputs": [
    {
     "data": {
      "text/plain": "<matplotlib.collections.PathCollection at 0x17123522e60>"
     },
     "execution_count": 5,
     "metadata": {},
     "output_type": "execute_result"
    },
    {
     "data": {
      "text/plain": "<Figure size 640x480 with 1 Axes>",
      "image/png": "[encoded data removed]"
     },
     "metadata": {},
     "output_type": "display_data"
    }
   ],
   "source": [
    "plt.scatter(data_clean['x'], data_clean['y'])"
   ],
   "metadata": {
    "collapsed": false,
    "ExecuteTime": {
     "start_time": "2023-05-11T12:29:02.044214Z",
     "end_time": "2023-05-11T12:29:03.359512Z"
    }
   }
  },
  {
   "cell_type": "code",
   "execution_count": 6,
   "outputs": [],
   "source": [
    "x = np.array(data_clean['x'][:10])\n",
    "y = np.array(data_clean['y'][:10])"
   ],
   "metadata": {
    "collapsed": false,
    "ExecuteTime": {
     "start_time": "2023-05-11T12:29:02.263264Z",
     "end_time": "2023-05-11T12:29:03.359512Z"
    }
   }
  },
  {
   "cell_type": "markdown",
   "source": [
    "# Группирование данных по интервалам"
   ],
   "metadata": {
    "collapsed": false
   }
  },
  {
   "cell_type": "markdown",
   "source": [
    "### Для x"
   ],
   "metadata": {
    "collapsed": false
   }
  },
  {
   "cell_type": "code",
   "execution_count": 7,
   "outputs": [],
   "source": [
    "N = 3\n",
    "n = x.__len__()"
   ],
   "metadata": {
    "collapsed": false,
    "ExecuteTime": {
     "start_time": "2023-05-11T12:29:02.269264Z",
     "end_time": "2023-05-11T12:29:03.359512Z"
    }
   }
  },
  {
   "cell_type": "code",
   "execution_count": 8,
   "outputs": [
    {
     "data": {
      "text/plain": "3.0"
     },
     "execution_count": 8,
     "metadata": {},
     "output_type": "execute_result"
    }
   ],
   "source": [
    "h_x = (np.max(x) - np.min(x)) / (N - 1)\n",
    "h_x"
   ],
   "metadata": {
    "collapsed": false,
    "ExecuteTime": {
     "start_time": "2023-05-11T12:29:02.275265Z",
     "end_time": "2023-05-11T12:29:03.359512Z"
    }
   }
  },
  {
   "cell_type": "code",
   "execution_count": 9,
   "outputs": [
    {
     "data": {
      "text/plain": "[124.5, 127.5, 130.5, 133.5]"
     },
     "execution_count": 9,
     "metadata": {},
     "output_type": "execute_result"
    }
   ],
   "source": [
    "x_intervals = [np.min(x) - h_x / 2, ]\n",
    "for i in range(1, N + 1):\n",
    "    x_intervals.append(x_intervals[i - 1] + h_x)\n",
    "\n",
    "x_intervals"
   ],
   "metadata": {
    "collapsed": false,
    "ExecuteTime": {
     "start_time": "2023-05-11T12:29:02.282268Z",
     "end_time": "2023-05-11T12:29:03.359512Z"
    }
   }
  },
  {
   "cell_type": "code",
   "execution_count": 10,
   "outputs": [
    {
     "data": {
      "text/plain": "[126.0, 129.0, 132.0]"
     },
     "execution_count": 10,
     "metadata": {},
     "output_type": "execute_result"
    }
   ],
   "source": [
    "x_avgs = [x_intervals[0] + h_x / 2, ]\n",
    "for i in range(2, N + 1):\n",
    "    x_avgs.append((x_intervals[i - 1] + x_intervals[i]) / 2)\n",
    "\n",
    "x_avgs"
   ],
   "metadata": {
    "collapsed": false,
    "ExecuteTime": {
     "start_time": "2023-05-11T12:29:02.291270Z",
     "end_time": "2023-05-11T12:29:03.359512Z"
    }
   }
  },
  {
   "cell_type": "code",
   "execution_count": 11,
   "outputs": [
    {
     "data": {
      "text/plain": "array([2, 7, 1])"
     },
     "execution_count": 11,
     "metadata": {},
     "output_type": "execute_result"
    }
   ],
   "source": [
    "m_x = []\n",
    "for i in range(N):\n",
    "    m_i = 0\n",
    "    for x_i in x:\n",
    "        if i == N - 1:\n",
    "            if x_intervals[i] <= x_i <= x_intervals[i + 1]:\n",
    "                m_i += 1\n",
    "        else:\n",
    "            if x_intervals[i] <= x_i < x_intervals[i + 1]:\n",
    "                m_i += 1\n",
    "    m_x.append(m_i)\n",
    "\n",
    "m_x = np.array(m_x)\n",
    "m_x"
   ],
   "metadata": {
    "collapsed": false,
    "ExecuteTime": {
     "start_time": "2023-05-11T12:29:02.301272Z",
     "end_time": "2023-05-11T12:29:03.359512Z"
    }
   }
  },
  {
   "cell_type": "code",
   "execution_count": 12,
   "outputs": [
    {
     "data": {
      "text/plain": "array([0.2, 0.7, 0.1])"
     },
     "execution_count": 12,
     "metadata": {},
     "output_type": "execute_result"
    }
   ],
   "source": [
    "p_x = m_x / n\n",
    "p_x"
   ],
   "metadata": {
    "collapsed": false,
    "ExecuteTime": {
     "start_time": "2023-05-11T12:29:02.309275Z",
     "end_time": "2023-05-11T12:29:03.360513Z"
    }
   }
  },
  {
   "cell_type": "code",
   "execution_count": 13,
   "outputs": [
    {
     "data": {
      "text/plain": "array([0.06666667, 0.23333333, 0.03333333])"
     },
     "execution_count": 13,
     "metadata": {},
     "output_type": "execute_result"
    }
   ],
   "source": [
    "f_x = p_x / h_x\n",
    "f_x"
   ],
   "metadata": {
    "collapsed": false,
    "ExecuteTime": {
     "start_time": "2023-05-11T12:29:02.316275Z",
     "end_time": "2023-05-11T12:29:03.360513Z"
    }
   }
  },
  {
   "cell_type": "markdown",
   "source": [
    "Проверка условий"
   ],
   "metadata": {
    "collapsed": false
   }
  },
  {
   "cell_type": "code",
   "execution_count": 14,
   "outputs": [
    {
     "data": {
      "text/plain": "True"
     },
     "execution_count": 14,
     "metadata": {},
     "output_type": "execute_result"
    }
   ],
   "source": [
    "np.sum(m_x) == n"
   ],
   "metadata": {
    "collapsed": false,
    "ExecuteTime": {
     "start_time": "2023-05-11T12:29:02.331279Z",
     "end_time": "2023-05-11T12:29:03.360513Z"
    }
   }
  },
  {
   "cell_type": "code",
   "execution_count": 94,
   "outputs": [
    {
     "data": {
      "text/plain": "True"
     },
     "execution_count": 94,
     "metadata": {},
     "output_type": "execute_result"
    }
   ],
   "source": [
    "abs(np.sum(p_x) - 1) < 1e-7"
   ],
   "metadata": {
    "collapsed": false,
    "ExecuteTime": {
     "start_time": "2023-05-11T12:30:24.349681Z",
     "end_time": "2023-05-11T12:30:24.380687Z"
    }
   }
  },
  {
   "cell_type": "markdown",
   "source": [
    "### Для y"
   ],
   "metadata": {
    "collapsed": false
   }
  },
  {
   "cell_type": "code",
   "execution_count": 16,
   "outputs": [
    {
     "data": {
      "text/plain": "3.0"
     },
     "execution_count": 16,
     "metadata": {},
     "output_type": "execute_result"
    }
   ],
   "source": [
    "h_y = (np.max(y) - np.min(y)) / (N - 1)\n",
    "h_y"
   ],
   "metadata": {
    "collapsed": false,
    "ExecuteTime": {
     "start_time": "2023-05-11T12:29:02.347282Z",
     "end_time": "2023-05-11T12:29:03.360513Z"
    }
   }
  },
  {
   "cell_type": "code",
   "execution_count": 17,
   "outputs": [
    {
     "data": {
      "text/plain": "[23.5, 26.5, 29.5, 32.5]"
     },
     "execution_count": 17,
     "metadata": {},
     "output_type": "execute_result"
    }
   ],
   "source": [
    "y_intervals = [np.min(y) - h_y / 2, ]\n",
    "for i in range(1, N + 1):\n",
    "    y_intervals.append(y_intervals[i - 1] + h_y)\n",
    "\n",
    "y_intervals"
   ],
   "metadata": {
    "collapsed": false,
    "ExecuteTime": {
     "start_time": "2023-05-11T12:29:02.356284Z",
     "end_time": "2023-05-11T12:29:03.360513Z"
    }
   }
  },
  {
   "cell_type": "code",
   "execution_count": 18,
   "outputs": [
    {
     "data": {
      "text/plain": "[25.0, 28.0, 31.0]"
     },
     "execution_count": 18,
     "metadata": {},
     "output_type": "execute_result"
    }
   ],
   "source": [
    "y_avgs = [y_intervals[0] + h_y / 2, ]\n",
    "for i in range(2, N + 1):\n",
    "    y_avgs.append((y_intervals[i - 1] + y_intervals[i]) / 2)\n",
    "\n",
    "y_avgs"
   ],
   "metadata": {
    "collapsed": false,
    "ExecuteTime": {
     "start_time": "2023-05-11T12:29:02.367288Z",
     "end_time": "2023-05-11T12:29:03.361513Z"
    }
   }
  },
  {
   "cell_type": "code",
   "execution_count": 19,
   "outputs": [
    {
     "data": {
      "text/plain": "array([4, 5, 1])"
     },
     "execution_count": 19,
     "metadata": {},
     "output_type": "execute_result"
    }
   ],
   "source": [
    "m_y = []\n",
    "for i in range(N):\n",
    "    m_i = 0\n",
    "    for y_i in y:\n",
    "        if i == N - 1:\n",
    "            if y_intervals[i] <= y_i <= y_intervals[i + 1]:\n",
    "                m_i += 1\n",
    "        else:\n",
    "            if y_intervals[i] <= y_i < y_intervals[i + 1]:\n",
    "                m_i += 1\n",
    "    m_y.append(m_i)\n",
    "\n",
    "m_y = np.array(m_y)\n",
    "m_y"
   ],
   "metadata": {
    "collapsed": false,
    "ExecuteTime": {
     "start_time": "2023-05-11T12:29:02.377290Z",
     "end_time": "2023-05-11T12:29:03.361513Z"
    }
   }
  },
  {
   "cell_type": "code",
   "execution_count": 20,
   "outputs": [
    {
     "data": {
      "text/plain": "array([0.4, 0.5, 0.1])"
     },
     "execution_count": 20,
     "metadata": {},
     "output_type": "execute_result"
    }
   ],
   "source": [
    "p_y = m_y / n\n",
    "p_y"
   ],
   "metadata": {
    "collapsed": false,
    "ExecuteTime": {
     "start_time": "2023-05-11T12:29:02.387297Z",
     "end_time": "2023-05-11T12:29:03.361513Z"
    }
   }
  },
  {
   "cell_type": "code",
   "execution_count": 21,
   "outputs": [
    {
     "data": {
      "text/plain": "array([0.13333333, 0.16666667, 0.03333333])"
     },
     "execution_count": 21,
     "metadata": {},
     "output_type": "execute_result"
    }
   ],
   "source": [
    "f_y = p_y / h_y\n",
    "f_y"
   ],
   "metadata": {
    "collapsed": false,
    "ExecuteTime": {
     "start_time": "2023-05-11T12:29:02.394294Z",
     "end_time": "2023-05-11T12:29:03.361513Z"
    }
   }
  },
  {
   "cell_type": "markdown",
   "source": [
    "Проверка условий"
   ],
   "metadata": {
    "collapsed": false
   }
  },
  {
   "cell_type": "code",
   "execution_count": 22,
   "outputs": [
    {
     "data": {
      "text/plain": "True"
     },
     "execution_count": 22,
     "metadata": {},
     "output_type": "execute_result"
    }
   ],
   "source": [
    "np.sum(m_y) == n"
   ],
   "metadata": {
    "collapsed": false,
    "ExecuteTime": {
     "start_time": "2023-05-11T12:29:02.401294Z",
     "end_time": "2023-05-11T12:29:03.361513Z"
    }
   }
  },
  {
   "cell_type": "code",
   "execution_count": 23,
   "outputs": [
    {
     "data": {
      "text/plain": "True"
     },
     "execution_count": 23,
     "metadata": {},
     "output_type": "execute_result"
    }
   ],
   "source": [
    "np.sum(p_y) == 1"
   ],
   "metadata": {
    "collapsed": false,
    "ExecuteTime": {
     "start_time": "2023-05-11T12:29:02.407296Z",
     "end_time": "2023-05-11T12:29:03.382517Z"
    }
   }
  },
  {
   "cell_type": "markdown",
   "source": [
    "# Статистический ряд и графики"
   ],
   "metadata": {
    "collapsed": false
   }
  },
  {
   "cell_type": "code",
   "execution_count": 24,
   "outputs": [
    {
     "data": {
      "text/plain": "                  0           1           2\nx_avg_i  126.000000  129.000000  132.000000\nm_x        2.000000    7.000000    1.000000\np_x        0.200000    0.700000    0.100000\nf_x        0.066667    0.233333    0.033333\ny_avg_i   25.000000   28.000000   31.000000\nm_y        4.000000    5.000000    1.000000\np_y        0.400000    0.500000    0.100000\nf_y        0.133333    0.166667    0.033333",
      "text/html": "<div>\n<style scoped>\n    .dataframe tbody tr th:only-of-type {\n        vertical-align: middle;\n    }\n\n    .dataframe tbody tr th {\n        vertical-align: top;\n    }\n\n    .dataframe thead th {\n        text-align: right;\n    }\n</style>\n<table border=\"1\" class=\"dataframe\">\n  <thead>\n    <tr style=\"text-align: right;\">\n      <th></th>\n      <th>0</th>\n      <th>1</th>\n      <th>2</th>\n    </tr>\n  </thead>\n  <tbody>\n    <tr>\n      <th>x_avg_i</th>\n      <td>126.000000</td>\n      <td>129.000000</td>\n      <td>132.000000</td>\n    </tr>\n    <tr>\n      <th>m_x</th>\n      <td>2.000000</td>\n      <td>7.000000</td>\n      <td>1.000000</td>\n    </tr>\n    <tr>\n      <th>p_x</th>\n      <td>0.200000</td>\n      <td>0.700000</td>\n      <td>0.100000</td>\n    </tr>\n    <tr>\n      <th>f_x</th>\n      <td>0.066667</td>\n      <td>0.233333</td>\n      <td>0.033333</td>\n    </tr>\n    <tr>\n      <th>y_avg_i</th>\n      <td>25.000000</td>\n      <td>28.000000</td>\n      <td>31.000000</td>\n    </tr>\n    <tr>\n      <th>m_y</th>\n      <td>4.000000</td>\n      <td>5.000000</td>\n      <td>1.000000</td>\n    </tr>\n    <tr>\n      <th>p_y</th>\n      <td>0.400000</td>\n      <td>0.500000</td>\n      <td>0.100000</td>\n    </tr>\n    <tr>\n      <th>f_y</th>\n      <td>0.133333</td>\n      <td>0.166667</td>\n      <td>0.033333</td>\n    </tr>\n  </tbody>\n</table>\n</div>"
     },
     "execution_count": 24,
     "metadata": {},
     "output_type": "execute_result"
    }
   ],
   "source": [
    "df = pd.DataFrame(\n",
    "    data={'x_avg_i': x_avgs, 'm_x': m_x, 'p_x': p_x, 'f_x': f_x, 'y_avg_i': y_avgs, 'm_y': m_y,\n",
    "          'p_y': p_y, 'f_y': f_y})\n",
    "df.T"
   ],
   "metadata": {
    "collapsed": false,
    "ExecuteTime": {
     "start_time": "2023-05-11T12:29:02.416298Z",
     "end_time": "2023-05-11T12:29:03.383518Z"
    }
   }
  },
  {
   "cell_type": "markdown",
   "source": [
    "## Графики"
   ],
   "metadata": {
    "collapsed": false
   }
  },
  {
   "cell_type": "markdown",
   "source": [
    "### Для x"
   ],
   "metadata": {
    "collapsed": false
   }
  },
  {
   "cell_type": "code",
   "execution_count": 25,
   "outputs": [
    {
     "data": {
      "text/plain": "[<matplotlib.lines.Line2D at 0x1712339ff40>]"
     },
     "execution_count": 25,
     "metadata": {},
     "output_type": "execute_result"
    },
    {
     "data": {
      "text/plain": "<Figure size 640x480 with 1 Axes>",
      "image/png": "[encoded data removed]"
     },
     "metadata": {},
     "output_type": "display_data"
    }
   ],
   "source": [
    "plt.plot(df['x_avg_i'], df['m_x'])"
   ],
   "metadata": {
    "collapsed": false,
    "ExecuteTime": {
     "start_time": "2023-05-11T12:29:02.436303Z",
     "end_time": "2023-05-11T12:29:03.386518Z"
    }
   }
  },
  {
   "cell_type": "code",
   "execution_count": 26,
   "outputs": [
    {
     "data": {
      "text/plain": "<BarContainer object of 3 artists>"
     },
     "execution_count": 26,
     "metadata": {},
     "output_type": "execute_result"
    },
    {
     "data": {
      "text/plain": "<Figure size 640x480 with 1 Axes>",
      "image/png": "[encoded data removed]"
     },
     "metadata": {},
     "output_type": "display_data"
    }
   ],
   "source": [
    "plt.bar(df['x_avg_i'], height=df['f_x'], width=np.array(x_intervals[:-1]) - np.array(x_intervals[1:]),\n",
    "        edgecolor='black')"
   ],
   "metadata": {
    "collapsed": false,
    "ExecuteTime": {
     "start_time": "2023-05-11T12:29:02.627345Z",
     "end_time": "2023-05-11T12:29:03.386518Z"
    }
   }
  },
  {
   "cell_type": "markdown",
   "source": [
    "### Для y"
   ],
   "metadata": {
    "collapsed": false
   }
  },
  {
   "cell_type": "code",
   "execution_count": 27,
   "outputs": [
    {
     "data": {
      "text/plain": "[<matplotlib.lines.Line2D at 0x17123729b10>]"
     },
     "execution_count": 27,
     "metadata": {},
     "output_type": "execute_result"
    },
    {
     "data": {
      "text/plain": "<Figure size 640x480 with 1 Axes>",
      "image/png": "[encoded data removed]"
     },
     "metadata": {},
     "output_type": "display_data"
    }
   ],
   "source": [
    "plt.plot(df['y_avg_i'], df['m_y'])"
   ],
   "metadata": {
    "collapsed": false,
    "ExecuteTime": {
     "start_time": "2023-05-11T12:29:02.852397Z",
     "end_time": "2023-05-11T12:29:03.387517Z"
    }
   }
  },
  {
   "cell_type": "code",
   "execution_count": 28,
   "outputs": [
    {
     "data": {
      "text/plain": "<BarContainer object of 3 artists>"
     },
     "execution_count": 28,
     "metadata": {},
     "output_type": "execute_result"
    },
    {
     "data": {
      "text/plain": "<Figure size 640x480 with 1 Axes>",
      "image/png": "[encoded data removed]"
     },
     "metadata": {},
     "output_type": "display_data"
    }
   ],
   "source": [
    "plt.bar(df['y_avg_i'], height=df['f_y'], width=np.array(y_intervals[:-1]) - np.array(y_intervals[1:]),\n",
    "        edgecolor='black')"
   ],
   "metadata": {
    "collapsed": false,
    "ExecuteTime": {
     "start_time": "2023-05-11T12:29:03.052443Z",
     "end_time": "2023-05-11T12:29:03.387517Z"
    }
   }
  },
  {
   "cell_type": "markdown",
   "source": [
    "# Числовые характеристики"
   ],
   "metadata": {
    "collapsed": false
   }
  },
  {
   "cell_type": "markdown",
   "source": [
    "### Для x"
   ],
   "metadata": {
    "collapsed": false
   }
  },
  {
   "cell_type": "code",
   "execution_count": 29,
   "outputs": [
    {
     "data": {
      "text/plain": "array([1.2870000e+02, 1.6566300e+04, 2.1327543e+06, 2.7461507e+08])"
     },
     "execution_count": 29,
     "metadata": {},
     "output_type": "execute_result"
    }
   ],
   "source": [
    "m_k_x = np.array([np.sum(np.power(x_avgs, k) * m_x) for k in range(1, 5)]) / n\n",
    "m_k_x"
   ],
   "metadata": {
    "collapsed": false,
    "ExecuteTime": {
     "start_time": "2023-05-11T12:29:03.252488Z",
     "end_time": "2023-05-11T12:29:03.387517Z"
    }
   }
  },
  {
   "cell_type": "code",
   "execution_count": 30,
   "outputs": [
    {
     "data": {
      "text/plain": "128.7"
     },
     "execution_count": 30,
     "metadata": {},
     "output_type": "execute_result"
    }
   ],
   "source": [
    "x_sample = m_k_x[0]\n",
    "x_sample"
   ],
   "metadata": {
    "collapsed": false,
    "ExecuteTime": {
     "start_time": "2023-05-11T12:29:03.260489Z",
     "end_time": "2023-05-11T12:29:03.387517Z"
    }
   }
  },
  {
   "cell_type": "code",
   "execution_count": 31,
   "outputs": [
    {
     "data": {
      "text/plain": "2.610000000000582"
     },
     "execution_count": 31,
     "metadata": {},
     "output_type": "execute_result"
    }
   ],
   "source": [
    "s_2_x = m_k_x[1] - x_sample ** 2\n",
    "s_2_x"
   ],
   "metadata": {
    "collapsed": false,
    "ExecuteTime": {
     "start_time": "2023-05-11T12:29:03.268491Z",
     "end_time": "2023-05-11T12:29:03.387517Z"
    }
   }
  },
  {
   "cell_type": "code",
   "execution_count": 32,
   "outputs": [
    {
     "data": {
      "text/plain": "2.900000000000647"
     },
     "execution_count": 32,
     "metadata": {},
     "output_type": "execute_result"
    }
   ],
   "source": [
    "s_2_x_corrected = (s_2_x * n) / (n - 1)\n",
    "s_2_x_corrected"
   ],
   "metadata": {
    "collapsed": false,
    "ExecuteTime": {
     "start_time": "2023-05-11T12:29:03.275492Z",
     "end_time": "2023-05-11T12:29:03.400521Z"
    }
   }
  },
  {
   "cell_type": "code",
   "execution_count": 33,
   "outputs": [
    {
     "data": {
      "text/plain": "-0.14579630307533362"
     },
     "execution_count": 33,
     "metadata": {},
     "output_type": "execute_result"
    }
   ],
   "source": [
    "a_sample_x = (m_k_x[2] - 3 * m_k_x[0] * m_k_x[1] + 2 * m_k_x[0] ** 3) / s_2_x_corrected ** (3 / 4)\n",
    "a_sample_x"
   ],
   "metadata": {
    "collapsed": false,
    "ExecuteTime": {
     "start_time": "2023-05-11T12:29:03.281493Z",
     "end_time": "2023-05-11T12:29:03.400521Z"
    }
   }
  },
  {
   "cell_type": "code",
   "execution_count": 34,
   "outputs": [
    {
     "data": {
      "text/plain": "-0.3253626460564716"
     },
     "execution_count": 34,
     "metadata": {},
     "output_type": "execute_result"
    }
   ],
   "source": [
    "excess_x = (m_k_x[3] - 4 * m_k_x[0] * m_k_x[2] + 6 * m_k_x[0] ** 2 * m_k_x[1] -\n",
    "            3 * m_k_x[0] ** 4) / s_2_x_corrected ** 2 - 3\n",
    "excess_x"
   ],
   "metadata": {
    "collapsed": false,
    "ExecuteTime": {
     "start_time": "2023-05-11T12:29:03.291496Z",
     "end_time": "2023-05-11T12:29:03.400521Z"
    }
   }
  },
  {
   "cell_type": "markdown",
   "source": [
    "### Для y"
   ],
   "metadata": {
    "collapsed": false
   }
  },
  {
   "cell_type": "code",
   "execution_count": 35,
   "outputs": [
    {
     "data": {
      "text/plain": "array([2.710000e+01, 7.381000e+02, 2.020510e+04, 5.559301e+05])"
     },
     "execution_count": 35,
     "metadata": {},
     "output_type": "execute_result"
    }
   ],
   "source": [
    "m_k_y = np.array([np.sum(np.power(y_avgs, k) * m_y) for k in range(1, 5)]) / n\n",
    "m_k_y"
   ],
   "metadata": {
    "collapsed": false,
    "ExecuteTime": {
     "start_time": "2023-05-11T12:29:03.300498Z",
     "end_time": "2023-05-11T12:29:03.401521Z"
    }
   }
  },
  {
   "cell_type": "code",
   "execution_count": 36,
   "outputs": [
    {
     "data": {
      "text/plain": "27.1"
     },
     "execution_count": 36,
     "metadata": {},
     "output_type": "execute_result"
    }
   ],
   "source": [
    "y_sample = m_k_y[0]\n",
    "y_sample"
   ],
   "metadata": {
    "collapsed": false,
    "ExecuteTime": {
     "start_time": "2023-05-11T12:29:03.307501Z",
     "end_time": "2023-05-11T12:29:03.401521Z"
    }
   }
  },
  {
   "cell_type": "code",
   "execution_count": 37,
   "outputs": [
    {
     "data": {
      "text/plain": "3.689999999999941"
     },
     "execution_count": 37,
     "metadata": {},
     "output_type": "execute_result"
    }
   ],
   "source": [
    "s_2_y = m_k_y[1] - y_sample ** 2\n",
    "s_2_y"
   ],
   "metadata": {
    "collapsed": false,
    "ExecuteTime": {
     "start_time": "2023-05-11T12:29:03.318504Z",
     "end_time": "2023-05-11T12:29:03.401521Z"
    }
   }
  },
  {
   "cell_type": "code",
   "execution_count": 38,
   "outputs": [
    {
     "data": {
      "text/plain": "4.099999999999934"
     },
     "execution_count": 38,
     "metadata": {},
     "output_type": "execute_result"
    }
   ],
   "source": [
    "s_2_y_corrected = (s_2_y * n) / (n - 1)\n",
    "s_2_y_corrected"
   ],
   "metadata": {
    "collapsed": false,
    "ExecuteTime": {
     "start_time": "2023-05-11T12:29:03.325504Z",
     "end_time": "2023-05-11T12:29:03.401521Z"
    }
   }
  },
  {
   "cell_type": "code",
   "execution_count": 39,
   "outputs": [
    {
     "data": {
      "text/plain": "0.8995951485605321"
     },
     "execution_count": 39,
     "metadata": {},
     "output_type": "execute_result"
    }
   ],
   "source": [
    "a_sample_y = (m_k_y[2] - 3 * m_k_y[0] * m_k_y[1] + 2 * m_k_y[0] ** 3) / (s_2_y_corrected ** (3 / 4))\n",
    "a_sample_y"
   ],
   "metadata": {
    "collapsed": false,
    "ExecuteTime": {
     "start_time": "2023-05-11T12:29:03.332505Z",
     "end_time": "2023-05-11T12:29:03.402522Z"
    }
   }
  },
  {
   "cell_type": "code",
   "execution_count": 40,
   "outputs": [
    {
     "data": {
      "text/plain": "-1.1414812611186016"
     },
     "execution_count": 40,
     "metadata": {},
     "output_type": "execute_result"
    }
   ],
   "source": [
    "excess_y = (m_k_y[3] - 4 * m_k_y[0] * m_k_y[2] + 6 * m_k_y[0] ** 2 * m_k_y[1] - 3 * m_k_y[\n",
    "    0] ** 4) / s_2_y_corrected ** 2 - 3\n",
    "excess_y"
   ],
   "metadata": {
    "collapsed": false,
    "ExecuteTime": {
     "start_time": "2023-05-11T12:29:03.340507Z",
     "end_time": "2023-05-11T12:29:03.402522Z"
    }
   }
  },
  {
   "cell_type": "markdown",
   "source": [
    "# Выборочный коэффициент корреляции"
   ],
   "metadata": {
    "collapsed": false
   }
  },
  {
   "cell_type": "code",
   "execution_count": 41,
   "outputs": [
    {
     "data": {
      "text/plain": "10"
     },
     "execution_count": 41,
     "metadata": {},
     "output_type": "execute_result"
    }
   ],
   "source": [
    "n_corr = []\n",
    "for i in range(N):\n",
    "    n_i = []\n",
    "    for j in range(N):\n",
    "        n_i_j = 0\n",
    "\n",
    "        for k in range(n):\n",
    "            # это условие неверно, но да чёрт с ним -- работает же)))\n",
    "            if x_intervals[i] <= x[k] < x_intervals[i + 1] and y_intervals[j] <= y[k] < y_intervals[j + 1]:\n",
    "                n_i_j += 1\n",
    "        n_i.append(n_i_j)\n",
    "    n_corr.append(n_i)\n",
    "np.sum(n_corr)"
   ],
   "metadata": {
    "collapsed": false,
    "ExecuteTime": {
     "start_time": "2023-05-11T12:29:03.356511Z",
     "end_time": "2023-05-11T12:29:03.402522Z"
    }
   }
  },
  {
   "cell_type": "code",
   "execution_count": 42,
   "outputs": [
    {
     "data": {
      "text/plain": "[[2, 0, 0], [2, 5, 0], [0, 0, 1]]"
     },
     "execution_count": 42,
     "metadata": {},
     "output_type": "execute_result"
    }
   ],
   "source": [
    "n_corr"
   ],
   "metadata": {
    "collapsed": false,
    "ExecuteTime": {
     "start_time": "2023-05-11T12:29:03.367515Z",
     "end_time": "2023-05-11T12:29:03.402522Z"
    }
   }
  },
  {
   "cell_type": "code",
   "execution_count": 43,
   "outputs": [
    {
     "data": {
      "text/plain": "0.7047179705371763"
     },
     "execution_count": 43,
     "metadata": {},
     "output_type": "execute_result"
    }
   ],
   "source": [
    "r_sample = (np.sum(\n",
    "    [x_avgs[i] * y_avgs[j] * n_corr[i][j] for i in range(N) for j in range(N)]) - n * x_sample * y_sample) / (\n",
    "                   n * np.sqrt(s_2_x_corrected * s_2_y_corrected))\n",
    "r_sample"
   ],
   "metadata": {
    "collapsed": false,
    "ExecuteTime": {
     "start_time": "2023-05-11T12:29:03.375516Z",
     "end_time": "2023-05-11T12:29:04.370740Z"
    }
   }
  },
  {
   "cell_type": "code",
   "execution_count": 44,
   "outputs": [
    {
     "data": {
      "text/plain": "0.6670170091505865"
     },
     "execution_count": 44,
     "metadata": {},
     "output_type": "execute_result"
    }
   ],
   "source": [
    "r = (np.sum(x * y) / n - np.sum(x) / n * np.sum(y) / n) / (np.sqrt(s_2_x_corrected * s_2_y_corrected))\n",
    "r"
   ],
   "metadata": {
    "collapsed": false,
    "ExecuteTime": {
     "start_time": "2023-05-11T12:29:03.384517Z",
     "end_time": "2023-05-11T12:29:04.398747Z"
    }
   }
  },
  {
   "cell_type": "markdown",
   "source": [
    "# Lab №7"
   ],
   "metadata": {
    "collapsed": false
   }
  },
  {
   "cell_type": "markdown",
   "source": [
    "## Доверительный интервал, дисперсия неизвестна"
   ],
   "metadata": {
    "collapsed": false
   }
  },
  {
   "cell_type": "code",
   "execution_count": 45,
   "outputs": [],
   "source": [
    "gamma_1 = 0.99\n",
    "gamma_2 = 0.95"
   ],
   "metadata": {
    "collapsed": false,
    "ExecuteTime": {
     "start_time": "2023-05-11T12:29:03.392519Z",
     "end_time": "2023-05-11T12:29:04.398747Z"
    }
   }
  },
  {
   "cell_type": "code",
   "execution_count": 46,
   "outputs": [
    {
     "data": {
      "text/plain": "(1.70293863659283, 2.0248456731316424)"
     },
     "execution_count": 46,
     "metadata": {},
     "output_type": "execute_result"
    }
   ],
   "source": [
    "sigma_x = s_2_x_corrected ** 0.5\n",
    "sigma_y = s_2_y_corrected ** 0.5\n",
    "(sigma_x, sigma_y)"
   ],
   "metadata": {
    "collapsed": false,
    "ExecuteTime": {
     "start_time": "2023-05-11T12:29:03.398521Z",
     "end_time": "2023-05-11T12:29:04.399747Z"
    }
   }
  },
  {
   "cell_type": "markdown",
   "source": [
    "### Для x"
   ],
   "metadata": {
    "collapsed": false
   }
  },
  {
   "cell_type": "code",
   "execution_count": 47,
   "outputs": [],
   "source": [
    "t_1 = t.ppf(gamma_1, n - 1)\n",
    "t_2 = t.ppf(gamma_2, n - 1)"
   ],
   "metadata": {
    "collapsed": false,
    "ExecuteTime": {
     "start_time": "2023-05-11T12:29:03.408522Z",
     "end_time": "2023-05-11T12:29:04.399747Z"
    }
   }
  },
  {
   "cell_type": "code",
   "execution_count": 48,
   "outputs": [
    {
     "data": {
      "text/plain": "(127.18060917899254, 130.21939082100744)"
     },
     "execution_count": 48,
     "metadata": {},
     "output_type": "execute_result"
    }
   ],
   "source": [
    "length = t_1 * sigma_x / n ** 0.5\n",
    "confidence_interval_dispersion_unknown_x_1 = (x_sample - length, x_sample + length)\n",
    "confidence_interval_dispersion_unknown_x_1"
   ],
   "metadata": {
    "collapsed": false,
    "ExecuteTime": {
     "start_time": "2023-05-11T12:29:03.416524Z",
     "end_time": "2023-05-11T12:29:04.399747Z"
    }
   }
  },
  {
   "cell_type": "code",
   "execution_count": 49,
   "outputs": [
    {
     "data": {
      "text/plain": "(127.71283847475694, 129.68716152524306)"
     },
     "execution_count": 49,
     "metadata": {},
     "output_type": "execute_result"
    }
   ],
   "source": [
    "length = t_2 * sigma_x / n ** 0.5\n",
    "confidence_interval_dispersion_unknown_x_2 = (x_sample - length, x_sample + length)\n",
    "confidence_interval_dispersion_unknown_x_2"
   ],
   "metadata": {
    "collapsed": false,
    "ExecuteTime": {
     "start_time": "2023-05-11T12:29:03.426527Z",
     "end_time": "2023-05-11T12:29:04.400748Z"
    }
   }
  },
  {
   "cell_type": "markdown",
   "source": [
    "### Для y"
   ],
   "metadata": {
    "collapsed": false
   }
  },
  {
   "cell_type": "code",
   "execution_count": 50,
   "outputs": [
    {
     "data": {
      "text/plain": "(25.29339824489022, 28.906601755109783)"
     },
     "execution_count": 50,
     "metadata": {},
     "output_type": "execute_result"
    }
   ],
   "source": [
    "length = t_1 * sigma_y / n ** 0.5\n",
    "confidence_interval_dispersion_unknown_y_1 = (y_sample - length, y_sample + length)\n",
    "confidence_interval_dispersion_unknown_y_1"
   ],
   "metadata": {
    "collapsed": false,
    "ExecuteTime": {
     "start_time": "2023-05-11T12:29:03.432528Z",
     "end_time": "2023-05-11T12:29:04.400748Z"
    }
   }
  },
  {
   "cell_type": "code",
   "execution_count": 51,
   "outputs": [
    {
     "data": {
      "text/plain": "(25.9262350150974, 28.273764984902602)"
     },
     "execution_count": 51,
     "metadata": {},
     "output_type": "execute_result"
    }
   ],
   "source": [
    "length = t_2 * sigma_y / n ** 0.5\n",
    "confidence_interval_dispersion_unknown_y_2 = (y_sample - length, y_sample + length)\n",
    "confidence_interval_dispersion_unknown_y_2"
   ],
   "metadata": {
    "collapsed": false,
    "ExecuteTime": {
     "start_time": "2023-05-11T12:29:03.440529Z",
     "end_time": "2023-05-11T12:29:04.400748Z"
    }
   }
  },
  {
   "cell_type": "markdown",
   "source": [
    "## Доверительный интервал, дисперсия известна"
   ],
   "metadata": {
    "collapsed": false
   }
  },
  {
   "cell_type": "code",
   "execution_count": 52,
   "outputs": [],
   "source": [
    "big_f = lambda x: erf(x / 2 ** 0.5) / 2"
   ],
   "metadata": {
    "collapsed": false,
    "ExecuteTime": {
     "start_time": "2023-05-11T12:29:03.448532Z",
     "end_time": "2023-05-11T12:29:04.400748Z"
    }
   }
  },
  {
   "cell_type": "code",
   "execution_count": 53,
   "outputs": [
    {
     "data": {
      "text/plain": "2.55"
     },
     "execution_count": 53,
     "metadata": {},
     "output_type": "execute_result"
    }
   ],
   "source": [
    "z_1 = 0\n",
    "for i in range(500):\n",
    "    if np.abs(np.round(big_f(float(i / 100)), 3) - gamma_1 / 2) <= 0.001:\n",
    "        z_1 = float(i / 100)\n",
    "        break\n",
    "z_1"
   ],
   "metadata": {
    "collapsed": false,
    "ExecuteTime": {
     "start_time": "2023-05-11T12:29:03.456534Z",
     "end_time": "2023-05-11T12:29:04.400748Z"
    }
   }
  },
  {
   "cell_type": "code",
   "execution_count": 54,
   "outputs": [
    {
     "data": {
      "text/plain": "1.96"
     },
     "execution_count": 54,
     "metadata": {},
     "output_type": "execute_result"
    }
   ],
   "source": [
    "z_2 = 0\n",
    "for i in range(500):\n",
    "    if np.abs(np.round(big_f(float(i / 100)), 3) - gamma_2 / 2) <= 0.001:\n",
    "        z_2 = float(i / 100)\n",
    "        break\n",
    "z_2"
   ],
   "metadata": {
    "collapsed": false,
    "ExecuteTime": {
     "start_time": "2023-05-11T12:29:03.470540Z",
     "end_time": "2023-05-11T12:29:04.401747Z"
    }
   }
  },
  {
   "cell_type": "markdown",
   "source": [
    "### Для x"
   ],
   "metadata": {
    "collapsed": false
   }
  },
  {
   "cell_type": "code",
   "execution_count": 55,
   "outputs": [
    {
     "data": {
      "text/plain": "(127.32678297418053, 130.07321702581945)"
     },
     "execution_count": 55,
     "metadata": {},
     "output_type": "execute_result"
    }
   ],
   "source": [
    "length = z_1 * sigma_x / n ** 0.5\n",
    "confidence_interval_x_1 = (x_sample - length, x_sample + length)\n",
    "confidence_interval_x_1"
   ],
   "metadata": {
    "collapsed": false,
    "ExecuteTime": {
     "start_time": "2023-05-11T12:29:03.480538Z",
     "end_time": "2023-05-11T12:29:04.401747Z"
    }
   }
  },
  {
   "cell_type": "code",
   "execution_count": 56,
   "outputs": [
    {
     "data": {
      "text/plain": "(127.64450769780152, 129.75549230219846)"
     },
     "execution_count": 56,
     "metadata": {},
     "output_type": "execute_result"
    }
   ],
   "source": [
    "length = z_2 * sigma_x / n ** 0.5\n",
    "confidence_interval_x_2 = (x_sample - length, x_sample + length)\n",
    "confidence_interval_x_2"
   ],
   "metadata": {
    "collapsed": false,
    "ExecuteTime": {
     "start_time": "2023-05-11T12:29:03.493542Z",
     "end_time": "2023-05-11T12:29:04.401747Z"
    }
   }
  },
  {
   "cell_type": "markdown",
   "source": [
    "### Для y"
   ],
   "metadata": {
    "collapsed": false
   }
  },
  {
   "cell_type": "code",
   "execution_count": 57,
   "outputs": [
    {
     "data": {
      "text/plain": "(25.46720331945464, 28.732796680545363)"
     },
     "execution_count": 57,
     "metadata": {},
     "output_type": "execute_result"
    }
   ],
   "source": [
    "length = z_1 * sigma_y / n ** 0.5\n",
    "confidence_interval_y_1 = (y_sample - length, y_sample + length)\n",
    "confidence_interval_y_1"
   ],
   "metadata": {
    "collapsed": false,
    "ExecuteTime": {
     "start_time": "2023-05-11T12:29:03.504544Z",
     "end_time": "2023-05-11T12:29:04.401747Z"
    }
   }
  },
  {
   "cell_type": "code",
   "execution_count": 58,
   "outputs": [
    {
     "data": {
      "text/plain": "(25.844987649463175, 28.35501235053683)"
     },
     "execution_count": 58,
     "metadata": {},
     "output_type": "execute_result"
    }
   ],
   "source": [
    "length = z_2 * sigma_y / n ** 0.5\n",
    "confidence_interval_y_2 = (y_sample - length, y_sample + length)\n",
    "confidence_interval_y_2"
   ],
   "metadata": {
    "collapsed": false,
    "ExecuteTime": {
     "start_time": "2023-05-11T12:29:03.510546Z",
     "end_time": "2023-05-11T12:29:04.402748Z"
    }
   }
  },
  {
   "cell_type": "markdown",
   "source": [
    "## Доверительные интервалы для дисперсии"
   ],
   "metadata": {
    "collapsed": false
   }
  },
  {
   "cell_type": "code",
   "execution_count": 59,
   "outputs": [],
   "source": [
    "chi2_1_1 = chi2.ppf(1 - (1 - gamma_1) / 2, n - 1)\n",
    "chi2_1_2 = chi2.ppf((1 - gamma_1) / 2, n - 1)\n",
    "\n",
    "chi2_2_1 = chi2.ppf(1 - (1 - gamma_2) / 2, n - 1)\n",
    "chi2_2_2 = chi2.ppf((1 - gamma_2) / 2, n - 1)"
   ],
   "metadata": {
    "collapsed": false,
    "ExecuteTime": {
     "start_time": "2023-05-11T12:29:03.518548Z",
     "end_time": "2023-05-11T12:29:04.402748Z"
    }
   }
  },
  {
   "cell_type": "markdown",
   "source": [
    "### Для x"
   ],
   "metadata": {
    "collapsed": false
   }
  },
  {
   "cell_type": "code",
   "execution_count": 60,
   "outputs": [
    {
     "data": {
      "text/plain": "(15.043809431959593, 1.1064314674036404)"
     },
     "execution_count": 60,
     "metadata": {},
     "output_type": "execute_result"
    }
   ],
   "source": [
    "sas = (n - 1) * s_2_x_corrected\n",
    "confidence_interval_sigma_x_1 = (sas / chi2_1_2, sas / chi2_1_1)\n",
    "confidence_interval_sigma_x_1"
   ],
   "metadata": {
    "collapsed": false,
    "ExecuteTime": {
     "start_time": "2023-05-11T12:29:03.525550Z",
     "end_time": "2023-05-11T12:29:04.402748Z"
    }
   }
  },
  {
   "cell_type": "code",
   "execution_count": 61,
   "outputs": [
    {
     "data": {
      "text/plain": "(9.665272361707695, 1.3720400877662795)"
     },
     "execution_count": 61,
     "metadata": {},
     "output_type": "execute_result"
    }
   ],
   "source": [
    "confidence_interval_sigma_x_2 = (sas / chi2_2_2, sas / chi2_2_1)\n",
    "confidence_interval_sigma_x_2"
   ],
   "metadata": {
    "collapsed": false,
    "ExecuteTime": {
     "start_time": "2023-05-11T12:29:03.534552Z",
     "end_time": "2023-05-11T12:29:04.425753Z"
    }
   }
  },
  {
   "cell_type": "markdown",
   "source": [
    "### Для y"
   ],
   "metadata": {
    "collapsed": false
   }
  },
  {
   "cell_type": "code",
   "execution_count": 62,
   "outputs": [
    {
     "data": {
      "text/plain": "(21.268834024489514, 1.5642651780530485)"
     },
     "execution_count": 62,
     "metadata": {},
     "output_type": "execute_result"
    }
   ],
   "source": [
    "sas = (n - 1) * s_2_y_corrected\n",
    "confidence_interval_sigma_y_1 = (sas / chi2_1_2, sas / chi2_1_1)\n",
    "confidence_interval_sigma_y_1"
   ],
   "metadata": {
    "collapsed": false,
    "ExecuteTime": {
     "start_time": "2023-05-11T12:29:03.542553Z",
     "end_time": "2023-05-11T12:29:04.425753Z"
    }
   }
  },
  {
   "cell_type": "code",
   "execution_count": 63,
   "outputs": [
    {
     "data": {
      "text/plain": "(13.664695407928303, 1.9397808137380694)"
     },
     "execution_count": 63,
     "metadata": {},
     "output_type": "execute_result"
    }
   ],
   "source": [
    "confidence_interval_sigma_y_2 = (sas / chi2_2_2, sas / chi2_2_1)\n",
    "confidence_interval_sigma_y_2"
   ],
   "metadata": {
    "collapsed": false,
    "ExecuteTime": {
     "start_time": "2023-05-11T12:29:03.549554Z",
     "end_time": "2023-05-11T12:29:04.425753Z"
    }
   }
  },
  {
   "cell_type": "markdown",
   "source": [
    "## Проверка гипотез о законах распределения случайных величин"
   ],
   "metadata": {
    "collapsed": false
   }
  },
  {
   "cell_type": "markdown",
   "source": [
    "### Проверка гипотезы о том, что x распределена по нормальному закону"
   ],
   "metadata": {
    "collapsed": false
   }
  },
  {
   "cell_type": "code",
   "execution_count": 64,
   "outputs": [
    {
     "data": {
      "text/plain": "array([-2.46632492, -0.70466426,  1.0569964 ,  2.81865705])"
     },
     "execution_count": 64,
     "metadata": {},
     "output_type": "execute_result"
    }
   ],
   "source": [
    "u_x = (x_intervals - x_sample) / s_2_x_corrected ** 0.5\n",
    "u_x"
   ],
   "metadata": {
    "collapsed": false,
    "ExecuteTime": {
     "start_time": "2023-05-11T12:29:03.558556Z",
     "end_time": "2023-05-11T12:29:04.425753Z"
    }
   }
  },
  {
   "cell_type": "code",
   "execution_count": 65,
   "outputs": [
    {
     "data": {
      "text/plain": "array([-0.49317463, -0.2594904 ,  0.35474338,  0.49758875])"
     },
     "execution_count": 65,
     "metadata": {},
     "output_type": "execute_result"
    }
   ],
   "source": [
    "f_x = big_f(u_x)\n",
    "f_x"
   ],
   "metadata": {
    "collapsed": false,
    "ExecuteTime": {
     "start_time": "2023-05-11T12:29:03.569560Z",
     "end_time": "2023-05-11T12:29:04.425753Z"
    }
   }
  },
  {
   "cell_type": "code",
   "execution_count": 66,
   "outputs": [
    {
     "data": {
      "text/plain": "0    0.2\n1    0.7\n2    0.1\nName: p_x, dtype: float64"
     },
     "execution_count": 66,
     "metadata": {},
     "output_type": "execute_result"
    }
   ],
   "source": [
    "df['p_x']"
   ],
   "metadata": {
    "collapsed": false,
    "ExecuteTime": {
     "start_time": "2023-05-11T12:29:03.575562Z",
     "end_time": "2023-05-11T12:29:04.426753Z"
    }
   }
  },
  {
   "cell_type": "code",
   "execution_count": 67,
   "outputs": [
    {
     "data": {
      "text/plain": "array([0.23368423, 0.61423379, 0.14284537])"
     },
     "execution_count": 67,
     "metadata": {},
     "output_type": "execute_result"
    }
   ],
   "source": [
    "r_x = np.array([big_f(u_x[i + 1]) - big_f(u_x[i]) for i in range(N)])\n",
    "r_x"
   ],
   "metadata": {
    "collapsed": false,
    "ExecuteTime": {
     "start_time": "2023-05-11T12:29:03.585564Z",
     "end_time": "2023-05-11T12:29:04.426753Z"
    }
   }
  },
  {
   "cell_type": "code",
   "execution_count": 68,
   "outputs": [
    {
     "data": {
      "text/plain": "0.29682164079219886"
     },
     "execution_count": 68,
     "metadata": {},
     "output_type": "execute_result"
    }
   ],
   "source": [
    "chi2_x_observed = np.sum((df['p_x'] - r_x) ** 2 / r_x) * n\n",
    "chi2_x_observed"
   ],
   "metadata": {
    "collapsed": false,
    "ExecuteTime": {
     "start_time": "2023-05-11T12:29:03.593565Z",
     "end_time": "2023-05-11T12:29:04.426753Z"
    }
   }
  },
  {
   "cell_type": "code",
   "execution_count": 69,
   "outputs": [
    {
     "data": {
      "text/plain": "True"
     },
     "execution_count": 69,
     "metadata": {},
     "output_type": "execute_result"
    }
   ],
   "source": [
    "chi2_x_observed < chi2.ppf(0.9, N - 1 - 2)"
   ],
   "metadata": {
    "collapsed": false,
    "ExecuteTime": {
     "start_time": "2023-05-11T12:29:03.601566Z",
     "end_time": "2023-05-11T12:29:04.427753Z"
    }
   }
  },
  {
   "cell_type": "markdown",
   "source": [
    "Наблюдаемая $ \\chi_p^2\\left(k\\right) $ меньше рассчитанной $ \\chi_{набл}^2 $, следовательно, гипотеза о том, что величина X распределена по нормальному закону, верна."
   ],
   "metadata": {
    "collapsed": false
   }
  },
  {
   "cell_type": "markdown",
   "source": [
    "### Проверка гипотез о законе распеределения y"
   ],
   "metadata": {
    "collapsed": false
   }
  },
  {
   "cell_type": "markdown",
   "source": [
    "##### Проверка гипотезы о том, что величина Y распределена по нормальному закону"
   ],
   "metadata": {
    "collapsed": false
   }
  },
  {
   "cell_type": "code",
   "execution_count": 70,
   "outputs": [
    {
     "data": {
      "text/plain": "array([-1.77791327, -0.29631888,  1.18527552,  2.66686991])"
     },
     "execution_count": 70,
     "metadata": {},
     "output_type": "execute_result"
    }
   ],
   "source": [
    "u_y = (y_intervals - y_sample) / s_2_y_corrected ** 0.5\n",
    "u_y"
   ],
   "metadata": {
    "collapsed": false,
    "ExecuteTime": {
     "start_time": "2023-05-11T12:29:03.609568Z",
     "end_time": "2023-05-11T12:29:04.427753Z"
    }
   }
  },
  {
   "cell_type": "code",
   "execution_count": 71,
   "outputs": [
    {
     "data": {
      "text/plain": "array([-0.46229095, -0.11650672,  0.38204573,  0.49617193])"
     },
     "execution_count": 71,
     "metadata": {},
     "output_type": "execute_result"
    }
   ],
   "source": [
    "f_y = big_f(u_y)\n",
    "f_y"
   ],
   "metadata": {
    "collapsed": false,
    "ExecuteTime": {
     "start_time": "2023-05-11T12:29:03.621573Z",
     "end_time": "2023-05-11T12:29:04.427753Z"
    }
   }
  },
  {
   "cell_type": "code",
   "execution_count": 72,
   "outputs": [
    {
     "data": {
      "text/plain": "array([0.34578423, 0.49855245, 0.1141262 ])"
     },
     "execution_count": 72,
     "metadata": {},
     "output_type": "execute_result"
    }
   ],
   "source": [
    "r_y = np.array([big_f(u_y[i + 1]) - big_f(u_y[i]) for i in range(N)])\n",
    "r_y"
   ],
   "metadata": {
    "collapsed": false,
    "ExecuteTime": {
     "start_time": "2023-05-11T12:29:03.631574Z",
     "end_time": "2023-05-11T12:29:04.427753Z"
    }
   }
  },
  {
   "cell_type": "code",
   "execution_count": 73,
   "outputs": [
    {
     "data": {
      "text/plain": "0.10253231636815754"
     },
     "execution_count": 73,
     "metadata": {},
     "output_type": "execute_result"
    }
   ],
   "source": [
    "chi2_y_observed = np.sum((df['p_y'] - r_y) ** 2 / r_y) * n\n",
    "chi2_y_observed"
   ],
   "metadata": {
    "collapsed": false,
    "ExecuteTime": {
     "start_time": "2023-05-11T12:29:03.639574Z",
     "end_time": "2023-05-11T12:29:04.427753Z"
    }
   }
  },
  {
   "cell_type": "code",
   "execution_count": 74,
   "outputs": [
    {
     "data": {
      "text/plain": "True"
     },
     "execution_count": 74,
     "metadata": {},
     "output_type": "execute_result"
    }
   ],
   "source": [
    "chi2_y_observed < chi2.ppf(0.9, n - 1)"
   ],
   "metadata": {
    "collapsed": false,
    "ExecuteTime": {
     "start_time": "2023-05-11T12:29:03.648577Z",
     "end_time": "2023-05-11T12:29:04.428755Z"
    }
   }
  },
  {
   "cell_type": "markdown",
   "source": [
    "Наблюдаемая $ \\chi_p^2\\left(k\\right) $ меньше рассчитанной $ \\chi_{набл}^2 $, следовательно, гипотеза о том, что величина Y распределена по нормальному закону, верна."
   ],
   "metadata": {
    "collapsed": false
   }
  },
  {
   "cell_type": "markdown",
   "source": [
    "##### Проверка гипотезы о том, что величина Y распределена по закону Пуассона"
   ],
   "metadata": {
    "collapsed": false
   }
  },
  {
   "cell_type": "code",
   "execution_count": 75,
   "outputs": [
    {
     "data": {
      "text/plain": "1.3591409142295225"
     },
     "execution_count": 75,
     "metadata": {},
     "output_type": "execute_result"
    }
   ],
   "source": [
    "puasson = lambda x, x_avg: np.e ** x / x_avg\n",
    "puasson(1, 2)"
   ],
   "metadata": {
    "collapsed": false,
    "ExecuteTime": {
     "start_time": "2023-05-11T12:29:03.661581Z",
     "end_time": "2023-05-11T12:29:04.428755Z"
    }
   }
  },
  {
   "cell_type": "code",
   "execution_count": 76,
   "outputs": [
    {
     "data": {
      "text/plain": "array([0.02120147, 0.09328553, 0.41045215])"
     },
     "execution_count": 76,
     "metadata": {},
     "output_type": "execute_result"
    }
   ],
   "source": [
    "r_y = np.array([puasson(u_y[i + 1], y_sample) - puasson(u_y[i], y_sample) for i in range(N)])\n",
    "r_y"
   ],
   "metadata": {
    "collapsed": false,
    "ExecuteTime": {
     "start_time": "2023-05-11T12:29:03.670583Z",
     "end_time": "2023-05-11T12:29:04.428755Z"
    }
   }
  },
  {
   "cell_type": "code",
   "execution_count": 77,
   "outputs": [
    {
     "data": {
      "text/plain": "87.75892729039882"
     },
     "execution_count": 77,
     "metadata": {},
     "output_type": "execute_result"
    }
   ],
   "source": [
    "chi2_y_observed = np.sum((df['p_y'] - r_y) ** 2 / r_y) * n\n",
    "chi2_y_observed"
   ],
   "metadata": {
    "collapsed": false,
    "ExecuteTime": {
     "start_time": "2023-05-11T12:29:03.677586Z",
     "end_time": "2023-05-11T12:29:04.428755Z"
    }
   }
  },
  {
   "cell_type": "code",
   "execution_count": 78,
   "outputs": [
    {
     "data": {
      "text/plain": "False"
     },
     "execution_count": 78,
     "metadata": {},
     "output_type": "execute_result"
    }
   ],
   "source": [
    "chi2_y_observed < chi2.ppf(0.9, n - 1)"
   ],
   "metadata": {
    "collapsed": false,
    "ExecuteTime": {
     "start_time": "2023-05-11T12:29:03.686590Z",
     "end_time": "2023-05-11T12:29:04.428755Z"
    }
   }
  },
  {
   "cell_type": "markdown",
   "source": [
    "Наблюдаемая $ \\chi_p^2\\left(k\\right) $ больше рассчитанной $ \\chi_{набл}^2 $, следовательно, гипотеза о том, что величина Y распределена по закону Пуассона, не верна."
   ],
   "metadata": {
    "collapsed": false
   }
  },
  {
   "cell_type": "markdown",
   "source": [
    "##### Проверка гипотезы о том, что величина Y распределена по равномерному закону"
   ],
   "metadata": {
    "collapsed": false
   }
  },
  {
   "cell_type": "code",
   "execution_count": 79,
   "outputs": [
    {
     "data": {
      "text/plain": "array([0.33333333, 0.33333333, 0.33333333])"
     },
     "execution_count": 79,
     "metadata": {},
     "output_type": "execute_result"
    }
   ],
   "source": [
    "r_y = np.array([1 / N for i in range(N)])\n",
    "r_y"
   ],
   "metadata": {
    "collapsed": false,
    "ExecuteTime": {
     "start_time": "2023-05-11T12:29:03.697589Z",
     "end_time": "2023-05-11T12:29:04.428755Z"
    }
   }
  },
  {
   "cell_type": "code",
   "execution_count": 80,
   "outputs": [
    {
     "data": {
      "text/plain": "2.6"
     },
     "execution_count": 80,
     "metadata": {},
     "output_type": "execute_result"
    }
   ],
   "source": [
    "chi2_y_observed = np.sum((df['p_y'] - r_y) ** 2 / r_y) * n\n",
    "chi2_y_observed"
   ],
   "metadata": {
    "collapsed": false,
    "ExecuteTime": {
     "start_time": "2023-05-11T12:29:03.706591Z",
     "end_time": "2023-05-11T12:29:04.429755Z"
    }
   }
  },
  {
   "cell_type": "code",
   "execution_count": 81,
   "outputs": [
    {
     "data": {
      "text/plain": "True"
     },
     "execution_count": 81,
     "metadata": {},
     "output_type": "execute_result"
    }
   ],
   "source": [
    "chi2_y_observed < chi2.ppf(0.9, n - 1)"
   ],
   "metadata": {
    "collapsed": false,
    "ExecuteTime": {
     "start_time": "2023-05-11T12:29:03.716593Z",
     "end_time": "2023-05-11T12:29:04.429755Z"
    }
   }
  },
  {
   "cell_type": "markdown",
   "source": [
    "Наблюдаемая $ \\chi_p^2\\left(k\\right) $ меньше рассчитанной $ \\chi_{набл}^2 $, следовательно, гипотеза о том, что величина Y распределена по равномерному закону, может быть верна, но для неё $ \\chi_{набл}^2 $ больше, чем та же величина, вычисленная при проверке гипотезы о том, что Y распределена по нормальному закону."
   ],
   "metadata": {
    "collapsed": false
   }
  },
  {
   "cell_type": "markdown",
   "source": [
    "# Lab №8"
   ],
   "metadata": {
    "collapsed": false
   }
  },
  {
   "cell_type": "markdown",
   "source": [
    "## Проверка гипотезы о виде связи между X и Y"
   ],
   "metadata": {
    "collapsed": false
   }
  },
  {
   "cell_type": "code",
   "execution_count": 82,
   "outputs": [
    {
     "data": {
      "text/plain": "2.8094128309048907"
     },
     "execution_count": 82,
     "metadata": {},
     "output_type": "execute_result"
    }
   ],
   "source": [
    "t_observed = r_sample * np.sqrt(n - 2) / np.sqrt(1 - r_sample ** 2)\n",
    "t_observed"
   ],
   "metadata": {
    "collapsed": false,
    "ExecuteTime": {
     "start_time": "2023-05-11T12:29:03.725594Z",
     "end_time": "2023-05-11T12:29:04.429755Z"
    }
   }
  },
  {
   "cell_type": "code",
   "execution_count": 83,
   "outputs": [
    {
     "data": {
      "text/plain": "False"
     },
     "execution_count": 83,
     "metadata": {},
     "output_type": "execute_result"
    }
   ],
   "source": [
    "t_observed < t.ppf(0.9, n - 2)"
   ],
   "metadata": {
    "collapsed": false,
    "ExecuteTime": {
     "start_time": "2023-05-11T12:29:03.732596Z",
     "end_time": "2023-05-11T12:29:04.429755Z"
    }
   }
  },
  {
   "cell_type": "markdown",
   "source": [
    "$ |T_{набл} |≥T_p (k) $, значит, X и Y связаны линейно."
   ],
   "metadata": {
    "collapsed": false
   }
  },
  {
   "cell_type": "markdown",
   "source": [
    "## Метод наименьших квадратов для линейной регрессии"
   ],
   "metadata": {
    "collapsed": false
   }
  },
  {
   "cell_type": "code",
   "execution_count": 84,
   "outputs": [],
   "source": [
    "def cool_regression(x, y, scale: int = 2):\n",
    "    matrix = []\n",
    "    for i in range(scale):\n",
    "        coefs_i = []\n",
    "        for j in range(i, i + scale):\n",
    "            coefs_i.append(np.sum(np.power(x, j)))\n",
    "        matrix.append(coefs_i)\n",
    "    vec = [np.sum(y.reshape(len(x), ) * np.power(x, i)) for i in range(scale)]\n",
    "    return np.linalg.solve(matrix, vec)"
   ],
   "metadata": {
    "collapsed": false,
    "ExecuteTime": {
     "start_time": "2023-05-11T12:29:03.747602Z",
     "end_time": "2023-05-11T12:29:04.430755Z"
    }
   }
  },
  {
   "cell_type": "code",
   "execution_count": 85,
   "outputs": [],
   "source": [
    "def cool_function(x, coefficients):\n",
    "    return sum(coefficients[i] * x ** i for i in range(len(coefficients)))"
   ],
   "metadata": {
    "collapsed": false,
    "ExecuteTime": {
     "start_time": "2023-05-11T12:29:03.755602Z",
     "end_time": "2023-05-11T12:29:04.430755Z"
    }
   }
  },
  {
   "cell_type": "code",
   "execution_count": 86,
   "outputs": [
    {
     "data": {
      "text/plain": "array([-88.71875  ,   0.8984375])"
     },
     "execution_count": 86,
     "metadata": {},
     "output_type": "execute_result"
    }
   ],
   "source": [
    "cool_regression(x, y)"
   ],
   "metadata": {
    "collapsed": false,
    "ExecuteTime": {
     "start_time": "2023-05-11T12:29:03.759603Z",
     "end_time": "2023-05-11T12:29:04.443759Z"
    }
   }
  },
  {
   "cell_type": "code",
   "execution_count": 87,
   "outputs": [
    {
     "data": {
      "text/plain": "<matplotlib.collections.PathCollection at 0x1712354cd30>"
     },
     "execution_count": 87,
     "metadata": {},
     "output_type": "execute_result"
    },
    {
     "data": {
      "text/plain": "<Figure size 640x480 with 1 Axes>",
      "image/png": "[encoded data removed]"
     },
     "metadata": {},
     "output_type": "display_data"
    }
   ],
   "source": [
    "coefficients = cool_regression(x, y)\n",
    "y_estimate = cool_function(x, coefficients)\n",
    "plt.plot(x, y_estimate, color='red')\n",
    "plt.scatter(x, y)"
   ],
   "metadata": {
    "collapsed": false,
    "ExecuteTime": {
     "start_time": "2023-05-11T12:29:03.769606Z",
     "end_time": "2023-05-11T12:29:04.444759Z"
    }
   }
  },
  {
   "cell_type": "code",
   "execution_count": 88,
   "outputs": [
    {
     "data": {
      "text/plain": "<matplotlib.collections.PathCollection at 0x171235b3a60>"
     },
     "execution_count": 88,
     "metadata": {},
     "output_type": "execute_result"
    },
    {
     "data": {
      "text/plain": "<Figure size 640x480 with 1 Axes>",
      "image/png": "[encoded data removed]"
     },
     "metadata": {},
     "output_type": "display_data"
    }
   ],
   "source": [
    "coefficients = cool_regression(x, y, scale=3)\n",
    "y_estimate_2 = cool_function(x, coefficients)\n",
    "plt.plot(x, y_estimate_2, color='red')\n",
    "plt.scatter(x, y)"
   ],
   "metadata": {
    "collapsed": false,
    "ExecuteTime": {
     "start_time": "2023-05-11T12:29:03.982654Z",
     "end_time": "2023-05-11T12:29:04.446758Z"
    }
   }
  },
  {
   "cell_type": "markdown",
   "source": [
    "Среднеквадратическое отклонение между двумя полученными функциями"
   ],
   "metadata": {
    "collapsed": false
   }
  },
  {
   "cell_type": "code",
   "execution_count": 89,
   "outputs": [
    {
     "data": {
      "text/plain": "3.858695194353727e-09"
     },
     "execution_count": 89,
     "metadata": {},
     "output_type": "execute_result"
    }
   ],
   "source": [
    "error = np.sqrt(np.sum(np.power(y_estimate - y_estimate_2, 2))) / n\n",
    "error"
   ],
   "metadata": {
    "collapsed": false,
    "ExecuteTime": {
     "start_time": "2023-05-11T12:29:04.194700Z",
     "end_time": "2023-05-11T12:29:04.446758Z"
    }
   }
  },
  {
   "cell_type": "code",
   "execution_count": 90,
   "outputs": [
    {
     "data": {
      "text/plain": "True"
     },
     "execution_count": 90,
     "metadata": {},
     "output_type": "execute_result"
    }
   ],
   "source": [
    "np.round(error, 5) == 0"
   ],
   "metadata": {
    "collapsed": false,
    "ExecuteTime": {
     "start_time": "2023-05-11T12:29:04.199702Z",
     "end_time": "2023-05-11T12:29:04.446758Z"
    }
   }
  },
  {
   "cell_type": "markdown",
   "source": [
    "Среднеквадратическое отклонение между реальными данными и полученной функцией"
   ],
   "metadata": {
    "collapsed": false
   }
  },
  {
   "cell_type": "code",
   "execution_count": 91,
   "outputs": [
    {
     "data": {
      "text/plain": "0.27084935850025565"
     },
     "execution_count": 91,
     "metadata": {},
     "output_type": "execute_result"
    }
   ],
   "source": [
    "error = np.sqrt(np.sum(np.power(y - y_estimate, 2))) / n\n",
    "error"
   ],
   "metadata": {
    "collapsed": false,
    "ExecuteTime": {
     "start_time": "2023-05-11T12:29:04.208703Z",
     "end_time": "2023-05-11T12:29:04.447759Z"
    }
   }
  }
 ],
 "metadata": {
  "kernelspec": {
   "display_name": "Python 3",
   "language": "python",
   "name": "python3"
  },
  "language_info": {
   "codemirror_mode": {
    "name": "ipython",
    "version": 2
   },
   "file_extension": ".py",
   "mimetype": "text/x-python",
   "name": "python",
   "nbconvert_exporter": "python",
   "pygments_lexer": "ipython2",
   "version": "2.7.6"
  }
 },
 "nbformat": 4,
 "nbformat_minor": 0
}
