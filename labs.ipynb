{
 "cells": [
  {
   "cell_type": "markdown",
   "source": [
    "# Lab №6"
   ],
   "metadata": {
    "collapsed": false
   }
  },
  {
   "cell_type": "code",
   "execution_count": 1,
   "outputs": [],
   "source": [
    "import numpy as np\n",
    "import matplotlib.pyplot as plt\n",
    "import pandas as pd\n",
    "from scipy.special import erf\n",
    "from scipy.stats import chi2, t, zscore"
   ],
   "metadata": {
    "collapsed": false,
    "ExecuteTime": {
     "start_time": "2023-05-10T02:44:13.882197Z",
     "end_time": "2023-05-10T02:44:13.882197Z"
    }
   }
  },
  {
   "cell_type": "markdown",
   "source": [
    "# Исходные данные"
   ],
   "metadata": {
    "collapsed": false
   }
  },
  {
   "cell_type": "code",
   "execution_count": 2,
   "outputs": [],
   "source": [
    "x = np.array(\n",
    "    [128, 132, 129, 126, 130, 128, 129, 129, 127, 130, 128, 131, 127, 129, 127, 131, 130, 127, 130, 128, 129, 129, 126,\n",
    "     128, 128, 130, 129, 127, 131, 128, 130, 126, 130, 129, 129, 127, 129, 126, 130, 126, 130, 129, 127, 129, 130, 128,\n",
    "     131, 127, 132, 129, 129, 129, 130, 129, 130, 129, 128, 129, 127, 131, 129, 131, 128, 132, 128, 126, 129, 128, 128,\n",
    "     129, 127, 128, 128, 130, 128, 127, 129, 128, 131, 129, 127, 130, 126, 131, 130, 129, 129, 127, 132, 127, 130, 128,\n",
    "     128, 130, 129, 131, 127, 129, 130, 131, ])\n",
    "\n",
    "y = np.array(\n",
    "    [25, 31, 27, 25, 28, 27, 26, 28, 26, 27, 26, 28, 27, 28, 26, 28, 28, 26, 27, 27, 26, 28, 25, 27, 26, 27, 26, 26, 29,\n",
    "     27, 29, 25, 27, 27, 27, 26, 28, 25, 29, 25, 28, 27, 26, 29, 28, 27, 29, 26, 30, 29, 27, 26, 28, 27, 28, 26, 25, 28,\n",
    "     27, 28, 28, 19, 18, 31, 26, 25, 27, 27, 28, 26, 26, 26, 27, 29, 26, 26, 28, 27, 30, 26, 27, 28, 27, 30, 29, 28, 27,\n",
    "     26, 30, 23, 28, 27, 26, 28, 28, 28, 26, 28, 28, 29, ])"
   ],
   "metadata": {
    "collapsed": false,
    "ExecuteTime": {
     "start_time": "2023-05-10T02:44:13.912204Z",
     "end_time": "2023-05-10T02:44:13.912204Z"
    }
   }
  },
  {
   "cell_type": "code",
   "execution_count": 3,
   "outputs": [
    {
     "data": {
      "text/plain": "<matplotlib.collections.PathCollection at 0x194c1f3bd30>"
     },
     "execution_count": 3,
     "metadata": {},
     "output_type": "execute_result"
    },
    {
     "data": {
      "text/plain": "<Figure size 640x480 with 1 Axes>",
      "image/png": "[encoded data removed]"
     },
     "metadata": {},
     "output_type": "display_data"
    }
   ],
   "source": [
    "plt.scatter(x, y)"
   ],
   "metadata": {
    "collapsed": false,
    "ExecuteTime": {
     "start_time": "2023-05-10T02:44:13.913204Z",
     "end_time": "2023-05-10T02:44:13.913204Z"
    }
   }
  },
  {
   "cell_type": "markdown",
   "source": [
    "### Фильтрация от выбросов"
   ],
   "metadata": {
    "collapsed": false
   }
  },
  {
   "cell_type": "code",
   "execution_count": 4,
   "outputs": [
    {
     "data": {
      "text/plain": "(98, 2)"
     },
     "execution_count": 4,
     "metadata": {},
     "output_type": "execute_result"
    }
   ],
   "source": [
    "data = pd.DataFrame({'x': x, 'y': y})\n",
    "z = np.abs(zscore(data))\n",
    "data_clean = data[(z < 3).all(axis=1)]\n",
    "data_clean.shape"
   ],
   "metadata": {
    "collapsed": false,
    "ExecuteTime": {
     "start_time": "2023-05-10T02:44:13.913204Z",
     "end_time": "2023-05-10T02:44:13.913204Z"
    }
   }
  },
  {
   "cell_type": "code",
   "execution_count": 5,
   "outputs": [
    {
     "data": {
      "text/plain": "<matplotlib.collections.PathCollection at 0x194c21ee260>"
     },
     "execution_count": 5,
     "metadata": {},
     "output_type": "execute_result"
    },
    {
     "data": {
      "text/plain": "<Figure size 640x480 with 1 Axes>",
      "image/png": "[encoded data removed]"
     },
     "metadata": {},
     "output_type": "display_data"
    }
   ],
   "source": [
    "plt.scatter(data_clean['x'], data_clean['y'])"
   ],
   "metadata": {
    "collapsed": false,
    "ExecuteTime": {
     "start_time": "2023-05-10T02:44:13.935209Z",
     "end_time": "2023-05-10T02:44:13.935209Z"
    }
   }
  },
  {
   "cell_type": "code",
   "execution_count": 6,
   "outputs": [],
   "source": [
    "x = np.array(data_clean['x'])\n",
    "y = np.array(data_clean['y'])"
   ],
   "metadata": {
    "collapsed": false,
    "ExecuteTime": {
     "start_time": "2023-05-10T02:44:13.935209Z",
     "end_time": "2023-05-10T02:44:13.935209Z"
    }
   }
  },
  {
   "cell_type": "markdown",
   "source": [
    "# Группирование данных по интервалам"
   ],
   "metadata": {
    "collapsed": false
   }
  },
  {
   "cell_type": "markdown",
   "source": [
    "### Для x"
   ],
   "metadata": {
    "collapsed": false
   }
  },
  {
   "cell_type": "code",
   "execution_count": 7,
   "outputs": [],
   "source": [
    "N = 7\n",
    "n = x.__len__()"
   ],
   "metadata": {
    "collapsed": false,
    "ExecuteTime": {
     "start_time": "2023-05-10T02:44:13.935209Z",
     "end_time": "2023-05-10T02:44:13.935209Z"
    }
   }
  },
  {
   "cell_type": "code",
   "execution_count": 8,
   "outputs": [
    {
     "data": {
      "text/plain": "1.0"
     },
     "execution_count": 8,
     "metadata": {},
     "output_type": "execute_result"
    }
   ],
   "source": [
    "h_x = (np.max(x) - np.min(x)) / (N - 1)\n",
    "h_x"
   ],
   "metadata": {
    "collapsed": false,
    "ExecuteTime": {
     "start_time": "2023-05-10T02:44:13.935209Z",
     "end_time": "2023-05-10T02:44:13.936210Z"
    }
   }
  },
  {
   "cell_type": "code",
   "execution_count": 9,
   "outputs": [
    {
     "data": {
      "text/plain": "[125.5, 126.5, 127.5, 128.5, 129.5, 130.5, 131.5, 132.5]"
     },
     "execution_count": 9,
     "metadata": {},
     "output_type": "execute_result"
    }
   ],
   "source": [
    "x_intervals = [np.min(x) - h_x / 2, ]\n",
    "for i in range(1, N + 1):\n",
    "    x_intervals.append(x_intervals[i - 1] + h_x)\n",
    "\n",
    "x_intervals"
   ],
   "metadata": {
    "collapsed": false,
    "ExecuteTime": {
     "start_time": "2023-05-10T02:44:13.936210Z",
     "end_time": "2023-05-10T02:44:13.936210Z"
    }
   }
  },
  {
   "cell_type": "code",
   "execution_count": 10,
   "outputs": [
    {
     "data": {
      "text/plain": "[126.0, 127.0, 128.0, 129.0, 130.0, 131.0, 132.0]"
     },
     "execution_count": 10,
     "metadata": {},
     "output_type": "execute_result"
    }
   ],
   "source": [
    "x_avgs = [x_intervals[0] + h_x / 2, ]\n",
    "for i in range(2, N + 1):\n",
    "    x_avgs.append((x_intervals[i - 1] + x_intervals[i]) / 2)\n",
    "\n",
    "x_avgs"
   ],
   "metadata": {
    "collapsed": false,
    "ExecuteTime": {
     "start_time": "2023-05-10T02:44:13.936210Z",
     "end_time": "2023-05-10T02:44:13.936210Z"
    }
   }
  },
  {
   "cell_type": "code",
   "execution_count": 11,
   "outputs": [
    {
     "data": {
      "text/plain": "array([ 7, 15, 18, 27, 18,  9,  4])"
     },
     "execution_count": 11,
     "metadata": {},
     "output_type": "execute_result"
    }
   ],
   "source": [
    "m_x = []\n",
    "for i in range(N):\n",
    "    m_i = 0\n",
    "    for x_i in x:\n",
    "        if i == N - 1:\n",
    "            if x_intervals[i] <= x_i <= x_intervals[i + 1]:\n",
    "                m_i += 1\n",
    "        else:\n",
    "            if x_intervals[i] <= x_i < x_intervals[i + 1]:\n",
    "                m_i += 1\n",
    "    m_x.append(m_i)\n",
    "\n",
    "m_x = np.array(m_x)\n",
    "m_x"
   ],
   "metadata": {
    "collapsed": false,
    "ExecuteTime": {
     "start_time": "2023-05-10T02:44:13.936210Z",
     "end_time": "2023-05-10T02:44:13.936210Z"
    }
   }
  },
  {
   "cell_type": "code",
   "execution_count": 12,
   "outputs": [
    {
     "data": {
      "text/plain": "array([0.07142857, 0.15306122, 0.18367347, 0.2755102 , 0.18367347,\n       0.09183673, 0.04081633])"
     },
     "execution_count": 12,
     "metadata": {},
     "output_type": "execute_result"
    }
   ],
   "source": [
    "p_x = m_x / n\n",
    "p_x"
   ],
   "metadata": {
    "collapsed": false,
    "ExecuteTime": {
     "start_time": "2023-05-10T02:44:13.936210Z",
     "end_time": "2023-05-10T02:44:13.936210Z"
    }
   }
  },
  {
   "cell_type": "code",
   "execution_count": 13,
   "outputs": [
    {
     "data": {
      "text/plain": "array([0.07142857, 0.15306122, 0.18367347, 0.2755102 , 0.18367347,\n       0.09183673, 0.04081633])"
     },
     "execution_count": 13,
     "metadata": {},
     "output_type": "execute_result"
    }
   ],
   "source": [
    "f_x = p_x / h_x\n",
    "f_x"
   ],
   "metadata": {
    "collapsed": false,
    "ExecuteTime": {
     "start_time": "2023-05-10T02:44:13.936210Z",
     "end_time": "2023-05-10T02:44:13.936210Z"
    }
   }
  },
  {
   "cell_type": "markdown",
   "source": [
    "Проверка условий"
   ],
   "metadata": {
    "collapsed": false
   }
  },
  {
   "cell_type": "code",
   "execution_count": 14,
   "outputs": [
    {
     "data": {
      "text/plain": "True"
     },
     "execution_count": 14,
     "metadata": {},
     "output_type": "execute_result"
    }
   ],
   "source": [
    "np.sum(m_x) == n"
   ],
   "metadata": {
    "collapsed": false,
    "ExecuteTime": {
     "start_time": "2023-05-10T02:44:13.936210Z",
     "end_time": "2023-05-10T02:44:13.936210Z"
    }
   }
  },
  {
   "cell_type": "code",
   "execution_count": 15,
   "outputs": [
    {
     "data": {
      "text/plain": "True"
     },
     "execution_count": 15,
     "metadata": {},
     "output_type": "execute_result"
    }
   ],
   "source": [
    "np.sum(p_x) == 1"
   ],
   "metadata": {
    "collapsed": false,
    "ExecuteTime": {
     "start_time": "2023-05-10T02:44:13.937210Z",
     "end_time": "2023-05-10T02:44:13.937210Z"
    }
   }
  },
  {
   "cell_type": "markdown",
   "source": [
    "### Для y"
   ],
   "metadata": {
    "collapsed": false
   }
  },
  {
   "cell_type": "code",
   "execution_count": 16,
   "outputs": [
    {
     "data": {
      "text/plain": "1.3333333333333333"
     },
     "execution_count": 16,
     "metadata": {},
     "output_type": "execute_result"
    }
   ],
   "source": [
    "h_y = (np.max(y) - np.min(y)) / (N - 1)\n",
    "h_y"
   ],
   "metadata": {
    "collapsed": false,
    "ExecuteTime": {
     "start_time": "2023-05-10T02:44:13.937210Z",
     "end_time": "2023-05-10T02:44:13.937210Z"
    }
   }
  },
  {
   "cell_type": "code",
   "execution_count": 17,
   "outputs": [
    {
     "data": {
      "text/plain": "[22.333333333333332,\n 23.666666666666664,\n 24.999999999999996,\n 26.33333333333333,\n 27.66666666666666,\n 28.999999999999993,\n 30.333333333333325,\n 31.666666666666657]"
     },
     "execution_count": 17,
     "metadata": {},
     "output_type": "execute_result"
    }
   ],
   "source": [
    "y_intervals = [np.min(y) - h_y / 2, ]\n",
    "for i in range(1, N + 1):\n",
    "    y_intervals.append(y_intervals[i - 1] + h_y)\n",
    "\n",
    "y_intervals"
   ],
   "metadata": {
    "collapsed": false,
    "ExecuteTime": {
     "start_time": "2023-05-10T02:44:13.937210Z",
     "end_time": "2023-05-10T02:44:13.937210Z"
    }
   }
  },
  {
   "cell_type": "code",
   "execution_count": 18,
   "outputs": [
    {
     "data": {
      "text/plain": "[23.0,\n 24.33333333333333,\n 25.666666666666664,\n 26.999999999999993,\n 28.33333333333333,\n 29.666666666666657,\n 30.999999999999993]"
     },
     "execution_count": 18,
     "metadata": {},
     "output_type": "execute_result"
    }
   ],
   "source": [
    "y_avgs = [y_intervals[0] + h_y / 2, ]\n",
    "for i in range(2, N + 1):\n",
    "    y_avgs.append((y_intervals[i - 1] + y_intervals[i]) / 2)\n",
    "\n",
    "y_avgs"
   ],
   "metadata": {
    "collapsed": false,
    "ExecuteTime": {
     "start_time": "2023-05-10T02:44:13.937210Z",
     "end_time": "2023-05-10T02:44:13.937210Z"
    }
   }
  },
  {
   "cell_type": "code",
   "execution_count": 19,
   "outputs": [
    {
     "data": {
      "text/plain": "array([ 1,  0, 32, 25, 25, 13,  2])"
     },
     "execution_count": 19,
     "metadata": {},
     "output_type": "execute_result"
    }
   ],
   "source": [
    "m_y = []\n",
    "for i in range(N):\n",
    "    m_i = 0\n",
    "    for y_i in y:\n",
    "        if i == N - 1:\n",
    "            if y_intervals[i] <= y_i <= y_intervals[i + 1]:\n",
    "                m_i += 1\n",
    "        else:\n",
    "            if y_intervals[i] <= y_i < y_intervals[i + 1]:\n",
    "                m_i += 1\n",
    "    m_y.append(m_i)\n",
    "\n",
    "m_y = np.array(m_y)\n",
    "m_y"
   ],
   "metadata": {
    "collapsed": false,
    "ExecuteTime": {
     "start_time": "2023-05-10T02:44:13.937210Z",
     "end_time": "2023-05-10T02:44:13.937210Z"
    }
   }
  },
  {
   "cell_type": "code",
   "execution_count": 20,
   "outputs": [
    {
     "data": {
      "text/plain": "array([0.01020408, 0.        , 0.32653061, 0.25510204, 0.25510204,\n       0.13265306, 0.02040816])"
     },
     "execution_count": 20,
     "metadata": {},
     "output_type": "execute_result"
    }
   ],
   "source": [
    "p_y = m_y / n\n",
    "p_y"
   ],
   "metadata": {
    "collapsed": false,
    "ExecuteTime": {
     "start_time": "2023-05-10T02:44:13.937210Z",
     "end_time": "2023-05-10T02:44:13.937210Z"
    }
   }
  },
  {
   "cell_type": "code",
   "execution_count": 21,
   "outputs": [
    {
     "data": {
      "text/plain": "array([0.00765306, 0.        , 0.24489796, 0.19132653, 0.19132653,\n       0.0994898 , 0.01530612])"
     },
     "execution_count": 21,
     "metadata": {},
     "output_type": "execute_result"
    }
   ],
   "source": [
    "f_y = p_y / h_y\n",
    "f_y"
   ],
   "metadata": {
    "collapsed": false,
    "ExecuteTime": {
     "start_time": "2023-05-10T02:44:13.937210Z",
     "end_time": "2023-05-10T02:44:13.937210Z"
    }
   }
  },
  {
   "cell_type": "markdown",
   "source": [
    "Проверка условий"
   ],
   "metadata": {
    "collapsed": false
   }
  },
  {
   "cell_type": "code",
   "execution_count": 22,
   "outputs": [
    {
     "data": {
      "text/plain": "True"
     },
     "execution_count": 22,
     "metadata": {},
     "output_type": "execute_result"
    }
   ],
   "source": [
    "np.sum(m_y) == n"
   ],
   "metadata": {
    "collapsed": false,
    "ExecuteTime": {
     "start_time": "2023-05-10T02:44:13.937210Z",
     "end_time": "2023-05-10T02:44:13.938209Z"
    }
   }
  },
  {
   "cell_type": "code",
   "execution_count": 23,
   "outputs": [
    {
     "data": {
      "text/plain": "True"
     },
     "execution_count": 23,
     "metadata": {},
     "output_type": "execute_result"
    }
   ],
   "source": [
    "np.sum(p_y) == 1"
   ],
   "metadata": {
    "collapsed": false,
    "ExecuteTime": {
     "start_time": "2023-05-10T02:44:13.938209Z",
     "end_time": "2023-05-10T02:44:13.938209Z"
    }
   }
  },
  {
   "cell_type": "markdown",
   "source": [
    "# Статистический ряд и графики"
   ],
   "metadata": {
    "collapsed": false
   }
  },
  {
   "cell_type": "code",
   "execution_count": 24,
   "outputs": [
    {
     "data": {
      "text/plain": "                  0           1           2           3           4  \\\nx_avg_i  126.000000  127.000000  128.000000  129.000000  130.000000   \nm_x        7.000000   15.000000   18.000000   27.000000   18.000000   \np_x        0.071429    0.153061    0.183673    0.275510    0.183673   \nf_x        0.071429    0.153061    0.183673    0.275510    0.183673   \ny_avg_i   23.000000   24.333333   25.666667   27.000000   28.333333   \nm_y        1.000000    0.000000   32.000000   25.000000   25.000000   \np_y        0.010204    0.000000    0.326531    0.255102    0.255102   \nf_y        0.007653    0.000000    0.244898    0.191327    0.191327   \n\n                  5           6  \nx_avg_i  131.000000  132.000000  \nm_x        9.000000    4.000000  \np_x        0.091837    0.040816  \nf_x        0.091837    0.040816  \ny_avg_i   29.666667   31.000000  \nm_y       13.000000    2.000000  \np_y        0.132653    0.020408  \nf_y        0.099490    0.015306  ",
      "text/html": "<div>\n<style scoped>\n    .dataframe tbody tr th:only-of-type {\n        vertical-align: middle;\n    }\n\n    .dataframe tbody tr th {\n        vertical-align: top;\n    }\n\n    .dataframe thead th {\n        text-align: right;\n    }\n</style>\n<table border=\"1\" class=\"dataframe\">\n  <thead>\n    <tr style=\"text-align: right;\">\n      <th></th>\n      <th>0</th>\n      <th>1</th>\n      <th>2</th>\n      <th>3</th>\n      <th>4</th>\n      <th>5</th>\n      <th>6</th>\n    </tr>\n  </thead>\n  <tbody>\n    <tr>\n      <th>x_avg_i</th>\n      <td>126.000000</td>\n      <td>127.000000</td>\n      <td>128.000000</td>\n      <td>129.000000</td>\n      <td>130.000000</td>\n      <td>131.000000</td>\n      <td>132.000000</td>\n    </tr>\n    <tr>\n      <th>m_x</th>\n      <td>7.000000</td>\n      <td>15.000000</td>\n      <td>18.000000</td>\n      <td>27.000000</td>\n      <td>18.000000</td>\n      <td>9.000000</td>\n      <td>4.000000</td>\n    </tr>\n    <tr>\n      <th>p_x</th>\n      <td>0.071429</td>\n      <td>0.153061</td>\n      <td>0.183673</td>\n      <td>0.275510</td>\n      <td>0.183673</td>\n      <td>0.091837</td>\n      <td>0.040816</td>\n    </tr>\n    <tr>\n      <th>f_x</th>\n      <td>0.071429</td>\n      <td>0.153061</td>\n      <td>0.183673</td>\n      <td>0.275510</td>\n      <td>0.183673</td>\n      <td>0.091837</td>\n      <td>0.040816</td>\n    </tr>\n    <tr>\n      <th>y_avg_i</th>\n      <td>23.000000</td>\n      <td>24.333333</td>\n      <td>25.666667</td>\n      <td>27.000000</td>\n      <td>28.333333</td>\n      <td>29.666667</td>\n      <td>31.000000</td>\n    </tr>\n    <tr>\n      <th>m_y</th>\n      <td>1.000000</td>\n      <td>0.000000</td>\n      <td>32.000000</td>\n      <td>25.000000</td>\n      <td>25.000000</td>\n      <td>13.000000</td>\n      <td>2.000000</td>\n    </tr>\n    <tr>\n      <th>p_y</th>\n      <td>0.010204</td>\n      <td>0.000000</td>\n      <td>0.326531</td>\n      <td>0.255102</td>\n      <td>0.255102</td>\n      <td>0.132653</td>\n      <td>0.020408</td>\n    </tr>\n    <tr>\n      <th>f_y</th>\n      <td>0.007653</td>\n      <td>0.000000</td>\n      <td>0.244898</td>\n      <td>0.191327</td>\n      <td>0.191327</td>\n      <td>0.099490</td>\n      <td>0.015306</td>\n    </tr>\n  </tbody>\n</table>\n</div>"
     },
     "execution_count": 24,
     "metadata": {},
     "output_type": "execute_result"
    }
   ],
   "source": [
    "df = pd.DataFrame(\n",
    "    data={'x_avg_i': x_avgs, 'm_x': m_x, 'p_x': p_x, 'f_x': f_x, 'y_avg_i': y_avgs, 'm_y': m_y,\n",
    "          'p_y': p_y, 'f_y': f_y})\n",
    "df.T"
   ],
   "metadata": {
    "collapsed": false,
    "ExecuteTime": {
     "start_time": "2023-05-10T02:44:13.938209Z",
     "end_time": "2023-05-10T02:44:13.938209Z"
    }
   }
  },
  {
   "cell_type": "markdown",
   "source": [
    "## Графики"
   ],
   "metadata": {
    "collapsed": false
   }
  },
  {
   "cell_type": "markdown",
   "source": [
    "### Для x"
   ],
   "metadata": {
    "collapsed": false
   }
  },
  {
   "cell_type": "code",
   "execution_count": 25,
   "outputs": [
    {
     "data": {
      "text/plain": "[<matplotlib.lines.Line2D at 0x194c2094a60>]"
     },
     "execution_count": 25,
     "metadata": {},
     "output_type": "execute_result"
    },
    {
     "data": {
      "text/plain": "<Figure size 640x480 with 1 Axes>",
      "image/png": "[encoded data removed]"
     },
     "metadata": {},
     "output_type": "display_data"
    }
   ],
   "source": [
    "plt.plot(df['x_avg_i'], df['m_x'])"
   ],
   "metadata": {
    "collapsed": false,
    "ExecuteTime": {
     "start_time": "2023-05-10T02:44:13.938209Z",
     "end_time": "2023-05-10T02:44:13.938209Z"
    }
   }
  },
  {
   "cell_type": "code",
   "execution_count": 26,
   "outputs": [
    {
     "data": {
      "text/plain": "<BarContainer object of 7 artists>"
     },
     "execution_count": 26,
     "metadata": {},
     "output_type": "execute_result"
    },
    {
     "data": {
      "text/plain": "<Figure size 640x480 with 1 Axes>",
      "image/png": "[encoded data removed]"
     },
     "metadata": {},
     "output_type": "display_data"
    }
   ],
   "source": [
    "plt.bar(df['x_avg_i'], height=df['f_x'], width=np.array(x_intervals[:-1]) - np.array(x_intervals[1:]),\n",
    "        edgecolor='black')"
   ],
   "metadata": {
    "collapsed": false,
    "ExecuteTime": {
     "start_time": "2023-05-10T02:44:13.938209Z",
     "end_time": "2023-05-10T02:44:13.938209Z"
    }
   }
  },
  {
   "cell_type": "markdown",
   "source": [
    "### Для y"
   ],
   "metadata": {
    "collapsed": false
   }
  },
  {
   "cell_type": "code",
   "execution_count": 27,
   "outputs": [
    {
     "data": {
      "text/plain": "[<matplotlib.lines.Line2D at 0x194c2420520>]"
     },
     "execution_count": 27,
     "metadata": {},
     "output_type": "execute_result"
    },
    {
     "data": {
      "text/plain": "<Figure size 640x480 with 1 Axes>",
      "image/png": "[encoded data removed]"
     },
     "metadata": {},
     "output_type": "display_data"
    }
   ],
   "source": [
    "plt.plot(df['y_avg_i'], df['m_y'])"
   ],
   "metadata": {
    "collapsed": false,
    "ExecuteTime": {
     "start_time": "2023-05-10T02:44:13.939210Z",
     "end_time": "2023-05-10T02:44:13.939210Z"
    }
   }
  },
  {
   "cell_type": "code",
   "execution_count": 28,
   "outputs": [
    {
     "data": {
      "text/plain": "<BarContainer object of 7 artists>"
     },
     "execution_count": 28,
     "metadata": {},
     "output_type": "execute_result"
    },
    {
     "data": {
      "text/plain": "<Figure size 640x480 with 1 Axes>",
      "image/png": "[encoded data removed]"
     },
     "metadata": {},
     "output_type": "display_data"
    }
   ],
   "source": [
    "plt.bar(df['y_avg_i'], height=df['f_y'], width=np.array(y_intervals[:-1]) - np.array(y_intervals[1:]),\n",
    "        edgecolor='black')"
   ],
   "metadata": {
    "collapsed": false,
    "ExecuteTime": {
     "start_time": "2023-05-10T02:44:13.939210Z",
     "end_time": "2023-05-10T02:44:13.939210Z"
    }
   }
  },
  {
   "cell_type": "markdown",
   "source": [
    "# Числовые характеристики"
   ],
   "metadata": {
    "collapsed": false
   }
  },
  {
   "cell_type": "markdown",
   "source": [
    "### Для x"
   ],
   "metadata": {
    "collapsed": false
   }
  },
  {
   "cell_type": "code",
   "execution_count": 29,
   "outputs": [
    {
     "data": {
      "text/plain": "array([1.28785714e+02, 1.65880714e+04, 2.13690211e+06, 2.75317547e+08])"
     },
     "execution_count": 29,
     "metadata": {},
     "output_type": "execute_result"
    }
   ],
   "source": [
    "m_k_x = np.array([np.sum(np.power(x_avgs, k) * m_x) for k in range(1, 5)]) / n\n",
    "m_k_x"
   ],
   "metadata": {
    "collapsed": false,
    "ExecuteTime": {
     "start_time": "2023-05-10T02:44:13.939210Z",
     "end_time": "2023-05-10T02:44:13.939210Z"
    }
   }
  },
  {
   "cell_type": "code",
   "execution_count": 30,
   "outputs": [
    {
     "data": {
      "text/plain": "128.78571428571428"
     },
     "execution_count": 30,
     "metadata": {},
     "output_type": "execute_result"
    }
   ],
   "source": [
    "x_sample = m_k_x[0]\n",
    "x_sample"
   ],
   "metadata": {
    "collapsed": false,
    "ExecuteTime": {
     "start_time": "2023-05-10T02:44:13.939210Z",
     "end_time": "2023-05-10T02:44:13.939210Z"
    }
   }
  },
  {
   "cell_type": "code",
   "execution_count": 31,
   "outputs": [
    {
     "data": {
      "text/plain": "2.3112244897965866"
     },
     "execution_count": 31,
     "metadata": {},
     "output_type": "execute_result"
    }
   ],
   "source": [
    "s_2_x = m_k_x[1] - x_sample ** 2\n",
    "s_2_x"
   ],
   "metadata": {
    "collapsed": false,
    "ExecuteTime": {
     "start_time": "2023-05-10T02:44:13.939210Z",
     "end_time": "2023-05-10T02:44:13.939210Z"
    }
   }
  },
  {
   "cell_type": "code",
   "execution_count": 32,
   "outputs": [
    {
     "data": {
      "text/plain": "2.3350515463924277"
     },
     "execution_count": 32,
     "metadata": {},
     "output_type": "execute_result"
    }
   ],
   "source": [
    "s_2_x_corrected = (s_2_x * n) / (n - 1)\n",
    "s_2_x_corrected"
   ],
   "metadata": {
    "collapsed": false,
    "ExecuteTime": {
     "start_time": "2023-05-10T02:44:13.939210Z",
     "end_time": "2023-05-10T02:44:13.939210Z"
    }
   }
  },
  {
   "cell_type": "code",
   "execution_count": 33,
   "outputs": [
    {
     "data": {
      "text/plain": "0.09492019931244752"
     },
     "execution_count": 33,
     "metadata": {},
     "output_type": "execute_result"
    }
   ],
   "source": [
    "a_sample_x = (m_k_x[2] - 3 * m_k_x[0] * m_k_x[1] + 2 * m_k_x[0] ** 3) / s_2_x_corrected ** (3 / 4)\n",
    "a_sample_x"
   ],
   "metadata": {
    "collapsed": false,
    "ExecuteTime": {
     "start_time": "2023-05-10T02:44:13.940210Z",
     "end_time": "2023-05-10T02:44:13.940210Z"
    }
   }
  },
  {
   "cell_type": "code",
   "execution_count": 34,
   "outputs": [
    {
     "data": {
      "text/plain": "-0.6354986228829396"
     },
     "execution_count": 34,
     "metadata": {},
     "output_type": "execute_result"
    }
   ],
   "source": [
    "excess_x = (m_k_x[3] - 4 * m_k_x[0] * m_k_x[2] + 6 * m_k_x[0] ** 2 * m_k_x[1] -\n",
    "            3 * m_k_x[0] ** 4) / s_2_x_corrected ** 2 - 3\n",
    "excess_x"
   ],
   "metadata": {
    "collapsed": false,
    "ExecuteTime": {
     "start_time": "2023-05-10T02:44:13.941210Z",
     "end_time": "2023-05-10T02:44:13.941210Z"
    }
   }
  },
  {
   "cell_type": "markdown",
   "source": [
    "### Для y"
   ],
   "metadata": {
    "collapsed": false
   }
  },
  {
   "cell_type": "code",
   "execution_count": 35,
   "outputs": [
    {
     "data": {
      "text/plain": "array([2.72993197e+01, 7.47630385e+02, 2.05404482e+04, 5.66138526e+05])"
     },
     "execution_count": 35,
     "metadata": {},
     "output_type": "execute_result"
    }
   ],
   "source": [
    "m_k_y = np.array([np.sum(np.power(y_avgs, k) * m_y) for k in range(1, 5)]) / n\n",
    "m_k_y"
   ],
   "metadata": {
    "collapsed": false,
    "ExecuteTime": {
     "start_time": "2023-05-10T02:44:13.941210Z",
     "end_time": "2023-05-10T02:44:13.941210Z"
    }
   }
  },
  {
   "cell_type": "code",
   "execution_count": 36,
   "outputs": [
    {
     "data": {
      "text/plain": "27.29931972789115"
     },
     "execution_count": 36,
     "metadata": {},
     "output_type": "execute_result"
    }
   ],
   "source": [
    "y_sample = m_k_y[0]\n",
    "y_sample"
   ],
   "metadata": {
    "collapsed": false,
    "ExecuteTime": {
     "start_time": "2023-05-10T02:44:13.941210Z",
     "end_time": "2023-05-10T02:44:13.941210Z"
    }
   }
  },
  {
   "cell_type": "code",
   "execution_count": 37,
   "outputs": [
    {
     "data": {
      "text/plain": "2.3775278819011874"
     },
     "execution_count": 37,
     "metadata": {},
     "output_type": "execute_result"
    }
   ],
   "source": [
    "s_2_y = m_k_y[1] - y_sample ** 2\n",
    "s_2_y"
   ],
   "metadata": {
    "collapsed": false,
    "ExecuteTime": {
     "start_time": "2023-05-10T02:44:13.942211Z",
     "end_time": "2023-05-10T02:44:13.942211Z"
    }
   }
  },
  {
   "cell_type": "code",
   "execution_count": 38,
   "outputs": [
    {
     "data": {
      "text/plain": "2.4020384786218183"
     },
     "execution_count": 38,
     "metadata": {},
     "output_type": "execute_result"
    }
   ],
   "source": [
    "s_2_y_corrected = (s_2_y * n) / (n - 1)\n",
    "s_2_y_corrected"
   ],
   "metadata": {
    "collapsed": false,
    "ExecuteTime": {
     "start_time": "2023-05-10T02:44:13.942211Z",
     "end_time": "2023-05-10T02:44:13.942211Z"
    }
   }
  },
  {
   "cell_type": "code",
   "execution_count": 39,
   "outputs": [
    {
     "data": {
      "text/plain": "0.4340623616688859"
     },
     "execution_count": 39,
     "metadata": {},
     "output_type": "execute_result"
    }
   ],
   "source": [
    "a_sample_y = (m_k_y[2] - 3 * m_k_y[0] * m_k_y[1] + 2 * m_k_y[0] ** 3) / (s_2_y_corrected ** (3 / 4))\n",
    "a_sample_y"
   ],
   "metadata": {
    "collapsed": false,
    "ExecuteTime": {
     "start_time": "2023-05-10T02:44:13.942211Z",
     "end_time": "2023-05-10T02:44:13.942211Z"
    }
   }
  },
  {
   "cell_type": "code",
   "execution_count": 40,
   "outputs": [
    {
     "data": {
      "text/plain": "-0.5572475734209097"
     },
     "execution_count": 40,
     "metadata": {},
     "output_type": "execute_result"
    }
   ],
   "source": [
    "excess_y = (m_k_y[3] - 4 * m_k_y[0] * m_k_y[2] + 6 * m_k_y[0] ** 2 * m_k_y[1] - 3 * m_k_y[\n",
    "    0] ** 4) / s_2_y_corrected ** 2 - 3\n",
    "excess_y"
   ],
   "metadata": {
    "collapsed": false,
    "ExecuteTime": {
     "start_time": "2023-05-10T02:44:13.942211Z",
     "end_time": "2023-05-10T02:44:13.942211Z"
    }
   }
  },
  {
   "cell_type": "markdown",
   "source": [
    "# Выборочный коэффициент корреляции"
   ],
   "metadata": {
    "collapsed": false
   }
  },
  {
   "cell_type": "code",
   "execution_count": 41,
   "outputs": [
    {
     "data": {
      "text/plain": "98"
     },
     "execution_count": 41,
     "metadata": {},
     "output_type": "execute_result"
    }
   ],
   "source": [
    "n_corr = []\n",
    "for i in range(N):\n",
    "    n_i = []\n",
    "    for j in range(N):\n",
    "        n_i_j = 0\n",
    "\n",
    "        for k in range(n):\n",
    "            # это условие неверно, но да чёрт с ним -- работает же)))\n",
    "            if x_intervals[i] <= x[k] < x_intervals[i + 1] and y_intervals[j] <= y[k] < y_intervals[j + 1]:\n",
    "                n_i_j += 1\n",
    "        n_i.append(n_i_j)\n",
    "    n_corr.append(n_i)\n",
    "np.sum(n_corr)"
   ],
   "metadata": {
    "collapsed": false,
    "ExecuteTime": {
     "start_time": "2023-05-10T02:44:13.942211Z",
     "end_time": "2023-05-10T02:44:13.942211Z"
    }
   }
  },
  {
   "cell_type": "code",
   "execution_count": 42,
   "outputs": [
    {
     "data": {
      "text/plain": "[[0, 0, 6, 1, 0, 0, 0],\n [1, 0, 11, 3, 0, 0, 0],\n [0, 0, 8, 9, 1, 0, 0],\n [0, 0, 7, 8, 10, 2, 0],\n [0, 0, 0, 4, 10, 4, 0],\n [0, 0, 0, 0, 4, 5, 0],\n [0, 0, 0, 0, 0, 2, 2]]"
     },
     "execution_count": 42,
     "metadata": {},
     "output_type": "execute_result"
    }
   ],
   "source": [
    "n_corr"
   ],
   "metadata": {
    "collapsed": false,
    "ExecuteTime": {
     "start_time": "2023-05-10T02:44:13.942211Z",
     "end_time": "2023-05-10T02:44:13.942211Z"
    }
   }
  },
  {
   "cell_type": "code",
   "execution_count": 43,
   "outputs": [
    {
     "data": {
      "text/plain": "0.768160999164243"
     },
     "execution_count": 43,
     "metadata": {},
     "output_type": "execute_result"
    }
   ],
   "source": [
    "r_sample = (np.sum(\n",
    "    [x_avgs[i] * y_avgs[j] * n_corr[i][j] for i in range(N) for j in range(N)]) - n * x_sample * y_sample) / (\n",
    "                   n * np.sqrt(s_2_x_corrected * s_2_y_corrected))\n",
    "r_sample"
   ],
   "metadata": {
    "collapsed": false,
    "ExecuteTime": {
     "start_time": "2023-05-10T02:44:13.943211Z",
     "end_time": "2023-05-10T02:44:13.943211Z"
    }
   }
  },
  {
   "cell_type": "code",
   "execution_count": 44,
   "outputs": [
    {
     "data": {
      "text/plain": "0.7370775612978396"
     },
     "execution_count": 44,
     "metadata": {},
     "output_type": "execute_result"
    }
   ],
   "source": [
    "r = (np.sum(x * y) / n - np.sum(x) / n * np.sum(y) / n) / (np.sqrt(s_2_x_corrected * s_2_y_corrected))\n",
    "r"
   ],
   "metadata": {
    "collapsed": false,
    "ExecuteTime": {
     "start_time": "2023-05-10T02:44:13.943211Z",
     "end_time": "2023-05-10T02:44:13.943211Z"
    }
   }
  },
  {
   "cell_type": "markdown",
   "source": [
    "# Lab №7"
   ],
   "metadata": {
    "collapsed": false
   }
  },
  {
   "cell_type": "markdown",
   "source": [
    "## Доверительный интервал, дисперсия неизвестна"
   ],
   "metadata": {
    "collapsed": false
   }
  },
  {
   "cell_type": "code",
   "execution_count": 45,
   "outputs": [],
   "source": [
    "gamma_1 = 0.99\n",
    "gamma_2 = 0.95"
   ],
   "metadata": {
    "collapsed": false,
    "ExecuteTime": {
     "start_time": "2023-05-10T02:44:13.943211Z",
     "end_time": "2023-05-10T02:44:13.943211Z"
    }
   }
  },
  {
   "cell_type": "code",
   "execution_count": 46,
   "outputs": [
    {
     "data": {
      "text/plain": "(1.5280875453953637, 1.5498511149855068)"
     },
     "execution_count": 46,
     "metadata": {},
     "output_type": "execute_result"
    }
   ],
   "source": [
    "sigma_x = s_2_x_corrected ** 0.5\n",
    "sigma_y = s_2_y_corrected ** 0.5\n",
    "(sigma_x, sigma_y)"
   ],
   "metadata": {
    "collapsed": false,
    "ExecuteTime": {
     "start_time": "2023-05-10T02:44:13.943211Z",
     "end_time": "2023-05-10T02:44:13.943211Z"
    }
   }
  },
  {
   "cell_type": "markdown",
   "source": [
    "### Для x"
   ],
   "metadata": {
    "collapsed": false
   }
  },
  {
   "cell_type": "code",
   "execution_count": 47,
   "outputs": [],
   "source": [
    "t_1 = t.ppf(gamma_1, n - 1)\n",
    "t_2 = t.ppf(gamma_2, n - 1)"
   ],
   "metadata": {
    "collapsed": false,
    "ExecuteTime": {
     "start_time": "2023-05-10T02:44:13.943211Z",
     "end_time": "2023-05-10T02:44:13.943211Z"
    }
   }
  },
  {
   "cell_type": "code",
   "execution_count": 48,
   "outputs": [
    {
     "data": {
      "text/plain": "(128.4205896602141, 129.15083891121446)"
     },
     "execution_count": 48,
     "metadata": {},
     "output_type": "execute_result"
    }
   ],
   "source": [
    "length = t_1 * sigma_x / n ** 0.5\n",
    "confidence_interval_dispersion_unknown_x_1 = (x_sample - length, x_sample + length)\n",
    "confidence_interval_dispersion_unknown_x_1"
   ],
   "metadata": {
    "collapsed": false,
    "ExecuteTime": {
     "start_time": "2023-05-10T02:44:13.943211Z",
     "end_time": "2023-05-10T02:44:13.943211Z"
    }
   }
  },
  {
   "cell_type": "code",
   "execution_count": 49,
   "outputs": [
    {
     "data": {
      "text/plain": "(128.529366125692, 129.04206244573655)"
     },
     "execution_count": 49,
     "metadata": {},
     "output_type": "execute_result"
    }
   ],
   "source": [
    "length = t_2 * sigma_x / n ** 0.5\n",
    "confidence_interval_dispersion_unknown_x_2 = (x_sample - length, x_sample + length)\n",
    "confidence_interval_dispersion_unknown_x_2"
   ],
   "metadata": {
    "collapsed": false,
    "ExecuteTime": {
     "start_time": "2023-05-10T02:44:13.943211Z",
     "end_time": "2023-05-10T02:44:13.943211Z"
    }
   }
  },
  {
   "cell_type": "markdown",
   "source": [
    "### Для y"
   ],
   "metadata": {
    "collapsed": false
   }
  },
  {
   "cell_type": "code",
   "execution_count": 50,
   "outputs": [
    {
     "data": {
      "text/plain": "(26.928994866828475, 27.669644588953823)"
     },
     "execution_count": 50,
     "metadata": {},
     "output_type": "execute_result"
    }
   ],
   "source": [
    "length = t_1 * sigma_y / n ** 0.5\n",
    "confidence_interval_dispersion_unknown_y_1 = (y_sample - length, y_sample + length)\n",
    "confidence_interval_dispersion_unknown_y_1"
   ],
   "metadata": {
    "collapsed": false,
    "ExecuteTime": {
     "start_time": "2023-05-10T02:44:13.943211Z",
     "end_time": "2023-05-10T02:44:13.943211Z"
    }
   }
  },
  {
   "cell_type": "code",
   "execution_count": 51,
   "outputs": [
    {
     "data": {
      "text/plain": "(27.039320565649295, 27.559318890133003)"
     },
     "execution_count": 51,
     "metadata": {},
     "output_type": "execute_result"
    }
   ],
   "source": [
    "length = t_2 * sigma_y / n ** 0.5\n",
    "confidence_interval_dispersion_unknown_y_2 = (y_sample - length, y_sample + length)\n",
    "confidence_interval_dispersion_unknown_y_2"
   ],
   "metadata": {
    "collapsed": false,
    "ExecuteTime": {
     "start_time": "2023-05-10T02:44:13.943211Z",
     "end_time": "2023-05-10T02:44:13.944212Z"
    }
   }
  },
  {
   "cell_type": "markdown",
   "source": [
    "## Доверительный интервал, дисперсия известна"
   ],
   "metadata": {
    "collapsed": false
   }
  },
  {
   "cell_type": "code",
   "execution_count": 52,
   "outputs": [],
   "source": [
    "big_f = lambda x: erf(x / 2 ** 0.5) / 2"
   ],
   "metadata": {
    "collapsed": false,
    "ExecuteTime": {
     "start_time": "2023-05-10T02:44:13.944212Z",
     "end_time": "2023-05-10T02:44:13.944212Z"
    }
   }
  },
  {
   "cell_type": "code",
   "execution_count": 53,
   "outputs": [
    {
     "data": {
      "text/plain": "2.55"
     },
     "execution_count": 53,
     "metadata": {},
     "output_type": "execute_result"
    }
   ],
   "source": [
    "z_1 = 0\n",
    "for i in range(500):\n",
    "    if np.abs(np.round(big_f(float(i / 100)), 3) - gamma_1 / 2) <= 0.001:\n",
    "        z_1 = float(i / 100)\n",
    "        break\n",
    "z_1"
   ],
   "metadata": {
    "collapsed": false,
    "ExecuteTime": {
     "start_time": "2023-05-10T02:44:13.944212Z",
     "end_time": "2023-05-10T02:44:13.944212Z"
    }
   }
  },
  {
   "cell_type": "code",
   "execution_count": 54,
   "outputs": [
    {
     "data": {
      "text/plain": "1.96"
     },
     "execution_count": 54,
     "metadata": {},
     "output_type": "execute_result"
    }
   ],
   "source": [
    "z_2 = 0\n",
    "for i in range(500):\n",
    "    if np.abs(np.round(big_f(float(i / 100)), 3) - gamma_2 / 2) <= 0.001:\n",
    "        z_2 = float(i / 100)\n",
    "        break\n",
    "z_2"
   ],
   "metadata": {
    "collapsed": false,
    "ExecuteTime": {
     "start_time": "2023-05-10T02:44:13.944212Z",
     "end_time": "2023-05-10T02:44:13.944212Z"
    }
   }
  },
  {
   "cell_type": "markdown",
   "source": [
    "### Для x"
   ],
   "metadata": {
    "collapsed": false
   }
  },
  {
   "cell_type": "code",
   "execution_count": 55,
   "outputs": [
    {
     "data": {
      "text/plain": "(128.39209589753295, 129.1793326738956)"
     },
     "execution_count": 55,
     "metadata": {},
     "output_type": "execute_result"
    }
   ],
   "source": [
    "length = z_1 * sigma_x / n ** 0.5\n",
    "confidence_interval_x_1 = (x_sample - length, x_sample + length)\n",
    "confidence_interval_x_1"
   ],
   "metadata": {
    "collapsed": false,
    "ExecuteTime": {
     "start_time": "2023-05-10T02:44:13.944212Z",
     "end_time": "2023-05-10T02:44:13.944212Z"
    }
   }
  },
  {
   "cell_type": "code",
   "execution_count": 56,
   "outputs": [
    {
     "data": {
      "text/plain": "(128.48316838734746, 129.0882601840811)"
     },
     "execution_count": 56,
     "metadata": {},
     "output_type": "execute_result"
    }
   ],
   "source": [
    "length = z_2 * sigma_x / n ** 0.5\n",
    "confidence_interval_x_2 = (x_sample - length, x_sample + length)\n",
    "confidence_interval_x_2"
   ],
   "metadata": {
    "collapsed": false,
    "ExecuteTime": {
     "start_time": "2023-05-10T02:44:13.944212Z",
     "end_time": "2023-05-10T02:44:13.944212Z"
    }
   }
  },
  {
   "cell_type": "markdown",
   "source": [
    "### Для y"
   ],
   "metadata": {
    "collapsed": false
   }
  },
  {
   "cell_type": "code",
   "execution_count": 57,
   "outputs": [
    {
     "data": {
      "text/plain": "(26.900095285783827, 27.69854416999847)"
     },
     "execution_count": 57,
     "metadata": {},
     "output_type": "execute_result"
    }
   ],
   "source": [
    "length = z_1 * sigma_y / n ** 0.5\n",
    "confidence_interval_y_1 = (y_sample - length, y_sample + length)\n",
    "confidence_interval_y_1"
   ],
   "metadata": {
    "collapsed": false,
    "ExecuteTime": {
     "start_time": "2023-05-10T02:44:13.944212Z",
     "end_time": "2023-05-10T02:44:13.944212Z"
    }
   }
  },
  {
   "cell_type": "code",
   "execution_count": 58,
   "outputs": [
    {
     "data": {
      "text/plain": "(26.99246486258513, 27.606174593197167)"
     },
     "execution_count": 58,
     "metadata": {},
     "output_type": "execute_result"
    }
   ],
   "source": [
    "length = z_2 * sigma_y / n ** 0.5\n",
    "confidence_interval_y_2 = (y_sample - length, y_sample + length)\n",
    "confidence_interval_y_2"
   ],
   "metadata": {
    "collapsed": false,
    "ExecuteTime": {
     "start_time": "2023-05-10T02:44:13.944212Z",
     "end_time": "2023-05-10T02:44:13.944212Z"
    }
   }
  },
  {
   "cell_type": "markdown",
   "source": [
    "## Доверительные интервалы для дисперсии"
   ],
   "metadata": {
    "collapsed": false
   }
  },
  {
   "cell_type": "code",
   "execution_count": 59,
   "outputs": [],
   "source": [
    "chi2_1_1 = chi2.ppf(1 - (1 - gamma_1) / 2, n - 1)\n",
    "chi2_1_2 = chi2.ppf((1 - gamma_1) / 2, n - 1)\n",
    "\n",
    "chi2_2_1 = chi2.ppf(1 - (1 - gamma_2) / 2, n - 1)\n",
    "chi2_2_2 = chi2.ppf((1 - gamma_2) / 2, n - 1)"
   ],
   "metadata": {
    "collapsed": false,
    "ExecuteTime": {
     "start_time": "2023-05-10T02:44:13.944212Z",
     "end_time": "2023-05-10T02:44:13.945212Z"
    }
   }
  },
  {
   "cell_type": "markdown",
   "source": [
    "### Для x"
   ],
   "metadata": {
    "collapsed": false
   }
  },
  {
   "cell_type": "code",
   "execution_count": 60,
   "outputs": [
    {
     "data": {
      "text/plain": "(3.491169489844659, 1.6579004414574394)"
     },
     "execution_count": 60,
     "metadata": {},
     "output_type": "execute_result"
    }
   ],
   "source": [
    "sas = (n - 1) * s_2_x_corrected\n",
    "confidence_interval_sigma_x_1 = (sas / chi2_1_2, sas / chi2_1_1)\n",
    "confidence_interval_sigma_x_1"
   ],
   "metadata": {
    "collapsed": false,
    "ExecuteTime": {
     "start_time": "2023-05-10T02:44:13.945212Z",
     "end_time": "2023-05-10T02:44:13.945212Z"
    }
   }
  },
  {
   "cell_type": "code",
   "execution_count": 61,
   "outputs": [
    {
     "data": {
      "text/plain": "(3.1615746261059607, 1.7956034479758434)"
     },
     "execution_count": 61,
     "metadata": {},
     "output_type": "execute_result"
    }
   ],
   "source": [
    "confidence_interval_sigma_x_2 = (sas / chi2_2_2, sas / chi2_2_1)\n",
    "confidence_interval_sigma_x_2"
   ],
   "metadata": {
    "collapsed": false,
    "ExecuteTime": {
     "start_time": "2023-05-10T02:44:13.945212Z",
     "end_time": "2023-05-10T02:44:13.945212Z"
    }
   }
  },
  {
   "cell_type": "markdown",
   "source": [
    "### Для y"
   ],
   "metadata": {
    "collapsed": false
   }
  },
  {
   "cell_type": "code",
   "execution_count": 62,
   "outputs": [
    {
     "data": {
      "text/plain": "(3.59132262538415, 1.7054615604770886)"
     },
     "execution_count": 62,
     "metadata": {},
     "output_type": "execute_result"
    }
   ],
   "source": [
    "sas = (n - 1) * s_2_y_corrected\n",
    "confidence_interval_sigma_y_1 = (sas / chi2_1_2, sas / chi2_1_1)\n",
    "confidence_interval_sigma_y_1"
   ],
   "metadata": {
    "collapsed": false,
    "ExecuteTime": {
     "start_time": "2023-05-10T02:44:13.945212Z",
     "end_time": "2023-05-10T02:44:13.945212Z"
    }
   }
  },
  {
   "cell_type": "code",
   "execution_count": 63,
   "outputs": [
    {
     "data": {
      "text/plain": "(3.25227248909075, 1.8471149303096055)"
     },
     "execution_count": 63,
     "metadata": {},
     "output_type": "execute_result"
    }
   ],
   "source": [
    "confidence_interval_sigma_y_2 = (sas / chi2_2_2, sas / chi2_2_1)\n",
    "confidence_interval_sigma_y_2"
   ],
   "metadata": {
    "collapsed": false,
    "ExecuteTime": {
     "start_time": "2023-05-10T02:44:13.945212Z",
     "end_time": "2023-05-10T02:44:13.945212Z"
    }
   }
  },
  {
   "cell_type": "markdown",
   "source": [
    "## Проверка гипотез о законах распределения случайных величин"
   ],
   "metadata": {
    "collapsed": false
   }
  },
  {
   "cell_type": "markdown",
   "source": [
    "### Проверка гипотезы о том, что x распределена по нормальному закону"
   ],
   "metadata": {
    "collapsed": false
   }
  },
  {
   "cell_type": "code",
   "execution_count": 64,
   "outputs": [
    {
     "data": {
      "text/plain": "array([-2.15021338, -1.49580061, -0.84138784, -0.18697508,  0.46743769,\n        1.12185046,  1.77626323,  2.43067599])"
     },
     "execution_count": 64,
     "metadata": {},
     "output_type": "execute_result"
    }
   ],
   "source": [
    "u_x = (x_intervals - x_sample) / s_2_x_corrected ** 0.5\n",
    "u_x"
   ],
   "metadata": {
    "collapsed": false,
    "ExecuteTime": {
     "start_time": "2023-05-10T02:44:13.945212Z",
     "end_time": "2023-05-10T02:44:13.945212Z"
    }
   }
  },
  {
   "cell_type": "code",
   "execution_count": 65,
   "outputs": [
    {
     "data": {
      "text/plain": "array([-0.48423083, -0.43264719, -0.29993465, -0.07415991,  0.17990662,\n        0.36903699,  0.46215523,  0.49246466])"
     },
     "execution_count": 65,
     "metadata": {},
     "output_type": "execute_result"
    }
   ],
   "source": [
    "f_x = big_f(u_x)\n",
    "f_x"
   ],
   "metadata": {
    "collapsed": false,
    "ExecuteTime": {
     "start_time": "2023-05-10T02:44:13.945212Z",
     "end_time": "2023-05-10T02:44:13.945212Z"
    }
   }
  },
  {
   "cell_type": "code",
   "execution_count": 66,
   "outputs": [
    {
     "data": {
      "text/plain": "0    0.071429\n1    0.153061\n2    0.183673\n3    0.275510\n4    0.183673\n5    0.091837\n6    0.040816\nName: p_x, dtype: float64"
     },
     "execution_count": 66,
     "metadata": {},
     "output_type": "execute_result"
    }
   ],
   "source": [
    "df['p_x']"
   ],
   "metadata": {
    "collapsed": false,
    "ExecuteTime": {
     "start_time": "2023-05-10T02:44:13.946212Z",
     "end_time": "2023-05-10T02:44:13.946212Z"
    }
   }
  },
  {
   "cell_type": "code",
   "execution_count": 67,
   "outputs": [
    {
     "data": {
      "text/plain": "array([0.05158364, 0.13271254, 0.22577474, 0.25406653, 0.18913037,\n       0.09311824, 0.03030943])"
     },
     "execution_count": 67,
     "metadata": {},
     "output_type": "execute_result"
    }
   ],
   "source": [
    "r_x = np.array([big_f(u_x[i + 1]) - big_f(u_x[i]) for i in range(N)])\n",
    "r_x"
   ],
   "metadata": {
    "collapsed": false,
    "ExecuteTime": {
     "start_time": "2023-05-10T02:44:13.946212Z",
     "end_time": "2023-05-10T02:44:13.946212Z"
    }
   }
  },
  {
   "cell_type": "code",
   "execution_count": 68,
   "outputs": [
    {
     "data": {
      "text/plain": "2.3748057137334944"
     },
     "execution_count": 68,
     "metadata": {},
     "output_type": "execute_result"
    }
   ],
   "source": [
    "chi2_x_observed = np.sum((df['p_x'] - r_x) ** 2 / r_x) * n\n",
    "chi2_x_observed"
   ],
   "metadata": {
    "collapsed": false,
    "ExecuteTime": {
     "start_time": "2023-05-10T02:44:13.946212Z",
     "end_time": "2023-05-10T02:44:13.946212Z"
    }
   }
  },
  {
   "cell_type": "code",
   "execution_count": 69,
   "outputs": [
    {
     "data": {
      "text/plain": "True"
     },
     "execution_count": 69,
     "metadata": {},
     "output_type": "execute_result"
    }
   ],
   "source": [
    "chi2_x_observed < chi2.ppf(0.9, n - 1)"
   ],
   "metadata": {
    "collapsed": false,
    "ExecuteTime": {
     "start_time": "2023-05-10T02:44:13.946212Z",
     "end_time": "2023-05-10T02:44:13.946212Z"
    }
   }
  },
  {
   "cell_type": "markdown",
   "source": [
    "Наблюдаемая $ \\chi_p^2\\left(k\\right) $ меньше рассчитанной $ \\chi_{набл}^2 $, следовательно, гипотеза о том, что величина X распределена по нормальному закону, верна."
   ],
   "metadata": {
    "collapsed": false
   }
  },
  {
   "cell_type": "markdown",
   "source": [
    "### Проверка гипотез о законе распеределения y"
   ],
   "metadata": {
    "collapsed": false
   }
  },
  {
   "cell_type": "markdown",
   "source": [
    "##### Проверка гипотезы о том, что величина Y распределена по нормальному закону"
   ],
   "metadata": {
    "collapsed": false
   }
  },
  {
   "cell_type": "code",
   "execution_count": 70,
   "outputs": [
    {
     "data": {
      "text/plain": "array([-3.20416997, -2.34387228, -1.48357459, -0.6232769 ,  0.23702079,\n        1.09731848,  1.95761617,  2.81791386])"
     },
     "execution_count": 70,
     "metadata": {},
     "output_type": "execute_result"
    }
   ],
   "source": [
    "u_y = (y_intervals - y_sample) / s_2_y_corrected ** 0.5\n",
    "u_y"
   ],
   "metadata": {
    "collapsed": false,
    "ExecuteTime": {
     "start_time": "2023-05-10T02:44:13.946212Z",
     "end_time": "2023-05-10T02:44:13.946212Z"
    }
   }
  },
  {
   "cell_type": "code",
   "execution_count": 71,
   "outputs": [
    {
     "data": {
      "text/plain": "array([-0.49932274, -0.49045765, -0.43103909, -0.23344871,  0.09367967,\n        0.3637489 ,  0.47486247,  0.49758316])"
     },
     "execution_count": 71,
     "metadata": {},
     "output_type": "execute_result"
    }
   ],
   "source": [
    "f_y = big_f(u_y)\n",
    "f_y"
   ],
   "metadata": {
    "collapsed": false,
    "ExecuteTime": {
     "start_time": "2023-05-10T02:44:13.946212Z",
     "end_time": "2023-05-10T02:44:13.946212Z"
    }
   }
  },
  {
   "cell_type": "code",
   "execution_count": 72,
   "outputs": [
    {
     "data": {
      "text/plain": "array([0.00886509, 0.05941855, 0.19759038, 0.32712838, 0.27006923,\n       0.11111356, 0.0227207 ])"
     },
     "execution_count": 72,
     "metadata": {},
     "output_type": "execute_result"
    }
   ],
   "source": [
    "r_y = np.array([big_f(u_y[i + 1]) - big_f(u_y[i]) for i in range(N)])\n",
    "r_y"
   ],
   "metadata": {
    "collapsed": false,
    "ExecuteTime": {
     "start_time": "2023-05-10T02:44:13.946212Z",
     "end_time": "2023-05-10T02:44:13.946212Z"
    }
   }
  },
  {
   "cell_type": "code",
   "execution_count": 73,
   "outputs": [
    {
     "data": {
      "text/plain": "16.15641288592106"
     },
     "execution_count": 73,
     "metadata": {},
     "output_type": "execute_result"
    }
   ],
   "source": [
    "chi2_y_observed = np.sum((df['p_y'] - r_y) ** 2 / r_y) * n\n",
    "chi2_y_observed"
   ],
   "metadata": {
    "collapsed": false,
    "ExecuteTime": {
     "start_time": "2023-05-10T02:44:13.977219Z",
     "end_time": "2023-05-10T02:44:13.977219Z"
    }
   }
  },
  {
   "cell_type": "code",
   "execution_count": 74,
   "outputs": [
    {
     "data": {
      "text/plain": "True"
     },
     "execution_count": 74,
     "metadata": {},
     "output_type": "execute_result"
    }
   ],
   "source": [
    "chi2_y_observed < chi2.ppf(0.9, n - 1)"
   ],
   "metadata": {
    "collapsed": false,
    "ExecuteTime": {
     "start_time": "2023-05-10T02:44:13.977219Z",
     "end_time": "2023-05-10T02:44:13.977219Z"
    }
   }
  },
  {
   "cell_type": "markdown",
   "source": [
    "Наблюдаемая $ \\chi_p^2\\left(k\\right) $ меньше рассчитанной $ \\chi_{набл}^2 $, следовательно, гипотеза о том, что величина Y распределена по нормальному закону, верна."
   ],
   "metadata": {
    "collapsed": false
   }
  },
  {
   "cell_type": "markdown",
   "source": [
    "##### Проверка гипотезы о том, что величина Y распределена по закону Пуассона"
   ],
   "metadata": {
    "collapsed": false
   }
  },
  {
   "cell_type": "code",
   "execution_count": 75,
   "outputs": [
    {
     "data": {
      "text/plain": "1.3591409142295225"
     },
     "execution_count": 75,
     "metadata": {},
     "output_type": "execute_result"
    }
   ],
   "source": [
    "poisson = lambda x, x_avg: np.e ** x / x_avg\n",
    "poisson(1, 2)"
   ],
   "metadata": {
    "collapsed": false,
    "ExecuteTime": {
     "start_time": "2023-05-10T02:44:13.977219Z",
     "end_time": "2023-05-10T02:44:13.978219Z"
    }
   }
  },
  {
   "cell_type": "code",
   "execution_count": 76,
   "outputs": [
    {
     "data": {
      "text/plain": "array([0.00202799, 0.0047939 , 0.01133212, 0.02678759, 0.06332222,\n       0.14968514, 0.35383536])"
     },
     "execution_count": 76,
     "metadata": {},
     "output_type": "execute_result"
    }
   ],
   "source": [
    "r_y = np.array([poisson(u_y[i + 1], y_sample) - poisson(u_y[i], y_sample) for i in range(N)])\n",
    "r_y"
   ],
   "metadata": {
    "collapsed": false,
    "ExecuteTime": {
     "start_time": "2023-05-10T02:44:13.978219Z",
     "end_time": "2023-05-10T02:44:13.978219Z"
    }
   }
  },
  {
   "cell_type": "code",
   "execution_count": 77,
   "outputs": [
    {
     "data": {
      "text/plain": "1141.484735285083"
     },
     "execution_count": 77,
     "metadata": {},
     "output_type": "execute_result"
    }
   ],
   "source": [
    "chi2_y_observed = np.sum((df['p_y'] - r_y) ** 2 / r_y) * n\n",
    "chi2_y_observed"
   ],
   "metadata": {
    "collapsed": false,
    "ExecuteTime": {
     "start_time": "2023-05-10T02:44:13.978219Z",
     "end_time": "2023-05-10T02:44:13.978219Z"
    }
   }
  },
  {
   "cell_type": "code",
   "execution_count": 78,
   "outputs": [
    {
     "data": {
      "text/plain": "False"
     },
     "execution_count": 78,
     "metadata": {},
     "output_type": "execute_result"
    }
   ],
   "source": [
    "chi2_y_observed < chi2.ppf(0.9, n - 1)"
   ],
   "metadata": {
    "collapsed": false,
    "ExecuteTime": {
     "start_time": "2023-05-10T02:44:13.978219Z",
     "end_time": "2023-05-10T02:44:13.978219Z"
    }
   }
  },
  {
   "cell_type": "markdown",
   "source": [
    "Наблюдаемая $ \\chi_p^2\\left(k\\right) $ больше рассчитанной $ \\chi_{набл}^2 $, следовательно, гипотеза о том, что величина Y распределена по закону Пуассона, не верна."
   ],
   "metadata": {
    "collapsed": false
   }
  },
  {
   "cell_type": "markdown",
   "source": [
    "##### Проверка гипотезы о том, что величина Y распределена по равномерному закону"
   ],
   "metadata": {
    "collapsed": false
   }
  },
  {
   "cell_type": "code",
   "execution_count": 79,
   "outputs": [
    {
     "data": {
      "text/plain": "array([0.14285714, 0.14285714, 0.14285714, 0.14285714, 0.14285714,\n       0.14285714, 0.14285714])"
     },
     "execution_count": 79,
     "metadata": {},
     "output_type": "execute_result"
    }
   ],
   "source": [
    "r_y = np.array([1 / N for i in range(N)])\n",
    "r_y"
   ],
   "metadata": {
    "collapsed": false,
    "ExecuteTime": {
     "start_time": "2023-05-10T02:44:13.978219Z",
     "end_time": "2023-05-10T02:44:13.978219Z"
    }
   }
  },
  {
   "cell_type": "code",
   "execution_count": 80,
   "outputs": [
    {
     "data": {
      "text/plain": "76.85714285714286"
     },
     "execution_count": 80,
     "metadata": {},
     "output_type": "execute_result"
    }
   ],
   "source": [
    "chi2_y_observed = np.sum((df['p_y'] - r_y) ** 2 / r_y) * n\n",
    "chi2_y_observed"
   ],
   "metadata": {
    "collapsed": false,
    "ExecuteTime": {
     "start_time": "2023-05-10T02:44:13.978219Z",
     "end_time": "2023-05-10T02:44:13.978219Z"
    }
   }
  },
  {
   "cell_type": "code",
   "execution_count": 81,
   "outputs": [
    {
     "data": {
      "text/plain": "True"
     },
     "execution_count": 81,
     "metadata": {},
     "output_type": "execute_result"
    }
   ],
   "source": [
    "chi2_y_observed < chi2.ppf(0.9, n - 1)"
   ],
   "metadata": {
    "collapsed": false,
    "ExecuteTime": {
     "start_time": "2023-05-10T02:44:13.978219Z",
     "end_time": "2023-05-10T02:44:13.978219Z"
    }
   }
  },
  {
   "cell_type": "markdown",
   "source": [
    "Наблюдаемая $ \\chi_p^2\\left(k\\right) $ меньше рассчитанной $ \\chi_{набл}^2 $, следовательно, гипотеза о том, что величина Y распределена по равномерному закону, может быть верна, но для неё $ \\chi_{набл}^2 $ больше, чем та же величина, вычисленная при проверке гипотезы о том, что Y распределена по нормальному закону."
   ],
   "metadata": {
    "collapsed": false
   }
  },
  {
   "cell_type": "markdown",
   "source": [
    "# Lab №8"
   ],
   "metadata": {
    "collapsed": false
   }
  },
  {
   "cell_type": "markdown",
   "source": [
    "## Проверка гипотезы о виде связи между X и Y"
   ],
   "metadata": {
    "collapsed": false
   }
  },
  {
   "cell_type": "code",
   "execution_count": 82,
   "outputs": [
    {
     "data": {
      "text/plain": "11.755300036802304"
     },
     "execution_count": 82,
     "metadata": {},
     "output_type": "execute_result"
    }
   ],
   "source": [
    "t_observed = r_sample * np.sqrt(n - 2) / np.sqrt(1 - r_sample ** 2)\n",
    "t_observed"
   ],
   "metadata": {
    "collapsed": false,
    "ExecuteTime": {
     "start_time": "2023-05-10T02:44:13.979219Z",
     "end_time": "2023-05-10T02:44:13.979219Z"
    }
   }
  },
  {
   "cell_type": "code",
   "execution_count": 83,
   "outputs": [
    {
     "data": {
      "text/plain": "False"
     },
     "execution_count": 83,
     "metadata": {},
     "output_type": "execute_result"
    }
   ],
   "source": [
    "t_observed < t.ppf(0.9, n - 2)"
   ],
   "metadata": {
    "collapsed": false,
    "ExecuteTime": {
     "start_time": "2023-05-10T02:44:13.979219Z",
     "end_time": "2023-05-10T02:44:13.979219Z"
    }
   }
  },
  {
   "cell_type": "markdown",
   "source": [
    "$ |T_{набл} |≥T_p (k) $, значит, X и Y связаны линейно."
   ],
   "metadata": {
    "collapsed": false
   }
  },
  {
   "cell_type": "markdown",
   "source": [
    "## Метод наименьших квадратов для линейной регрессии"
   ],
   "metadata": {
    "collapsed": false
   }
  },
  {
   "cell_type": "code",
   "execution_count": 84,
   "outputs": [],
   "source": [
    "def cool_regression(x, y, scale: int = 2):\n",
    "    matrix = []\n",
    "    for i in range(scale):\n",
    "        coefs_i = []\n",
    "        for j in range(i, i + scale):\n",
    "            coefs_i.append(np.sum(np.power(x, j)))\n",
    "        matrix.append(coefs_i)\n",
    "    vec = [np.sum(y.reshape(len(x), ) * np.power(x, i)) for i in range(scale)]\n",
    "    return np.linalg.solve(matrix, vec)"
   ],
   "metadata": {
    "collapsed": false,
    "ExecuteTime": {
     "start_time": "2023-05-10T02:44:13.979219Z",
     "end_time": "2023-05-10T02:44:13.979219Z"
    }
   }
  },
  {
   "cell_type": "code",
   "execution_count": 85,
   "outputs": [],
   "source": [
    "def cool_function(x, coefficients):\n",
    "    return sum(coefficients[i] * x ** i for i in range(len(coefficients)))"
   ],
   "metadata": {
    "collapsed": false,
    "ExecuteTime": {
     "start_time": "2023-05-10T02:44:13.979219Z",
     "end_time": "2023-05-10T02:44:13.979219Z"
    }
   }
  },
  {
   "cell_type": "code",
   "execution_count": 86,
   "outputs": [
    {
     "data": {
      "text/plain": "array([-70.0756859 ,   0.75528225])"
     },
     "execution_count": 86,
     "metadata": {},
     "output_type": "execute_result"
    }
   ],
   "source": [
    "cool_regression(x, y)"
   ],
   "metadata": {
    "collapsed": false,
    "ExecuteTime": {
     "start_time": "2023-05-10T02:44:13.979219Z",
     "end_time": "2023-05-10T02:44:13.979219Z"
    }
   }
  },
  {
   "cell_type": "code",
   "execution_count": 87,
   "outputs": [
    {
     "data": {
      "text/plain": "<matplotlib.collections.PathCollection at 0x194c22267d0>"
     },
     "execution_count": 87,
     "metadata": {},
     "output_type": "execute_result"
    },
    {
     "data": {
      "text/plain": "<Figure size 640x480 with 1 Axes>",
      "image/png": "[encoded data removed]"
     },
     "metadata": {},
     "output_type": "display_data"
    }
   ],
   "source": [
    "coefficients = cool_regression(x, y)\n",
    "y_estimate = cool_function(x, coefficients)\n",
    "plt.plot(x, y_estimate, color='red')\n",
    "plt.scatter(x, y)"
   ],
   "metadata": {
    "collapsed": false,
    "ExecuteTime": {
     "start_time": "2023-05-10T02:44:13.979219Z",
     "end_time": "2023-05-10T02:44:13.979219Z"
    }
   }
  },
  {
   "cell_type": "code",
   "execution_count": 88,
   "outputs": [
    {
     "data": {
      "text/plain": "<matplotlib.collections.PathCollection at 0x194c22a5780>"
     },
     "execution_count": 88,
     "metadata": {},
     "output_type": "execute_result"
    },
    {
     "data": {
      "text/plain": "<Figure size 640x480 with 1 Axes>",
      "image/png": "[encoded data removed]"
     },
     "metadata": {},
     "output_type": "display_data"
    }
   ],
   "source": [
    "coefficients = cool_regression(x, y, scale=3)\n",
    "y_estimate_2 = cool_function(x, coefficients)\n",
    "plt.plot(x, y_estimate_2, color='red')\n",
    "plt.scatter(x, y)"
   ],
   "metadata": {
    "collapsed": false,
    "ExecuteTime": {
     "start_time": "2023-05-10T02:44:13.979219Z",
     "end_time": "2023-05-10T02:44:13.979219Z"
    }
   }
  },
  {
   "cell_type": "markdown",
   "source": [
    "Среднеквадратическое отклонение между двумя полученными функциями"
   ],
   "metadata": {
    "collapsed": false
   }
  },
  {
   "cell_type": "code",
   "execution_count": 89,
   "outputs": [
    {
     "data": {
      "text/plain": "4.97811233863724e-10"
     },
     "execution_count": 89,
     "metadata": {},
     "output_type": "execute_result"
    }
   ],
   "source": [
    "error = np.sqrt(np.sum(np.power(y_estimate - y_estimate_2, 2))) / n\n",
    "error"
   ],
   "metadata": {
    "collapsed": false,
    "ExecuteTime": {
     "start_time": "2023-05-10T02:44:13.980219Z",
     "end_time": "2023-05-10T02:44:13.980219Z"
    }
   }
  },
  {
   "cell_type": "code",
   "execution_count": 90,
   "outputs": [
    {
     "data": {
      "text/plain": "True"
     },
     "execution_count": 90,
     "metadata": {},
     "output_type": "execute_result"
    }
   ],
   "source": [
    "np.round(error, 5) == 0"
   ],
   "metadata": {
    "collapsed": false,
    "ExecuteTime": {
     "start_time": "2023-05-10T02:44:13.980219Z",
     "end_time": "2023-05-10T02:44:13.980219Z"
    }
   }
  },
  {
   "cell_type": "markdown",
   "source": [
    "Среднеквадратическое отклонение между реальными данными и полученной функцией"
   ],
   "metadata": {
    "collapsed": false
   }
  },
  {
   "cell_type": "code",
   "execution_count": 91,
   "outputs": [
    {
     "data": {
      "text/plain": "0.08421249589725395"
     },
     "execution_count": 91,
     "metadata": {},
     "output_type": "execute_result"
    }
   ],
   "source": [
    "error = np.sqrt(np.sum(np.power(y - y_estimate, 2))) / n\n",
    "error"
   ],
   "metadata": {
    "collapsed": false,
    "ExecuteTime": {
     "start_time": "2023-05-10T02:44:13.980219Z",
     "end_time": "2023-05-10T02:44:13.980219Z"
    }
   }
  }
 ],
 "metadata": {
  "kernelspec": {
   "display_name": "Python 3",
   "language": "python",
   "name": "python3"
  },
  "language_info": {
   "codemirror_mode": {
    "name": "ipython",
    "version": 2
   },
   "file_extension": ".py",
   "mimetype": "text/x-python",
   "name": "python",
   "nbconvert_exporter": "python",
   "pygments_lexer": "ipython2",
   "version": "2.7.6"
  }
 },
 "nbformat": 4,
 "nbformat_minor": 0
}
