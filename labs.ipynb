{
 "cells": [
  {
   "cell_type": "markdown",
   "source": [
    "# Lab №6"
   ],
   "metadata": {
    "collapsed": false
   }
  },
  {
   "cell_type": "code",
   "execution_count": 736,
   "outputs": [],
   "source": [
    "import numpy as np\n",
    "import matplotlib.pyplot as plt\n",
    "import pandas as pd\n",
    "from scipy.special import erf\n",
    "from scipy.stats import chi2, t, zscore"
   ],
   "metadata": {
    "collapsed": false,
    "ExecuteTime": {
     "start_time": "2023-05-18T14:00:36.921669Z",
     "end_time": "2023-05-18T14:00:36.922173Z"
    }
   }
  },
  {
   "cell_type": "markdown",
   "source": [
    "# Исходные данные"
   ],
   "metadata": {
    "collapsed": false
   }
  },
  {
   "cell_type": "code",
   "execution_count": 737,
   "outputs": [],
   "source": [
    "x = np.array(\n",
    "    [128, 132, 129, 126, 130, 128, 129, 129, 127, 130, 128, 131, 127, 129, 127, 131, 130, 127, 130, 128, 129, 129, 126,\n",
    "     128, 128, 130, 129, 127, 131, 128, 130, 126, 130, 129, 129, 127, 129, 126, 130, 126, 130, 129, 127, 129, 130, 128,\n",
    "     131, 127, 132, 129, 129, 129, 130, 129, 130, 129, 128, 129, 127, 131, 129, 131, 128, 132, 128, 126, 129, 128, 128,\n",
    "     129, 127, 128, 128, 130, 128, 127, 129, 128, 131, 129, 127, 130, 126, 131, 130, 129, 129, 127, 132, 127, 130, 128,\n",
    "     128, 130, 129, 131, 127, 129, 130, 131, ])\n",
    "\n",
    "y = np.array(\n",
    "    [25, 31, 27, 25, 28, 27, 26, 28, 26, 27, 26, 28, 27, 28, 26, 28, 28, 26, 27, 27, 26, 28, 25, 27, 26, 27, 26, 26, 29,\n",
    "     27, 29, 25, 27, 27, 27, 26, 28, 25, 29, 25, 28, 27, 26, 29, 28, 27, 29, 26, 30, 29, 27, 26, 28, 27, 28, 26, 25, 28,\n",
    "     27, 28, 28, 19, 18, 31, 26, 25, 27, 27, 28, 26, 26, 26, 27, 29, 26, 26, 28, 27, 30, 26, 27, 28, 27, 30, 29, 28, 27,\n",
    "     26, 30, 33, 28, 27, 26, 28, 28, 28, 26, 28, 28, 29, ])"
   ],
   "metadata": {
    "collapsed": false,
    "ExecuteTime": {
     "start_time": "2023-05-18T14:00:39.663717Z",
     "end_time": "2023-05-18T14:00:39.663717Z"
    }
   }
  },
  {
   "cell_type": "code",
   "execution_count": 738,
   "outputs": [
    {
     "data": {
      "text/plain": "<matplotlib.collections.PathCollection at 0x1cf375aaad0>"
     },
     "execution_count": 738,
     "metadata": {},
     "output_type": "execute_result"
    },
    {
     "data": {
      "text/plain": "<Figure size 640x480 with 1 Axes>",
      "image/png": "[encoded data removed]"
     },
     "metadata": {},
     "output_type": "display_data"
    }
   ],
   "source": [
    "plt.scatter(x, y)"
   ],
   "metadata": {
    "collapsed": false,
    "ExecuteTime": {
     "start_time": "2023-05-18T14:00:40.004032Z",
     "end_time": "2023-05-18T14:00:40.004032Z"
    }
   }
  },
  {
   "cell_type": "markdown",
   "source": [
    "### Фильтрация от выбросов"
   ],
   "metadata": {
    "collapsed": false
   }
  },
  {
   "cell_type": "code",
   "execution_count": 739,
   "outputs": [
    {
     "data": {
      "text/plain": "(97, 2)"
     },
     "execution_count": 739,
     "metadata": {},
     "output_type": "execute_result"
    }
   ],
   "source": [
    "data = pd.DataFrame({'x': x, 'y': y})\n",
    "z = np.abs(zscore(data))\n",
    "data_clean = data[(z < 3).all(axis=1)]\n",
    "data_clean.shape"
   ],
   "metadata": {
    "collapsed": false,
    "ExecuteTime": {
     "start_time": "2023-05-18T14:00:40.004032Z",
     "end_time": "2023-05-18T14:00:40.004032Z"
    }
   }
  },
  {
   "cell_type": "code",
   "execution_count": 740,
   "outputs": [
    {
     "data": {
      "text/plain": "<matplotlib.collections.PathCollection at 0x1cf37664750>"
     },
     "execution_count": 740,
     "metadata": {},
     "output_type": "execute_result"
    },
    {
     "data": {
      "text/plain": "<Figure size 640x480 with 1 Axes>",
      "image/png": "[encoded data removed]"
     },
     "metadata": {},
     "output_type": "display_data"
    }
   ],
   "source": [
    "plt.scatter(data_clean['x'], data_clean['y'])"
   ],
   "metadata": {
    "collapsed": false,
    "ExecuteTime": {
     "start_time": "2023-05-18T14:00:40.426103Z",
     "end_time": "2023-05-18T14:00:40.426103Z"
    }
   }
  },
  {
   "cell_type": "code",
   "execution_count": 741,
   "outputs": [],
   "source": [
    "x = np.array(data_clean['x'])\n",
    "y = np.array(data_clean['y'])"
   ],
   "metadata": {
    "collapsed": false,
    "ExecuteTime": {
     "start_time": "2023-05-18T14:00:40.426103Z",
     "end_time": "2023-05-18T14:00:40.426103Z"
    }
   }
  },
  {
   "cell_type": "markdown",
   "source": [
    "# Группирование данных по интервалам"
   ],
   "metadata": {
    "collapsed": false
   }
  },
  {
   "cell_type": "markdown",
   "source": [
    "### Для x"
   ],
   "metadata": {
    "collapsed": false
   }
  },
  {
   "cell_type": "code",
   "execution_count": 742,
   "outputs": [],
   "source": [
    "N_x = 7\n",
    "N_y = 4\n",
    "n = x.__len__()"
   ],
   "metadata": {
    "collapsed": false,
    "ExecuteTime": {
     "start_time": "2023-05-18T14:00:40.426103Z",
     "end_time": "2023-05-18T14:00:40.426103Z"
    }
   }
  },
  {
   "cell_type": "code",
   "execution_count": 743,
   "outputs": [
    {
     "data": {
      "text/plain": "1.0"
     },
     "execution_count": 743,
     "metadata": {},
     "output_type": "execute_result"
    }
   ],
   "source": [
    "h_x = (np.max(x) - np.min(x)) / (N_x - 1)\n",
    "h_x"
   ],
   "metadata": {
    "collapsed": false,
    "ExecuteTime": {
     "start_time": "2023-05-18T14:00:40.427165Z",
     "end_time": "2023-05-18T14:00:40.427165Z"
    }
   }
  },
  {
   "cell_type": "code",
   "execution_count": 744,
   "outputs": [
    {
     "data": {
      "text/plain": "[125.5, 126.5, 127.5, 128.5, 129.5, 130.5, 131.5, 132.5]"
     },
     "execution_count": 744,
     "metadata": {},
     "output_type": "execute_result"
    }
   ],
   "source": [
    "x_intervals = [np.min(x) - h_x / 2, ]\n",
    "for i in range(1, N_x + 1):\n",
    "    x_intervals.append(x_intervals[i - 1] + h_x)\n",
    "\n",
    "x_intervals"
   ],
   "metadata": {
    "collapsed": false,
    "ExecuteTime": {
     "start_time": "2023-05-18T14:00:40.427165Z",
     "end_time": "2023-05-18T14:00:40.427165Z"
    }
   }
  },
  {
   "cell_type": "code",
   "execution_count": 745,
   "outputs": [
    {
     "data": {
      "text/plain": "[126.0, 127.0, 128.0, 129.0, 130.0, 131.0, 132.0]"
     },
     "execution_count": 745,
     "metadata": {},
     "output_type": "execute_result"
    }
   ],
   "source": [
    "x_avgs = [x_intervals[0] + h_x / 2, ]\n",
    "for i in range(2, N_x + 1):\n",
    "    x_avgs.append((x_intervals[i - 1] + x_intervals[i]) / 2)\n",
    "\n",
    "x_avgs"
   ],
   "metadata": {
    "collapsed": false,
    "ExecuteTime": {
     "start_time": "2023-05-18T14:00:40.427165Z",
     "end_time": "2023-05-18T14:00:40.427165Z"
    }
   }
  },
  {
   "cell_type": "code",
   "execution_count": 746,
   "outputs": [
    {
     "data": {
      "text/plain": "array([ 7, 14, 18, 27, 18,  9,  4])"
     },
     "execution_count": 746,
     "metadata": {},
     "output_type": "execute_result"
    }
   ],
   "source": [
    "m_x = []\n",
    "for i in range(N_x):\n",
    "    m_i = 0\n",
    "    for x_i in x:\n",
    "        if i == N_x - 1:\n",
    "            if x_intervals[i] <= x_i <= x_intervals[i + 1]:\n",
    "                m_i += 1\n",
    "        else:\n",
    "            if x_intervals[i] <= x_i < x_intervals[i + 1]:\n",
    "                m_i += 1\n",
    "    m_x.append(m_i)\n",
    "\n",
    "m_x = np.array(m_x)\n",
    "m_x"
   ],
   "metadata": {
    "collapsed": false,
    "ExecuteTime": {
     "start_time": "2023-05-18T14:00:40.430342Z",
     "end_time": "2023-05-18T14:00:40.430342Z"
    }
   }
  },
  {
   "cell_type": "code",
   "execution_count": 747,
   "outputs": [
    {
     "data": {
      "text/plain": "array([0.07216495, 0.1443299 , 0.18556701, 0.27835052, 0.18556701,\n       0.09278351, 0.04123711])"
     },
     "execution_count": 747,
     "metadata": {},
     "output_type": "execute_result"
    }
   ],
   "source": [
    "p_x = m_x / n\n",
    "p_x"
   ],
   "metadata": {
    "collapsed": false,
    "ExecuteTime": {
     "start_time": "2023-05-18T14:00:40.430342Z",
     "end_time": "2023-05-18T14:00:40.430342Z"
    }
   }
  },
  {
   "cell_type": "code",
   "execution_count": 748,
   "outputs": [
    {
     "data": {
      "text/plain": "array([0.07216495, 0.1443299 , 0.18556701, 0.27835052, 0.18556701,\n       0.09278351, 0.04123711])"
     },
     "execution_count": 748,
     "metadata": {},
     "output_type": "execute_result"
    }
   ],
   "source": [
    "f_x = p_x / h_x\n",
    "f_x"
   ],
   "metadata": {
    "collapsed": false,
    "ExecuteTime": {
     "start_time": "2023-05-18T14:00:40.430342Z",
     "end_time": "2023-05-18T14:00:40.430342Z"
    }
   }
  },
  {
   "cell_type": "markdown",
   "source": [
    "Проверка условий"
   ],
   "metadata": {
    "collapsed": false
   }
  },
  {
   "cell_type": "code",
   "execution_count": 749,
   "outputs": [
    {
     "data": {
      "text/plain": "True"
     },
     "execution_count": 749,
     "metadata": {},
     "output_type": "execute_result"
    }
   ],
   "source": [
    "np.sum(m_x) == n"
   ],
   "metadata": {
    "collapsed": false,
    "ExecuteTime": {
     "start_time": "2023-05-18T14:00:40.472716Z",
     "end_time": "2023-05-18T14:00:40.472716Z"
    }
   }
  },
  {
   "cell_type": "code",
   "execution_count": 750,
   "outputs": [
    {
     "data": {
      "text/plain": "True"
     },
     "execution_count": 750,
     "metadata": {},
     "output_type": "execute_result"
    }
   ],
   "source": [
    "np.sum(p_x) == 1"
   ],
   "metadata": {
    "collapsed": false,
    "ExecuteTime": {
     "start_time": "2023-05-18T14:00:40.477837Z",
     "end_time": "2023-05-18T14:00:40.477837Z"
    }
   }
  },
  {
   "cell_type": "markdown",
   "source": [
    "### Для y"
   ],
   "metadata": {
    "collapsed": false
   }
  },
  {
   "cell_type": "code",
   "execution_count": 751,
   "outputs": [
    {
     "data": {
      "text/plain": "2.0"
     },
     "execution_count": 751,
     "metadata": {},
     "output_type": "execute_result"
    }
   ],
   "source": [
    "h_y = (np.max(y) - np.min(y)) / (N_y - 1)\n",
    "h_y"
   ],
   "metadata": {
    "collapsed": false,
    "ExecuteTime": {
     "start_time": "2023-05-18T14:00:40.477837Z",
     "end_time": "2023-05-18T14:00:40.477837Z"
    }
   }
  },
  {
   "cell_type": "code",
   "execution_count": 752,
   "outputs": [
    {
     "data": {
      "text/plain": "[24.0, 26.0, 28.0, 30.0, 32.0]"
     },
     "execution_count": 752,
     "metadata": {},
     "output_type": "execute_result"
    }
   ],
   "source": [
    "y_intervals = [np.min(y) - h_y / 2, ]\n",
    "for i in range(1, N_y + 1):\n",
    "    y_intervals.append(y_intervals[i - 1] + h_y)\n",
    "\n",
    "y_intervals"
   ],
   "metadata": {
    "collapsed": false,
    "ExecuteTime": {
     "start_time": "2023-05-18T14:00:40.477837Z",
     "end_time": "2023-05-18T14:00:40.477837Z"
    }
   }
  },
  {
   "cell_type": "code",
   "execution_count": 753,
   "outputs": [
    {
     "data": {
      "text/plain": "[25.0, 27.0, 29.0, 31.0]"
     },
     "execution_count": 753,
     "metadata": {},
     "output_type": "execute_result"
    }
   ],
   "source": [
    "y_avgs = [y_intervals[0] + h_y / 2, ]\n",
    "for i in range(2, N_y + 1):\n",
    "    y_avgs.append((y_intervals[i - 1] + y_intervals[i]) / 2)\n",
    "\n",
    "y_avgs"
   ],
   "metadata": {
    "collapsed": false,
    "ExecuteTime": {
     "start_time": "2023-05-18T14:00:40.477837Z",
     "end_time": "2023-05-18T14:00:40.477837Z"
    }
   }
  },
  {
   "cell_type": "code",
   "execution_count": 754,
   "outputs": [
    {
     "data": {
      "text/plain": "array([ 8, 49, 34,  6])"
     },
     "execution_count": 754,
     "metadata": {},
     "output_type": "execute_result"
    }
   ],
   "source": [
    "m_y = []\n",
    "for i in range(N_y):\n",
    "    m_i = 0\n",
    "    for y_i in y:\n",
    "        if i == N_y - 1:\n",
    "            if y_intervals[i] <= y_i <= y_intervals[i + 1]:\n",
    "                m_i += 1\n",
    "        else:\n",
    "            if y_intervals[i] <= y_i < y_intervals[i + 1]:\n",
    "                m_i += 1\n",
    "    m_y.append(m_i)\n",
    "\n",
    "m_y = np.array(m_y)\n",
    "m_y"
   ],
   "metadata": {
    "collapsed": false,
    "ExecuteTime": {
     "start_time": "2023-05-18T14:00:40.477837Z",
     "end_time": "2023-05-18T14:00:40.477837Z"
    }
   }
  },
  {
   "cell_type": "code",
   "execution_count": 755,
   "outputs": [
    {
     "data": {
      "text/plain": "array([0.08247423, 0.50515464, 0.35051546, 0.06185567])"
     },
     "execution_count": 755,
     "metadata": {},
     "output_type": "execute_result"
    }
   ],
   "source": [
    "p_y = m_y / n\n",
    "p_y"
   ],
   "metadata": {
    "collapsed": false,
    "ExecuteTime": {
     "start_time": "2023-05-18T14:00:40.477837Z",
     "end_time": "2023-05-18T14:00:40.477837Z"
    }
   }
  },
  {
   "cell_type": "code",
   "execution_count": 756,
   "outputs": [
    {
     "data": {
      "text/plain": "array([0.04123711, 0.25257732, 0.17525773, 0.03092784])"
     },
     "execution_count": 756,
     "metadata": {},
     "output_type": "execute_result"
    }
   ],
   "source": [
    "f_y = p_y / h_y\n",
    "f_y"
   ],
   "metadata": {
    "collapsed": false,
    "ExecuteTime": {
     "start_time": "2023-05-18T14:00:40.542717Z",
     "end_time": "2023-05-18T14:00:40.542717Z"
    }
   }
  },
  {
   "cell_type": "markdown",
   "source": [
    "Проверка условий"
   ],
   "metadata": {
    "collapsed": false
   }
  },
  {
   "cell_type": "code",
   "execution_count": 757,
   "outputs": [
    {
     "data": {
      "text/plain": "True"
     },
     "execution_count": 757,
     "metadata": {},
     "output_type": "execute_result"
    }
   ],
   "source": [
    "np.sum(m_y) == n"
   ],
   "metadata": {
    "collapsed": false,
    "ExecuteTime": {
     "start_time": "2023-05-18T14:00:40.542717Z",
     "end_time": "2023-05-18T14:00:40.542717Z"
    }
   }
  },
  {
   "cell_type": "code",
   "execution_count": 758,
   "outputs": [
    {
     "data": {
      "text/plain": "True"
     },
     "execution_count": 758,
     "metadata": {},
     "output_type": "execute_result"
    }
   ],
   "source": [
    "np.sum(p_y) == 1"
   ],
   "metadata": {
    "collapsed": false,
    "ExecuteTime": {
     "start_time": "2023-05-18T14:00:40.542717Z",
     "end_time": "2023-05-18T14:00:40.542717Z"
    }
   }
  },
  {
   "cell_type": "markdown",
   "source": [
    "# Статистический ряд и графики"
   ],
   "metadata": {
    "collapsed": false
   }
  },
  {
   "cell_type": "code",
   "execution_count": 759,
   "outputs": [
    {
     "data": {
      "text/plain": "                  0          1           2           3           4   \nx_avg_i  126.000000  127.00000  128.000000  129.000000  130.000000  \\\nm_x        7.000000   14.00000   18.000000   27.000000   18.000000   \np_x        0.072165    0.14433    0.185567    0.278351    0.185567   \nf_x        0.072165    0.14433    0.185567    0.278351    0.185567   \n\n                  5           6  \nx_avg_i  131.000000  132.000000  \nm_x        9.000000    4.000000  \np_x        0.092784    0.041237  \nf_x        0.092784    0.041237  ",
      "text/html": "<div>\n<style scoped>\n    .dataframe tbody tr th:only-of-type {\n        vertical-align: middle;\n    }\n\n    .dataframe tbody tr th {\n        vertical-align: top;\n    }\n\n    .dataframe thead th {\n        text-align: right;\n    }\n</style>\n<table border=\"1\" class=\"dataframe\">\n  <thead>\n    <tr style=\"text-align: right;\">\n      <th></th>\n      <th>0</th>\n      <th>1</th>\n      <th>2</th>\n      <th>3</th>\n      <th>4</th>\n      <th>5</th>\n      <th>6</th>\n    </tr>\n  </thead>\n  <tbody>\n    <tr>\n      <th>x_avg_i</th>\n      <td>126.000000</td>\n      <td>127.00000</td>\n      <td>128.000000</td>\n      <td>129.000000</td>\n      <td>130.000000</td>\n      <td>131.000000</td>\n      <td>132.000000</td>\n    </tr>\n    <tr>\n      <th>m_x</th>\n      <td>7.000000</td>\n      <td>14.00000</td>\n      <td>18.000000</td>\n      <td>27.000000</td>\n      <td>18.000000</td>\n      <td>9.000000</td>\n      <td>4.000000</td>\n    </tr>\n    <tr>\n      <th>p_x</th>\n      <td>0.072165</td>\n      <td>0.14433</td>\n      <td>0.185567</td>\n      <td>0.278351</td>\n      <td>0.185567</td>\n      <td>0.092784</td>\n      <td>0.041237</td>\n    </tr>\n    <tr>\n      <th>f_x</th>\n      <td>0.072165</td>\n      <td>0.14433</td>\n      <td>0.185567</td>\n      <td>0.278351</td>\n      <td>0.185567</td>\n      <td>0.092784</td>\n      <td>0.041237</td>\n    </tr>\n  </tbody>\n</table>\n</div>"
     },
     "execution_count": 759,
     "metadata": {},
     "output_type": "execute_result"
    }
   ],
   "source": [
    "df_x = pd.DataFrame(\n",
    "    data={'x_avg_i': x_avgs, 'm_x': m_x, 'p_x': p_x, 'f_x': f_x, })\n",
    "df_x.T"
   ],
   "metadata": {
    "collapsed": false,
    "ExecuteTime": {
     "start_time": "2023-05-18T14:00:40.542717Z",
     "end_time": "2023-05-18T14:00:40.542717Z"
    }
   }
  },
  {
   "cell_type": "code",
   "execution_count": 760,
   "outputs": [
    {
     "data": {
      "text/plain": "                 0          1          2          3\ny_avg_i  25.000000  27.000000  29.000000  31.000000\nm_y       8.000000  49.000000  34.000000   6.000000\np_y       0.082474   0.505155   0.350515   0.061856\nf_y       0.041237   0.252577   0.175258   0.030928",
      "text/html": "<div>\n<style scoped>\n    .dataframe tbody tr th:only-of-type {\n        vertical-align: middle;\n    }\n\n    .dataframe tbody tr th {\n        vertical-align: top;\n    }\n\n    .dataframe thead th {\n        text-align: right;\n    }\n</style>\n<table border=\"1\" class=\"dataframe\">\n  <thead>\n    <tr style=\"text-align: right;\">\n      <th></th>\n      <th>0</th>\n      <th>1</th>\n      <th>2</th>\n      <th>3</th>\n    </tr>\n  </thead>\n  <tbody>\n    <tr>\n      <th>y_avg_i</th>\n      <td>25.000000</td>\n      <td>27.000000</td>\n      <td>29.000000</td>\n      <td>31.000000</td>\n    </tr>\n    <tr>\n      <th>m_y</th>\n      <td>8.000000</td>\n      <td>49.000000</td>\n      <td>34.000000</td>\n      <td>6.000000</td>\n    </tr>\n    <tr>\n      <th>p_y</th>\n      <td>0.082474</td>\n      <td>0.505155</td>\n      <td>0.350515</td>\n      <td>0.061856</td>\n    </tr>\n    <tr>\n      <th>f_y</th>\n      <td>0.041237</td>\n      <td>0.252577</td>\n      <td>0.175258</td>\n      <td>0.030928</td>\n    </tr>\n  </tbody>\n</table>\n</div>"
     },
     "execution_count": 760,
     "metadata": {},
     "output_type": "execute_result"
    }
   ],
   "source": [
    "df_y = pd.DataFrame(\n",
    "    data={'y_avg_i': y_avgs, 'm_y': m_y,\n",
    "          'p_y': p_y, 'f_y': f_y})\n",
    "df_y.T"
   ],
   "metadata": {
    "collapsed": false,
    "ExecuteTime": {
     "start_time": "2023-05-18T14:00:40.542717Z",
     "end_time": "2023-05-18T14:00:40.542717Z"
    }
   }
  },
  {
   "cell_type": "markdown",
   "source": [
    "## Графики"
   ],
   "metadata": {
    "collapsed": false
   }
  },
  {
   "cell_type": "markdown",
   "source": [
    "### Для x"
   ],
   "metadata": {
    "collapsed": false
   }
  },
  {
   "cell_type": "code",
   "execution_count": 761,
   "outputs": [
    {
     "data": {
      "text/plain": "[<matplotlib.lines.Line2D at 0x1cf3774ed10>]"
     },
     "execution_count": 761,
     "metadata": {},
     "output_type": "execute_result"
    },
    {
     "data": {
      "text/plain": "<Figure size 640x480 with 1 Axes>",
      "image/png": "[encoded data removed]"
     },
     "metadata": {},
     "output_type": "display_data"
    }
   ],
   "source": [
    "plt.plot(df_x['x_avg_i'], df_x['m_x'])"
   ],
   "metadata": {
    "collapsed": false,
    "ExecuteTime": {
     "start_time": "2023-05-18T14:00:40.906633Z",
     "end_time": "2023-05-18T14:00:40.906633Z"
    }
   }
  },
  {
   "cell_type": "code",
   "execution_count": 762,
   "outputs": [
    {
     "data": {
      "text/plain": "<BarContainer object of 7 artists>"
     },
     "execution_count": 762,
     "metadata": {},
     "output_type": "execute_result"
    },
    {
     "data": {
      "text/plain": "<Figure size 640x480 with 1 Axes>",
      "image/png": "[encoded data removed]"
     },
     "metadata": {},
     "output_type": "display_data"
    }
   ],
   "source": [
    "plt.bar(df_x['x_avg_i'], height=df_x['f_x'], width=np.array(x_intervals[:-1]) - np.array(x_intervals[1:]),\n",
    "        edgecolor='black')\n",
    "\n",
    "# TODO: отложить три сигмы от среднего выборочного влево и вправо"
   ],
   "metadata": {
    "collapsed": false,
    "ExecuteTime": {
     "start_time": "2023-05-18T14:00:41.311792Z",
     "end_time": "2023-05-18T14:00:41.311792Z"
    }
   }
  },
  {
   "cell_type": "markdown",
   "source": [
    "### Для y"
   ],
   "metadata": {
    "collapsed": false
   }
  },
  {
   "cell_type": "code",
   "execution_count": 763,
   "outputs": [
    {
     "data": {
      "text/plain": "[<matplotlib.lines.Line2D at 0x1cf378c7350>]"
     },
     "execution_count": 763,
     "metadata": {},
     "output_type": "execute_result"
    },
    {
     "data": {
      "text/plain": "<Figure size 640x480 with 1 Axes>",
      "image/png": "[encoded data removed]"
     },
     "metadata": {},
     "output_type": "display_data"
    }
   ],
   "source": [
    "plt.plot(df_y['y_avg_i'], df_y['m_y'])"
   ],
   "metadata": {
    "collapsed": false,
    "ExecuteTime": {
     "start_time": "2023-05-18T14:00:41.537600Z",
     "end_time": "2023-05-18T14:00:41.537600Z"
    }
   }
  },
  {
   "cell_type": "code",
   "execution_count": 764,
   "outputs": [
    {
     "data": {
      "text/plain": "<BarContainer object of 4 artists>"
     },
     "execution_count": 764,
     "metadata": {},
     "output_type": "execute_result"
    },
    {
     "data": {
      "text/plain": "<Figure size 640x480 with 1 Axes>",
      "image/png": "[encoded data removed]"
     },
     "metadata": {},
     "output_type": "display_data"
    }
   ],
   "source": [
    "plt.bar(df_y['y_avg_i'], height=df_y['f_y'], width=np.array(y_intervals[:-1]) - np.array(y_intervals[1:]),\n",
    "        edgecolor='black')"
   ],
   "metadata": {
    "collapsed": false,
    "ExecuteTime": {
     "start_time": "2023-05-18T14:00:41.777206Z",
     "end_time": "2023-05-18T14:00:41.777206Z"
    }
   }
  },
  {
   "cell_type": "markdown",
   "source": [
    "# Числовые характеристики"
   ],
   "metadata": {
    "collapsed": false
   }
  },
  {
   "cell_type": "markdown",
   "source": [
    "### Для x"
   ],
   "metadata": {
    "collapsed": false
   }
  },
  {
   "cell_type": "code",
   "execution_count": 765,
   "outputs": [
    {
     "data": {
      "text/plain": "array([1.28804124e+02, 1.65928041e+04, 2.13781468e+06, 2.75473969e+08])"
     },
     "execution_count": 765,
     "metadata": {},
     "output_type": "execute_result"
    }
   ],
   "source": [
    "m_k_x = np.array([np.sum(np.power(x_avgs, k) * m_x) for k in range(1, 5)]) / n\n",
    "m_k_x"
   ],
   "metadata": {
    "collapsed": false,
    "ExecuteTime": {
     "start_time": "2023-05-18T14:00:41.778895Z",
     "end_time": "2023-05-18T14:00:41.778895Z"
    }
   }
  },
  {
   "cell_type": "code",
   "execution_count": 766,
   "outputs": [
    {
     "data": {
      "text/plain": "128.8041237113402"
     },
     "execution_count": 766,
     "metadata": {},
     "output_type": "execute_result"
    }
   ],
   "source": [
    "x_sample = m_k_x[0]\n",
    "x_sample"
   ],
   "metadata": {
    "collapsed": false,
    "ExecuteTime": {
     "start_time": "2023-05-18T14:00:41.778895Z",
     "end_time": "2023-05-18T14:00:41.778895Z"
    }
   }
  },
  {
   "cell_type": "code",
   "execution_count": 767,
   "outputs": [
    {
     "data": {
      "text/plain": "2.301838665109244"
     },
     "execution_count": 767,
     "metadata": {},
     "output_type": "execute_result"
    }
   ],
   "source": [
    "s_2_x = m_k_x[1] - x_sample ** 2\n",
    "s_2_x"
   ],
   "metadata": {
    "collapsed": false,
    "ExecuteTime": {
     "start_time": "2023-05-18T14:00:41.778895Z",
     "end_time": "2023-05-18T14:00:41.778895Z"
    }
   }
  },
  {
   "cell_type": "code",
   "execution_count": 768,
   "outputs": [
    {
     "data": {
      "text/plain": "1.5171811576437548"
     },
     "execution_count": 768,
     "metadata": {},
     "output_type": "execute_result"
    }
   ],
   "source": [
    "s_2_x ** .5"
   ],
   "metadata": {
    "collapsed": false,
    "ExecuteTime": {
     "start_time": "2023-05-18T14:00:41.778895Z",
     "end_time": "2023-05-18T14:00:41.778895Z"
    }
   }
  },
  {
   "cell_type": "code",
   "execution_count": 769,
   "outputs": [
    {
     "data": {
      "text/plain": "2.325816151204132"
     },
     "execution_count": 769,
     "metadata": {},
     "output_type": "execute_result"
    }
   ],
   "source": [
    "s_2_x_corrected = (s_2_x * n) / (n - 1)\n",
    "s_2_x_corrected"
   ],
   "metadata": {
    "collapsed": false,
    "ExecuteTime": {
     "start_time": "2023-05-18T14:00:41.778895Z",
     "end_time": "2023-05-18T14:00:41.783902Z"
    }
   }
  },
  {
   "cell_type": "code",
   "execution_count": 770,
   "outputs": [
    {
     "data": {
      "text/plain": "0.05985043739266462"
     },
     "execution_count": 770,
     "metadata": {},
     "output_type": "execute_result"
    }
   ],
   "source": [
    "a_sample_x = (m_k_x[2] - 3 * m_k_x[0] * m_k_x[1] + 2 * m_k_x[0] ** 3) / s_2_x_corrected ** (3 / 4)\n",
    "a_sample_x"
   ],
   "metadata": {
    "collapsed": false,
    "ExecuteTime": {
     "start_time": "2023-05-18T14:00:41.783902Z",
     "end_time": "2023-05-18T14:00:41.783902Z"
    }
   }
  },
  {
   "cell_type": "code",
   "execution_count": 771,
   "outputs": [
    {
     "data": {
      "text/plain": "-0.6138915249211361"
     },
     "execution_count": 771,
     "metadata": {},
     "output_type": "execute_result"
    }
   ],
   "source": [
    "excess_x = (m_k_x[3] - 4 * m_k_x[0] * m_k_x[2] + 6 * m_k_x[0] ** 2 * m_k_x[1] -\n",
    "            3 * m_k_x[0] ** 4) / s_2_x_corrected ** 2 - 3\n",
    "excess_x"
   ],
   "metadata": {
    "collapsed": false,
    "ExecuteTime": {
     "start_time": "2023-05-18T14:00:41.783902Z",
     "end_time": "2023-05-18T14:00:41.783902Z"
    }
   }
  },
  {
   "cell_type": "markdown",
   "source": [
    "Для больших n"
   ],
   "metadata": {
    "collapsed": false
   }
  },
  {
   "cell_type": "code",
   "execution_count": 772,
   "outputs": [
    {
     "data": {
      "text/plain": "array([1.28804124e+02, 1.65928041e+04, 2.13781468e+06, 9.80588885e+06])"
     },
     "execution_count": 772,
     "metadata": {},
     "output_type": "execute_result"
    }
   ],
   "source": [
    "m_k_x_big = np.array([np.sum(np.power(x, k)) for k in range(1, 5)]) / n\n",
    "m_k_x_big"
   ],
   "metadata": {
    "collapsed": false,
    "ExecuteTime": {
     "start_time": "2023-05-18T14:00:41.783902Z",
     "end_time": "2023-05-18T14:00:41.783902Z"
    }
   }
  },
  {
   "cell_type": "code",
   "execution_count": 773,
   "outputs": [
    {
     "data": {
      "text/plain": "128.8041237113402"
     },
     "execution_count": 773,
     "metadata": {},
     "output_type": "execute_result"
    }
   ],
   "source": [
    "x_avg_big = np.sum(x) / n\n",
    "x_avg_big"
   ],
   "metadata": {
    "collapsed": false,
    "ExecuteTime": {
     "start_time": "2023-05-18T14:00:41.859641Z",
     "end_time": "2023-05-18T14:00:41.859641Z"
    }
   }
  },
  {
   "cell_type": "code",
   "execution_count": 848,
   "outputs": [
    {
     "data": {
      "text/plain": "0.0"
     },
     "execution_count": 848,
     "metadata": {},
     "output_type": "execute_result"
    }
   ],
   "source": [
    "x_avg_big - m_k_x[0]"
   ],
   "metadata": {
    "collapsed": false,
    "ExecuteTime": {
     "start_time": "2023-05-18T16:49:07.685066Z",
     "end_time": "2023-05-18T16:49:07.685066Z"
    }
   }
  },
  {
   "cell_type": "code",
   "execution_count": 774,
   "outputs": [
    {
     "data": {
      "text/plain": "2.301838665107876"
     },
     "execution_count": 774,
     "metadata": {},
     "output_type": "execute_result"
    }
   ],
   "source": [
    "s_2_x_big = np.sum((x - x_avg_big) ** 2) / n\n",
    "s_2_x_big"
   ],
   "metadata": {
    "collapsed": false,
    "ExecuteTime": {
     "start_time": "2023-05-18T14:00:41.859641Z",
     "end_time": "2023-05-18T14:00:41.859641Z"
    }
   }
  },
  {
   "cell_type": "code",
   "execution_count": 775,
   "outputs": [
    {
     "data": {
      "text/plain": "2.3258161512027495"
     },
     "execution_count": 775,
     "metadata": {},
     "output_type": "execute_result"
    }
   ],
   "source": [
    "s_2_x_corrected_big = n * s_2_x_big / (n - 1)\n",
    "s_2_x_corrected_big"
   ],
   "metadata": {
    "collapsed": false,
    "ExecuteTime": {
     "start_time": "2023-05-18T14:00:41.859641Z",
     "end_time": "2023-05-18T14:00:41.859641Z"
    }
   }
  },
  {
   "cell_type": "code",
   "execution_count": 776,
   "outputs": [
    {
     "data": {
      "text/plain": "0.05985043739269131"
     },
     "execution_count": 776,
     "metadata": {},
     "output_type": "execute_result"
    }
   ],
   "source": [
    "a_x_big = (m_k_x_big[2] - 3 * m_k_x_big[0] * m_k_x_big[1] + 2 * m_k_x_big[0] ** 3) / s_2_x_corrected_big ** (3 / 4)\n",
    "a_x_big"
   ],
   "metadata": {
    "collapsed": false,
    "ExecuteTime": {
     "start_time": "2023-05-18T14:00:41.859641Z",
     "end_time": "2023-05-18T14:00:41.859641Z"
    }
   }
  },
  {
   "cell_type": "markdown",
   "source": [
    "Все числовые характеристики, вычесленные как по формулам для больших, так и для маленьких n, -- одинаковые."
   ],
   "metadata": {
    "collapsed": false
   }
  },
  {
   "cell_type": "markdown",
   "source": [
    "### Для y"
   ],
   "metadata": {
    "collapsed": false
   }
  },
  {
   "cell_type": "code",
   "execution_count": 777,
   "outputs": [
    {
     "data": {
      "text/plain": "array([2.77835052e+01, 7.74030928e+02, 2.16230825e+04, 6.05714320e+05])"
     },
     "execution_count": 777,
     "metadata": {},
     "output_type": "execute_result"
    }
   ],
   "source": [
    "m_k_y = np.array([np.sum(np.power(y_avgs, k) * m_y) for k in range(1, 5)]) / n\n",
    "m_k_y"
   ],
   "metadata": {
    "collapsed": false,
    "ExecuteTime": {
     "start_time": "2023-05-18T14:00:41.859641Z",
     "end_time": "2023-05-18T14:00:41.859641Z"
    }
   }
  },
  {
   "cell_type": "code",
   "execution_count": 778,
   "outputs": [
    {
     "data": {
      "text/plain": "27.783505154639176"
     },
     "execution_count": 778,
     "metadata": {},
     "output_type": "execute_result"
    }
   ],
   "source": [
    "y_sample = m_k_y[0]\n",
    "y_sample"
   ],
   "metadata": {
    "collapsed": false,
    "ExecuteTime": {
     "start_time": "2023-05-18T14:00:41.859641Z",
     "end_time": "2023-05-18T14:00:41.859641Z"
    }
   }
  },
  {
   "cell_type": "code",
   "execution_count": 779,
   "outputs": [
    {
     "data": {
      "text/plain": "4"
     },
     "execution_count": 779,
     "metadata": {},
     "output_type": "execute_result"
    }
   ],
   "source": [
    "len(y_avgs)"
   ],
   "metadata": {
    "collapsed": false,
    "ExecuteTime": {
     "start_time": "2023-05-18T14:00:41.859641Z",
     "end_time": "2023-05-18T14:00:41.859641Z"
    }
   }
  },
  {
   "cell_type": "code",
   "execution_count": 780,
   "outputs": [
    {
     "data": {
      "text/plain": "array([2.77835052e+01, 7.74030928e+02, 2.16230825e+04, 6.05714320e+05])"
     },
     "execution_count": 780,
     "metadata": {},
     "output_type": "execute_result"
    }
   ],
   "source": [
    "m_k_y"
   ],
   "metadata": {
    "collapsed": false,
    "ExecuteTime": {
     "start_time": "2023-05-18T14:00:41.859641Z",
     "end_time": "2023-05-18T14:00:41.859641Z"
    }
   }
  },
  {
   "cell_type": "code",
   "execution_count": 781,
   "outputs": [
    {
     "data": {
      "text/plain": "2.107769157189864"
     },
     "execution_count": 781,
     "metadata": {},
     "output_type": "execute_result"
    }
   ],
   "source": [
    "s_2_y = m_k_y[1] - y_sample ** 2\n",
    "s_2_y"
   ],
   "metadata": {
    "collapsed": false,
    "ExecuteTime": {
     "start_time": "2023-05-18T14:00:41.859641Z",
     "end_time": "2023-05-18T14:00:41.859641Z"
    }
   }
  },
  {
   "cell_type": "code",
   "execution_count": 782,
   "outputs": [
    {
     "data": {
      "text/plain": "2.1297250859105916"
     },
     "execution_count": 782,
     "metadata": {},
     "output_type": "execute_result"
    }
   ],
   "source": [
    "s_2_y_corrected = (s_2_y * n) / (n - 1)\n",
    "s_2_y_corrected"
   ],
   "metadata": {
    "collapsed": false,
    "ExecuteTime": {
     "start_time": "2023-05-18T14:00:41.859641Z",
     "end_time": "2023-05-18T14:00:41.859641Z"
    }
   }
  },
  {
   "cell_type": "code",
   "execution_count": 783,
   "outputs": [
    {
     "data": {
      "text/plain": "0.37877777998873624"
     },
     "execution_count": 783,
     "metadata": {},
     "output_type": "execute_result"
    }
   ],
   "source": [
    "a_sample_y = (m_k_y[2] - 3 * m_k_y[0] * m_k_y[1] + 2 * m_k_y[0] ** 3) / (s_2_y_corrected ** (3 / 4))\n",
    "a_sample_y\n",
    "\n",
    "# TODO добавить вычисления для \"больших\" размеров выборок, сравнить результаты"
   ],
   "metadata": {
    "collapsed": false,
    "ExecuteTime": {
     "start_time": "2023-05-18T14:00:41.859641Z",
     "end_time": "2023-05-18T14:00:41.859641Z"
    }
   }
  },
  {
   "cell_type": "code",
   "execution_count": 784,
   "outputs": [
    {
     "data": {
      "text/plain": "-0.23755025289588483"
     },
     "execution_count": 784,
     "metadata": {},
     "output_type": "execute_result"
    }
   ],
   "source": [
    "excess_y = (m_k_y[3] - 4 * m_k_y[0] * m_k_y[2] + 6 * m_k_y[0] ** 2 * m_k_y[1] - 3 * m_k_y[\n",
    "    0] ** 4) / s_2_y_corrected ** 2 - 3\n",
    "excess_y"
   ],
   "metadata": {
    "collapsed": false,
    "ExecuteTime": {
     "start_time": "2023-05-18T14:00:41.859641Z",
     "end_time": "2023-05-18T14:00:41.859641Z"
    }
   }
  },
  {
   "cell_type": "markdown",
   "source": [
    "# Выборочный коэффициент корреляции"
   ],
   "metadata": {
    "collapsed": false
   }
  },
  {
   "cell_type": "code",
   "execution_count": 785,
   "outputs": [
    {
     "data": {
      "text/plain": "97"
     },
     "execution_count": 785,
     "metadata": {},
     "output_type": "execute_result"
    }
   ],
   "source": [
    "n_corr = []\n",
    "for i in range(N_x):\n",
    "    n_i = []\n",
    "    for j in range(N_y):\n",
    "        n_i_j = 0\n",
    "\n",
    "        for k in range(n):\n",
    "            if x_intervals[i] <= x[k] < x_intervals[i + 1] and y_intervals[j] <= y[k] < y_intervals[j + 1]:\n",
    "                n_i_j += 1\n",
    "        n_i.append(n_i_j)\n",
    "    n_corr.append(n_i)\n",
    "np.sum(n_corr)"
   ],
   "metadata": {
    "collapsed": false,
    "ExecuteTime": {
     "start_time": "2023-05-18T14:00:41.859641Z",
     "end_time": "2023-05-18T14:00:41.859641Z"
    }
   }
  },
  {
   "cell_type": "code",
   "execution_count": 786,
   "outputs": [
    {
     "data": {
      "text/plain": "[[6, 1, 0, 0],\n [0, 14, 0, 0],\n [2, 15, 1, 0],\n [0, 15, 12, 0],\n [0, 4, 14, 0],\n [0, 0, 7, 2],\n [0, 0, 0, 4]]"
     },
     "execution_count": 786,
     "metadata": {},
     "output_type": "execute_result"
    }
   ],
   "source": [
    "n_corr"
   ],
   "metadata": {
    "collapsed": false,
    "ExecuteTime": {
     "start_time": "2023-05-18T14:00:41.918838Z",
     "end_time": "2023-05-18T14:00:41.918838Z"
    }
   }
  },
  {
   "cell_type": "code",
   "execution_count": 787,
   "outputs": [
    {
     "data": {
      "text/plain": "0.8008296235902972"
     },
     "execution_count": 787,
     "metadata": {},
     "output_type": "execute_result"
    }
   ],
   "source": [
    "r_sample = (np.sum(\n",
    "    [x_avgs[i] * y_avgs[j] * n_corr[i][j] for i in range(N_x) for j in range(N_y)]) - n * x_sample * y_sample) / (\n",
    "                   n * np.sqrt(s_2_x_corrected * s_2_y_corrected))\n",
    "r_sample"
   ],
   "metadata": {
    "collapsed": false,
    "ExecuteTime": {
     "start_time": "2023-05-18T14:00:41.918838Z",
     "end_time": "2023-05-18T14:00:41.918838Z"
    }
   }
  },
  {
   "cell_type": "code",
   "execution_count": 788,
   "outputs": [
    {
     "data": {
      "text/plain": "0.7573737525428071"
     },
     "execution_count": 788,
     "metadata": {},
     "output_type": "execute_result"
    }
   ],
   "source": [
    "r = (np.sum(x * y) / n - np.sum(x) / n * np.sum(y) / n) / (np.sqrt(s_2_x_corrected * s_2_y_corrected))\n",
    "r"
   ],
   "metadata": {
    "collapsed": false,
    "ExecuteTime": {
     "start_time": "2023-05-18T14:00:41.918838Z",
     "end_time": "2023-05-18T14:00:41.918838Z"
    }
   }
  },
  {
   "cell_type": "markdown",
   "source": [
    "# Lab №7"
   ],
   "metadata": {
    "collapsed": false
   }
  },
  {
   "cell_type": "markdown",
   "source": [
    "## Доверительный интервал, дисперсия неизвестна"
   ],
   "metadata": {
    "collapsed": false
   }
  },
  {
   "cell_type": "code",
   "execution_count": 789,
   "outputs": [],
   "source": [
    "gamma_1 = 0.99\n",
    "gamma_2 = 0.95"
   ],
   "metadata": {
    "collapsed": false,
    "ExecuteTime": {
     "start_time": "2023-05-18T14:00:41.918838Z",
     "end_time": "2023-05-18T14:00:41.918838Z"
    }
   }
  },
  {
   "cell_type": "code",
   "execution_count": 790,
   "outputs": [
    {
     "data": {
      "text/plain": "(1.5250626712381796, 1.4593577648783014)"
     },
     "execution_count": 790,
     "metadata": {},
     "output_type": "execute_result"
    }
   ],
   "source": [
    "sigma_x = s_2_x_corrected ** 0.5\n",
    "sigma_y = s_2_y_corrected ** 0.5\n",
    "(sigma_x, sigma_y)"
   ],
   "metadata": {
    "collapsed": false,
    "ExecuteTime": {
     "start_time": "2023-05-18T14:00:41.918838Z",
     "end_time": "2023-05-18T14:00:41.918838Z"
    }
   }
  },
  {
   "cell_type": "code",
   "execution_count": 791,
   "outputs": [
    {
     "data": {
      "text/plain": "[<matplotlib.lines.Line2D at 0x1cf379c28d0>,\n <matplotlib.lines.Line2D at 0x1cf3792dc50>,\n <matplotlib.lines.Line2D at 0x1cf37977bd0>,\n <matplotlib.lines.Line2D at 0x1cf379e7c50>,\n <matplotlib.lines.Line2D at 0x1cf37994890>,\n <matplotlib.lines.Line2D at 0x1cf3797ced0>,\n <matplotlib.lines.Line2D at 0x1cf3798d950>]"
     },
     "execution_count": 791,
     "metadata": {},
     "output_type": "execute_result"
    },
    {
     "data": {
      "text/plain": "<Figure size 640x480 with 1 Axes>",
      "image/png": "[encoded data removed]"
     },
     "metadata": {},
     "output_type": "display_data"
    }
   ],
   "source": [
    "plt.plot(df_x['x_avg_i'], df_x['m_x'])\n",
    "[plt.axvline(x_sample + sigma_x * i, color='red') for i in range(-3, 4)]"
   ],
   "metadata": {
    "collapsed": false,
    "ExecuteTime": {
     "start_time": "2023-05-18T14:00:42.050461Z",
     "end_time": "2023-05-18T14:00:42.050461Z"
    }
   }
  },
  {
   "cell_type": "code",
   "execution_count": 792,
   "outputs": [
    {
     "data": {
      "text/plain": "[<matplotlib.lines.Line2D at 0x1cf3783e6d0>,\n <matplotlib.lines.Line2D at 0x1cf37a2d110>,\n <matplotlib.lines.Line2D at 0x1cf37a562d0>,\n <matplotlib.lines.Line2D at 0x1cf37a57090>,\n <matplotlib.lines.Line2D at 0x1cf37a1fa50>,\n <matplotlib.lines.Line2D at 0x1cf379a89d0>,\n <matplotlib.lines.Line2D at 0x1cf37a68cd0>]"
     },
     "execution_count": 792,
     "metadata": {},
     "output_type": "execute_result"
    },
    {
     "data": {
      "text/plain": "<Figure size 640x480 with 1 Axes>",
      "image/png": "[encoded data removed]"
     },
     "metadata": {},
     "output_type": "display_data"
    }
   ],
   "source": [
    "plt.plot(df_y['y_avg_i'], df_y['m_y'])\n",
    "[plt.axvline(y_sample + sigma_y * i, color=(1, 0.3 * abs(i), 0.3 * abs(i))) for i in range(-3, 4)]"
   ],
   "metadata": {
    "collapsed": false,
    "ExecuteTime": {
     "start_time": "2023-05-18T14:00:42.286033Z",
     "end_time": "2023-05-18T14:00:42.286033Z"
    }
   }
  },
  {
   "cell_type": "markdown",
   "source": [
    "### Для x"
   ],
   "metadata": {
    "collapsed": false
   }
  },
  {
   "cell_type": "code",
   "execution_count": 793,
   "outputs": [
    {
     "data": {
      "text/plain": "(2.3658206896788494, 1.6608814403008005)"
     },
     "execution_count": 793,
     "metadata": {},
     "output_type": "execute_result"
    }
   ],
   "source": [
    "t_1 = t.ppf(gamma_1, n - 1)\n",
    "t_2 = t.ppf(gamma_2, n - 1)\n",
    "(t_1, t_2)"
   ],
   "metadata": {
    "collapsed": false,
    "ExecuteTime": {
     "start_time": "2023-05-18T14:00:42.286033Z",
     "end_time": "2023-05-18T14:00:42.286033Z"
    }
   }
  },
  {
   "cell_type": "code",
   "execution_count": 794,
   "outputs": [
    {
     "data": {
      "text/plain": "(128.43778429480255, 129.17046312787784)"
     },
     "execution_count": 794,
     "metadata": {},
     "output_type": "execute_result"
    }
   ],
   "source": [
    "length = t_1 * sigma_x / n ** 0.5\n",
    "confidence_interval_dispersion_unknown_x_1 = (x_sample - length, x_sample + length)\n",
    "confidence_interval_dispersion_unknown_x_1"
   ],
   "metadata": {
    "collapsed": false,
    "ExecuteTime": {
     "start_time": "2023-05-18T14:00:42.493763Z",
     "end_time": "2023-05-18T14:00:42.493763Z"
    }
   }
  },
  {
   "cell_type": "code",
   "execution_count": 795,
   "outputs": [
    {
     "data": {
      "text/plain": "(128.54694177847756, 129.06130564420283)"
     },
     "execution_count": 795,
     "metadata": {},
     "output_type": "execute_result"
    }
   ],
   "source": [
    "length = t_2 * sigma_x / n ** 0.5\n",
    "confidence_interval_dispersion_unknown_x_2 = (x_sample - length, x_sample + length)\n",
    "confidence_interval_dispersion_unknown_x_2"
   ],
   "metadata": {
    "collapsed": false,
    "ExecuteTime": {
     "start_time": "2023-05-18T14:00:42.530552Z",
     "end_time": "2023-05-18T14:00:42.530552Z"
    }
   }
  },
  {
   "cell_type": "markdown",
   "source": [
    "### Для y"
   ],
   "metadata": {
    "collapsed": false
   }
  },
  {
   "cell_type": "code",
   "execution_count": 796,
   "outputs": [
    {
     "data": {
      "text/plain": "(27.432948890829284, 28.13406141844907)"
     },
     "execution_count": 796,
     "metadata": {},
     "output_type": "execute_result"
    }
   ],
   "source": [
    "length = t_1 * sigma_y / n ** 0.5\n",
    "confidence_interval_dispersion_unknown_y_1 = (y_sample - length, y_sample + length)\n",
    "confidence_interval_dispersion_unknown_y_1"
   ],
   "metadata": {
    "collapsed": false,
    "ExecuteTime": {
     "start_time": "2023-05-18T14:00:42.530552Z",
     "end_time": "2023-05-18T14:00:42.530552Z"
    }
   }
  },
  {
   "cell_type": "code",
   "execution_count": 797,
   "outputs": [
    {
     "data": {
      "text/plain": "(27.53740349744973, 28.02960681182862)"
     },
     "execution_count": 797,
     "metadata": {},
     "output_type": "execute_result"
    }
   ],
   "source": [
    "length = t_2 * sigma_y / n ** 0.5\n",
    "confidence_interval_dispersion_unknown_y_2 = (y_sample - length, y_sample + length)\n",
    "confidence_interval_dispersion_unknown_y_2"
   ],
   "metadata": {
    "collapsed": false,
    "ExecuteTime": {
     "start_time": "2023-05-18T14:00:42.530552Z",
     "end_time": "2023-05-18T14:00:42.530552Z"
    }
   }
  },
  {
   "cell_type": "markdown",
   "source": [
    "## Доверительный интервал, дисперсия известна"
   ],
   "metadata": {
    "collapsed": false
   }
  },
  {
   "cell_type": "code",
   "execution_count": 798,
   "outputs": [],
   "source": [
    "big_f = lambda x: erf(x / 2 ** 0.5) / 2"
   ],
   "metadata": {
    "collapsed": false,
    "ExecuteTime": {
     "start_time": "2023-05-18T14:00:42.530552Z",
     "end_time": "2023-05-18T14:00:42.530552Z"
    }
   }
  },
  {
   "cell_type": "code",
   "execution_count": 799,
   "outputs": [
    {
     "data": {
      "text/plain": "2.55"
     },
     "execution_count": 799,
     "metadata": {},
     "output_type": "execute_result"
    }
   ],
   "source": [
    "z_1 = 0\n",
    "for i in range(500):\n",
    "    if np.abs(np.round(big_f(float(i / 100)), 3) - gamma_1 / 2) <= 0.001:\n",
    "        z_1 = float(i / 100)\n",
    "        break\n",
    "z_1"
   ],
   "metadata": {
    "collapsed": false,
    "ExecuteTime": {
     "start_time": "2023-05-18T14:00:42.530552Z",
     "end_time": "2023-05-18T14:00:42.530552Z"
    }
   }
  },
  {
   "cell_type": "code",
   "execution_count": 800,
   "outputs": [
    {
     "data": {
      "text/plain": "1.96"
     },
     "execution_count": 800,
     "metadata": {},
     "output_type": "execute_result"
    }
   ],
   "source": [
    "z_2 = 0\n",
    "for i in range(500):\n",
    "    if np.abs(np.round(big_f(float(i / 100)), 3) - gamma_2 / 2) <= 0.001:\n",
    "        z_2 = float(i / 100)\n",
    "        break\n",
    "z_2"
   ],
   "metadata": {
    "collapsed": false,
    "ExecuteTime": {
     "start_time": "2023-05-18T14:00:42.530552Z",
     "end_time": "2023-05-18T14:00:42.530552Z"
    }
   }
  },
  {
   "cell_type": "markdown",
   "source": [
    "### Для x"
   ],
   "metadata": {
    "collapsed": false
   }
  },
  {
   "cell_type": "code",
   "execution_count": 801,
   "outputs": [
    {
     "data": {
      "text/plain": "(128.4092647449585, 129.1989826777219)"
     },
     "execution_count": 801,
     "metadata": {},
     "output_type": "execute_result"
    }
   ],
   "source": [
    "length = z_1 * sigma_x / n ** 0.5\n",
    "confidence_interval_x_1 = (x_sample - length, x_sample + length)\n",
    "confidence_interval_x_1"
   ],
   "metadata": {
    "collapsed": false,
    "ExecuteTime": {
     "start_time": "2023-05-18T14:00:42.530552Z",
     "end_time": "2023-05-18T14:00:42.530552Z"
    }
   }
  },
  {
   "cell_type": "code",
   "execution_count": 802,
   "outputs": [
    {
     "data": {
      "text/plain": "(128.5006242705135, 129.1076231521669)"
     },
     "execution_count": 802,
     "metadata": {},
     "output_type": "execute_result"
    }
   ],
   "source": [
    "length = z_2 * sigma_x / n ** 0.5\n",
    "confidence_interval_x_2 = (x_sample - length, x_sample + length)\n",
    "confidence_interval_x_2"
   ],
   "metadata": {
    "collapsed": false,
    "ExecuteTime": {
     "start_time": "2023-05-18T14:00:42.530552Z",
     "end_time": "2023-05-18T14:00:42.530552Z"
    }
   }
  },
  {
   "cell_type": "markdown",
   "source": [
    "Вот такой занимательный результат"
   ],
   "metadata": {
    "collapsed": false
   }
  },
  {
   "cell_type": "markdown",
   "source": [
    "### Для y"
   ],
   "metadata": {
    "collapsed": false
   }
  },
  {
   "cell_type": "code",
   "execution_count": 803,
   "outputs": [
    {
     "data": {
      "text/plain": "(27.405658060556753, 28.1613522487216)"
     },
     "execution_count": 803,
     "metadata": {},
     "output_type": "execute_result"
    }
   ],
   "source": [
    "length = z_1 * sigma_y / n ** 0.5\n",
    "confidence_interval_y_1 = (y_sample - length, y_sample + length)\n",
    "confidence_interval_y_1"
   ],
   "metadata": {
    "collapsed": false,
    "ExecuteTime": {
     "start_time": "2023-05-18T14:00:42.530552Z",
     "end_time": "2023-05-18T14:00:42.530552Z"
    }
   }
  },
  {
   "cell_type": "code",
   "execution_count": 804,
   "outputs": [
    {
     "data": {
      "text/plain": "(27.493081505854253, 28.0739288034241)"
     },
     "execution_count": 804,
     "metadata": {},
     "output_type": "execute_result"
    }
   ],
   "source": [
    "length = z_2 * sigma_y / n ** 0.5\n",
    "confidence_interval_y_2 = (y_sample - length, y_sample + length)\n",
    "confidence_interval_y_2"
   ],
   "metadata": {
    "collapsed": false,
    "ExecuteTime": {
     "start_time": "2023-05-18T14:00:42.530552Z",
     "end_time": "2023-05-18T14:00:42.530552Z"
    }
   }
  },
  {
   "cell_type": "markdown",
   "source": [
    "Тоже занимательные результаты"
   ],
   "metadata": {
    "collapsed": false
   }
  },
  {
   "cell_type": "markdown",
   "source": [
    "## Доверительные интервалы для дисперсии"
   ],
   "metadata": {
    "collapsed": false
   }
  },
  {
   "cell_type": "code",
   "execution_count": 805,
   "outputs": [],
   "source": [
    "chi2_1_1 = chi2.ppf(1 - (1 - gamma_1) / 2, n - 1)\n",
    "chi2_1_2 = chi2.ppf((1 - gamma_1) / 2, n - 1)\n",
    "\n",
    "chi2_2_1 = chi2.ppf(1 - (1 - gamma_2) / 2, n - 1)\n",
    "chi2_2_2 = chi2.ppf((1 - gamma_2) / 2, n - 1)"
   ],
   "metadata": {
    "collapsed": false,
    "ExecuteTime": {
     "start_time": "2023-05-18T14:00:42.806929Z",
     "end_time": "2023-05-18T14:00:42.806929Z"
    }
   }
  },
  {
   "cell_type": "markdown",
   "source": [
    "### Для x"
   ],
   "metadata": {
    "collapsed": false
   }
  },
  {
   "cell_type": "code",
   "execution_count": 806,
   "outputs": [
    {
     "data": {
      "text/plain": "(3.4852755789432703, 1.6486252992947112)"
     },
     "execution_count": 806,
     "metadata": {},
     "output_type": "execute_result"
    }
   ],
   "source": [
    "sas = (n - 1) * s_2_x_corrected\n",
    "confidence_interval_sigma_x_1 = (sas / chi2_1_2, sas / chi2_1_1)\n",
    "confidence_interval_sigma_x_1"
   ],
   "metadata": {
    "collapsed": false,
    "ExecuteTime": {
     "start_time": "2023-05-18T14:00:42.806929Z",
     "end_time": "2023-05-18T14:00:42.806929Z"
    }
   }
  },
  {
   "cell_type": "code",
   "execution_count": 807,
   "outputs": [
    {
     "data": {
      "text/plain": "(3.154414380783104, 1.7862257655231741)"
     },
     "execution_count": 807,
     "metadata": {},
     "output_type": "execute_result"
    }
   ],
   "source": [
    "confidence_interval_sigma_x_2 = (sas / chi2_2_2, sas / chi2_2_1)\n",
    "confidence_interval_sigma_x_2"
   ],
   "metadata": {
    "collapsed": false,
    "ExecuteTime": {
     "start_time": "2023-05-18T14:00:42.806929Z",
     "end_time": "2023-05-18T14:00:42.806929Z"
    }
   }
  },
  {
   "cell_type": "markdown",
   "source": [
    "### Для y"
   ],
   "metadata": {
    "collapsed": false
   }
  },
  {
   "cell_type": "code",
   "execution_count": 808,
   "outputs": [
    {
     "data": {
      "text/plain": "(3.1914297387367188, 1.5096286330959616)"
     },
     "execution_count": 808,
     "metadata": {},
     "output_type": "execute_result"
    }
   ],
   "source": [
    "sas = (n - 1) * s_2_y_corrected\n",
    "confidence_interval_sigma_y_1 = (sas / chi2_1_2, sas / chi2_1_1)\n",
    "confidence_interval_sigma_y_1"
   ],
   "metadata": {
    "collapsed": false,
    "ExecuteTime": {
     "start_time": "2023-05-18T14:00:42.806929Z",
     "end_time": "2023-05-18T14:00:42.806929Z"
    }
   }
  },
  {
   "cell_type": "code",
   "execution_count": 809,
   "outputs": [
    {
     "data": {
      "text/plain": "(2.8884636623719424, 1.6356279149429083)"
     },
     "execution_count": 809,
     "metadata": {},
     "output_type": "execute_result"
    }
   ],
   "source": [
    "confidence_interval_sigma_y_2 = (sas / chi2_2_2, sas / chi2_2_1)\n",
    "confidence_interval_sigma_y_2"
   ],
   "metadata": {
    "collapsed": false,
    "ExecuteTime": {
     "start_time": "2023-05-18T14:00:42.806929Z",
     "end_time": "2023-05-18T14:00:42.806929Z"
    }
   }
  },
  {
   "cell_type": "markdown",
   "source": [
    "## Проверка гипотез о законах распределения случайных величин"
   ],
   "metadata": {
    "collapsed": false
   }
  },
  {
   "cell_type": "markdown",
   "source": [
    "### Проверка гипотезы о том, что x распределена по нормальному закону"
   ],
   "metadata": {
    "collapsed": false
   }
  },
  {
   "cell_type": "code",
   "execution_count": 810,
   "outputs": [
    {
     "data": {
      "text/plain": "array([-2.16654946, -1.51083871, -0.85512795, -0.19941719,  0.45629357,\n        1.11200433,  1.76771508,  2.42342584])"
     },
     "execution_count": 810,
     "metadata": {},
     "output_type": "execute_result"
    }
   ],
   "source": [
    "u_x = (x_intervals - x_sample) / s_2_x_corrected ** 0.5\n",
    "u_x"
   ],
   "metadata": {
    "collapsed": false,
    "ExecuteTime": {
     "start_time": "2023-05-18T14:00:42.806929Z",
     "end_time": "2023-05-18T14:00:42.806929Z"
    }
   }
  },
  {
   "cell_type": "code",
   "execution_count": 811,
   "outputs": [
    {
     "data": {
      "text/plain": "array([-0.48486539, -0.43458522, -0.30375984, -0.07903179,  0.17591056,\n        0.36693185,  0.46144573,  0.49231255])"
     },
     "execution_count": 811,
     "metadata": {},
     "output_type": "execute_result"
    }
   ],
   "source": [
    "f_x = big_f(u_x)\n",
    "f_x"
   ],
   "metadata": {
    "collapsed": false,
    "ExecuteTime": {
     "start_time": "2023-05-18T14:00:42.806929Z",
     "end_time": "2023-05-18T14:00:42.806929Z"
    }
   }
  },
  {
   "cell_type": "code",
   "execution_count": 812,
   "outputs": [
    {
     "data": {
      "text/plain": "0    0.072165\n1    0.144330\n2    0.185567\n3    0.278351\n4    0.185567\n5    0.092784\n6    0.041237\nName: p_x, dtype: float64"
     },
     "execution_count": 812,
     "metadata": {},
     "output_type": "execute_result"
    }
   ],
   "source": [
    "df_x['p_x']"
   ],
   "metadata": {
    "collapsed": false,
    "ExecuteTime": {
     "start_time": "2023-05-18T14:00:42.806929Z",
     "end_time": "2023-05-18T14:00:42.806929Z"
    }
   }
  },
  {
   "cell_type": "code",
   "execution_count": 813,
   "outputs": [
    {
     "data": {
      "text/plain": "array([0.05028016, 0.13082538, 0.22472805, 0.25494235, 0.1910213 ,\n       0.09451387, 0.03086683])"
     },
     "execution_count": 813,
     "metadata": {},
     "output_type": "execute_result"
    }
   ],
   "source": [
    "r_x = np.array([big_f(u_x[i + 1]) - big_f(u_x[i]) for i in range(N_x)])\n",
    "r_x"
   ],
   "metadata": {
    "collapsed": false,
    "ExecuteTime": {
     "start_time": "2023-05-18T14:00:42.806929Z",
     "end_time": "2023-05-18T14:00:42.806929Z"
    }
   }
  },
  {
   "cell_type": "code",
   "execution_count": 814,
   "outputs": [
    {
     "data": {
      "text/plain": "2.285755523572441"
     },
     "execution_count": 814,
     "metadata": {},
     "output_type": "execute_result"
    }
   ],
   "source": [
    "chi2_x_observed = np.sum((df_x['p_x'] - r_x) ** 2 / r_x) * n\n",
    "chi2_x_observed"
   ],
   "metadata": {
    "collapsed": false,
    "ExecuteTime": {
     "start_time": "2023-05-18T14:00:42.806929Z",
     "end_time": "2023-05-18T14:00:42.806929Z"
    }
   }
  },
  {
   "cell_type": "code",
   "execution_count": 815,
   "outputs": [
    {
     "data": {
      "text/plain": "7.779440339734858"
     },
     "execution_count": 815,
     "metadata": {},
     "output_type": "execute_result"
    }
   ],
   "source": [
    "chi2.ppf(0.9, N_x - 1 - 2)"
   ],
   "metadata": {
    "collapsed": false,
    "ExecuteTime": {
     "start_time": "2023-05-18T14:00:42.806929Z",
     "end_time": "2023-05-18T14:00:42.806929Z"
    }
   }
  },
  {
   "cell_type": "code",
   "execution_count": 816,
   "outputs": [
    {
     "data": {
      "text/plain": "True"
     },
     "execution_count": 816,
     "metadata": {},
     "output_type": "execute_result"
    }
   ],
   "source": [
    "chi2_x_observed < chi2.ppf(0.9, N_x - 1 - 2)"
   ],
   "metadata": {
    "collapsed": false,
    "ExecuteTime": {
     "start_time": "2023-05-18T14:00:42.806929Z",
     "end_time": "2023-05-18T14:00:42.806929Z"
    }
   }
  },
  {
   "cell_type": "markdown",
   "source": [
    "Наблюдаемая $ \\chi_p^2\\left(k\\right) $ меньше рассчитанной $ \\chi_{набл}^2 $, следовательно, гипотеза о том, что величина X распределена по нормальному закону, верна."
   ],
   "metadata": {
    "collapsed": false
   }
  },
  {
   "cell_type": "markdown",
   "source": [
    "### Проверка гипотез о законе распеределения y"
   ],
   "metadata": {
    "collapsed": false
   }
  },
  {
   "cell_type": "markdown",
   "source": [
    "##### Проверка гипотезы о том, что величина Y распределена по нормальному закону"
   ],
   "metadata": {
    "collapsed": false
   }
  },
  {
   "cell_type": "code",
   "execution_count": 817,
   "outputs": [
    {
     "data": {
      "text/plain": "array([-2.59258233, -1.22211647,  0.1483494 ,  1.51881526,  2.88928113])"
     },
     "execution_count": 817,
     "metadata": {},
     "output_type": "execute_result"
    }
   ],
   "source": [
    "u_y = (y_intervals - y_sample) / s_2_y_corrected ** 0.5\n",
    "u_y"
   ],
   "metadata": {
    "collapsed": false,
    "ExecuteTime": {
     "start_time": "2023-05-18T14:00:42.887046Z",
     "end_time": "2023-05-18T14:00:42.887046Z"
    }
   }
  },
  {
   "cell_type": "code",
   "execution_count": 818,
   "outputs": [
    {
     "data": {
      "text/plain": "array([-0.49523708, -0.38916821,  0.05896648,  0.4355955 ,  0.49806938])"
     },
     "execution_count": 818,
     "metadata": {},
     "output_type": "execute_result"
    }
   ],
   "source": [
    "f_y = big_f(u_y)\n",
    "f_y"
   ],
   "metadata": {
    "collapsed": false,
    "ExecuteTime": {
     "start_time": "2023-05-18T14:00:42.887046Z",
     "end_time": "2023-05-18T14:00:42.887046Z"
    }
   }
  },
  {
   "cell_type": "code",
   "execution_count": 819,
   "outputs": [
    {
     "data": {
      "text/plain": "array([0.10606887, 0.44813469, 0.37662901, 0.06247388])"
     },
     "execution_count": 819,
     "metadata": {},
     "output_type": "execute_result"
    }
   ],
   "source": [
    "r_y_gauss = np.array([big_f(u_y[i + 1]) - big_f(u_y[i]) for i in range(N_y)])\n",
    "r_y_gauss"
   ],
   "metadata": {
    "collapsed": false,
    "ExecuteTime": {
     "start_time": "2023-05-18T14:00:42.887046Z",
     "end_time": "2023-05-18T14:00:42.887046Z"
    }
   }
  },
  {
   "cell_type": "code",
   "execution_count": 820,
   "outputs": [
    {
     "data": {
      "text/plain": "1.389076237935159"
     },
     "execution_count": 820,
     "metadata": {},
     "output_type": "execute_result"
    }
   ],
   "source": [
    "chi2_y_observed_gauss = np.sum((df_y['p_y'] - r_y_gauss) ** 2 / r_y_gauss) * n\n",
    "chi2_y_observed_gauss"
   ],
   "metadata": {
    "collapsed": false,
    "ExecuteTime": {
     "start_time": "2023-05-18T14:00:42.887046Z",
     "end_time": "2023-05-18T14:00:42.887046Z"
    }
   }
  },
  {
   "cell_type": "code",
   "execution_count": 821,
   "outputs": [
    {
     "data": {
      "text/plain": "2.705543454095404"
     },
     "execution_count": 821,
     "metadata": {},
     "output_type": "execute_result"
    }
   ],
   "source": [
    "chi2.ppf(0.9, N_y - 1 - 2)"
   ],
   "metadata": {
    "collapsed": false,
    "ExecuteTime": {
     "start_time": "2023-05-18T14:00:42.887046Z",
     "end_time": "2023-05-18T14:00:42.887046Z"
    }
   }
  },
  {
   "cell_type": "code",
   "execution_count": 822,
   "outputs": [
    {
     "data": {
      "text/plain": "True"
     },
     "execution_count": 822,
     "metadata": {},
     "output_type": "execute_result"
    }
   ],
   "source": [
    "chi2_y_observed_gauss < chi2.ppf(0.9, N_y - 1 - 2)"
   ],
   "metadata": {
    "collapsed": false,
    "ExecuteTime": {
     "start_time": "2023-05-18T14:00:42.887046Z",
     "end_time": "2023-05-18T14:00:42.887046Z"
    }
   }
  },
  {
   "cell_type": "markdown",
   "source": [
    "Наблюдаемая $ \\chi_p^2\\left(k\\right) $ больше рассчитанной $ \\chi_{набл}^2 $, следовательно, гипотеза о том, что величина Y распределена по нормальному закону, не верна."
   ],
   "metadata": {
    "collapsed": false
   }
  },
  {
   "cell_type": "markdown",
   "source": [
    "##### Проверка гипотезы о том, что величина Y распределена по закону Пуассона"
   ],
   "metadata": {
    "collapsed": false
   }
  },
  {
   "cell_type": "code",
   "execution_count": 823,
   "outputs": [
    {
     "data": {
      "text/plain": "0.2706705664732254"
     },
     "execution_count": 823,
     "metadata": {},
     "output_type": "execute_result"
    }
   ],
   "source": [
    "exponential = lambda x, l: l * np.e ** (-l * x)\n",
    "exponential(1, 2)"
   ],
   "metadata": {
    "collapsed": false,
    "ExecuteTime": {
     "start_time": "2023-05-18T14:00:42.887046Z",
     "end_time": "2023-05-18T14:00:42.887046Z"
    }
   }
  },
  {
   "cell_type": "code",
   "execution_count": 824,
   "outputs": [
    {
     "data": {
      "text/plain": "[<matplotlib.lines.Line2D at 0x1cf3765ed10>]"
     },
     "execution_count": 824,
     "metadata": {},
     "output_type": "execute_result"
    },
    {
     "data": {
      "text/plain": "<Figure size 640x480 with 1 Axes>",
      "image/png": "[encoded data removed]"
     },
     "metadata": {},
     "output_type": "display_data"
    }
   ],
   "source": [
    "c = np.linspace(0, 3, 20)\n",
    "fef = exponential(c, 1)\n",
    "plt.plot(c, fef)"
   ],
   "metadata": {
    "collapsed": false,
    "ExecuteTime": {
     "start_time": "2023-05-18T14:00:42.962255Z",
     "end_time": "2023-05-18T14:00:42.962255Z"
    }
   }
  },
  {
   "cell_type": "code",
   "execution_count": 825,
   "outputs": [
    {
     "data": {
      "text/plain": "0.03599257884972171"
     },
     "execution_count": 825,
     "metadata": {},
     "output_type": "execute_result"
    }
   ],
   "source": [
    "l = 1 / y_sample\n",
    "l"
   ],
   "metadata": {
    "collapsed": false,
    "ExecuteTime": {
     "start_time": "2023-05-18T14:00:42.962255Z",
     "end_time": "2023-05-18T14:00:42.962255Z"
    }
   }
  },
  {
   "cell_type": "code",
   "execution_count": 826,
   "outputs": [
    {
     "data": {
      "text/plain": "[<matplotlib.lines.Line2D at 0x1cf379ab310>]"
     },
     "execution_count": 826,
     "metadata": {},
     "output_type": "execute_result"
    },
    {
     "data": {
      "text/plain": "<Figure size 640x480 with 1 Axes>",
      "image/png": "[encoded data removed]"
     },
     "metadata": {},
     "output_type": "display_data"
    }
   ],
   "source": [
    "r_y_poisson = np.array(\n",
    "    [exponential(y_intervals[i], 0.3) - exponential(y_intervals[i + 1], .3) for i in range(N_y)])\n",
    "plt.plot(r_y_poisson * 1e4)"
   ],
   "metadata": {
    "collapsed": false,
    "ExecuteTime": {
     "start_time": "2023-05-18T14:00:43.291168Z",
     "end_time": "2023-05-18T14:00:43.291168Z"
    }
   }
  },
  {
   "cell_type": "code",
   "execution_count": 827,
   "outputs": [
    {
     "data": {
      "text/plain": "array([1.01055249, 0.55460296, 0.30437256, 0.1670432 ])"
     },
     "execution_count": 827,
     "metadata": {},
     "output_type": "execute_result"
    }
   ],
   "source": [
    "r_y_poisson * 1e4"
   ],
   "metadata": {
    "collapsed": false,
    "ExecuteTime": {
     "start_time": "2023-05-18T14:00:43.291168Z",
     "end_time": "2023-05-18T14:00:43.291168Z"
    }
   }
  },
  {
   "cell_type": "code",
   "execution_count": 828,
   "outputs": [
    {
     "data": {
      "text/plain": "0    0.082474\n1    0.505155\n2    0.350515\n3    0.061856\nName: p_y, dtype: float64"
     },
     "execution_count": 828,
     "metadata": {},
     "output_type": "execute_result"
    }
   ],
   "source": [
    "df_y['p_y']"
   ],
   "metadata": {
    "collapsed": false,
    "ExecuteTime": {
     "start_time": "2023-05-18T14:00:43.291168Z",
     "end_time": "2023-05-18T14:00:43.291168Z"
    }
   }
  },
  {
   "cell_type": "code",
   "execution_count": 829,
   "outputs": [
    {
     "data": {
      "text/plain": "90.20766586034817"
     },
     "execution_count": 829,
     "metadata": {},
     "output_type": "execute_result"
    }
   ],
   "source": [
    "chi2_y_observed_poisson = np.sum((df_y['p_y'] - r_y_poisson * 1e4) ** 2 / (r_y_poisson * 1e4)) * n\n",
    "chi2_y_observed_poisson"
   ],
   "metadata": {
    "collapsed": false,
    "ExecuteTime": {
     "start_time": "2023-05-18T14:00:43.291168Z",
     "end_time": "2023-05-18T14:00:43.291168Z"
    }
   }
  },
  {
   "cell_type": "code",
   "execution_count": 830,
   "outputs": [
    {
     "data": {
      "text/plain": "4.605170185988092"
     },
     "execution_count": 830,
     "metadata": {},
     "output_type": "execute_result"
    }
   ],
   "source": [
    "chi2.ppf(0.9, N_y - 1 - 1)"
   ],
   "metadata": {
    "collapsed": false,
    "ExecuteTime": {
     "start_time": "2023-05-18T14:00:43.291168Z",
     "end_time": "2023-05-18T14:00:43.291168Z"
    }
   }
  },
  {
   "cell_type": "code",
   "execution_count": 831,
   "outputs": [
    {
     "data": {
      "text/plain": "False"
     },
     "execution_count": 831,
     "metadata": {},
     "output_type": "execute_result"
    }
   ],
   "source": [
    "chi2_y_observed_poisson < chi2.ppf(0.9, N_y - 1 - 1)"
   ],
   "metadata": {
    "collapsed": false,
    "ExecuteTime": {
     "start_time": "2023-05-18T14:00:43.291168Z",
     "end_time": "2023-05-18T14:00:43.291168Z"
    }
   }
  },
  {
   "cell_type": "markdown",
   "source": [
    "Наблюдаемая $ \\chi_p^2\\left(k\\right) $ больше рассчитанной $ \\chi_{набл}^2 $, следовательно, гипотеза о том, что величина Y распределена по закону Пуассона, не верна."
   ],
   "metadata": {
    "collapsed": false
   }
  },
  {
   "cell_type": "markdown",
   "source": [
    "##### Проверка гипотезы о том, что величина Y распределена по равномерному закону"
   ],
   "metadata": {
    "collapsed": false
   }
  },
  {
   "cell_type": "code",
   "execution_count": 832,
   "outputs": [
    {
     "data": {
      "text/plain": "array([0.25, 0.25, 0.25, 0.25])"
     },
     "execution_count": 832,
     "metadata": {},
     "output_type": "execute_result"
    }
   ],
   "source": [
    "r_y_N = np.array([1 / N_y for i in range(N_y)])\n",
    "r_y_N"
   ],
   "metadata": {
    "collapsed": false,
    "ExecuteTime": {
     "start_time": "2023-05-18T14:00:43.291168Z",
     "end_time": "2023-05-18T14:00:43.291168Z"
    }
   }
  },
  {
   "cell_type": "code",
   "execution_count": 833,
   "outputs": [
    {
     "data": {
      "text/plain": "53.804123711340196"
     },
     "execution_count": 833,
     "metadata": {},
     "output_type": "execute_result"
    }
   ],
   "source": [
    "chi2_y_observed_N = np.sum((df_y['p_y'] - r_y_N) ** 2 / r_y_N) * n\n",
    "chi2_y_observed_N"
   ],
   "metadata": {
    "collapsed": false,
    "ExecuteTime": {
     "start_time": "2023-05-18T14:00:43.291168Z",
     "end_time": "2023-05-18T14:00:43.291168Z"
    }
   }
  },
  {
   "cell_type": "code",
   "execution_count": 834,
   "outputs": [
    {
     "data": {
      "text/plain": "False"
     },
     "execution_count": 834,
     "metadata": {},
     "output_type": "execute_result"
    }
   ],
   "source": [
    "chi2_y_observed_N < chi2.ppf(0.9, N_y - 1 - 1)"
   ],
   "metadata": {
    "collapsed": false,
    "ExecuteTime": {
     "start_time": "2023-05-18T14:00:43.291168Z",
     "end_time": "2023-05-18T14:00:43.291168Z"
    }
   }
  },
  {
   "cell_type": "markdown",
   "source": [
    "Наблюдаемая $ \\chi_p^2\\left(k\\right) $ меньше рассчитанной $ \\chi_{набл}^2 $, следовательно, гипотеза о том, что величина Y распределена по равномерному закону, может быть верна, но для неё $ \\chi_{набл}^2 $ больше, чем та же величина, вычисленная при проверке гипотезы о том, что Y распределена по нормальному закону."
   ],
   "metadata": {
    "collapsed": false
   }
  },
  {
   "cell_type": "markdown",
   "source": [
    "# Lab №8"
   ],
   "metadata": {
    "collapsed": false
   }
  },
  {
   "cell_type": "markdown",
   "source": [
    "## Проверка гипотезы о виде связи между X и Y"
   ],
   "metadata": {
    "collapsed": false
   }
  },
  {
   "cell_type": "code",
   "execution_count": 835,
   "outputs": [
    {
     "data": {
      "text/plain": "13.033265648759148"
     },
     "execution_count": 835,
     "metadata": {},
     "output_type": "execute_result"
    }
   ],
   "source": [
    "t_observed = r_sample * np.sqrt(n - 2) / np.sqrt(1 - r_sample ** 2)\n",
    "t_observed"
   ],
   "metadata": {
    "collapsed": false,
    "ExecuteTime": {
     "start_time": "2023-05-18T14:00:43.291168Z",
     "end_time": "2023-05-18T14:00:43.291168Z"
    }
   }
  },
  {
   "cell_type": "code",
   "execution_count": 836,
   "outputs": [
    {
     "data": {
      "text/plain": "False"
     },
     "execution_count": 836,
     "metadata": {},
     "output_type": "execute_result"
    }
   ],
   "source": [
    "t_observed < t.ppf(0.9, n - 2)"
   ],
   "metadata": {
    "collapsed": false,
    "ExecuteTime": {
     "start_time": "2023-05-18T14:00:43.296152Z",
     "end_time": "2023-05-18T14:00:43.296152Z"
    }
   }
  },
  {
   "cell_type": "markdown",
   "source": [
    "$ |T_{набл} |≥T_p (k) $, значит, X и Y связаны линейно."
   ],
   "metadata": {
    "collapsed": false
   }
  },
  {
   "cell_type": "markdown",
   "source": [
    "## Метод наименьших квадратов для линейной регрессии"
   ],
   "metadata": {
    "collapsed": false
   }
  },
  {
   "cell_type": "code",
   "execution_count": 837,
   "outputs": [],
   "source": [
    "def cool_regression(x, y, scale: int = 2):\n",
    "    matrix = []\n",
    "    for i in range(scale):\n",
    "        coefs_i = []\n",
    "        for j in range(i, i + scale):\n",
    "            coefs_i.append(np.sum(np.power(x, j)))\n",
    "        matrix.append(coefs_i)\n",
    "    vec = [np.sum(y.reshape(len(x), ) * np.power(x, i)) for i in range(scale)]\n",
    "    return np.linalg.solve(matrix, vec)"
   ],
   "metadata": {
    "collapsed": false,
    "ExecuteTime": {
     "start_time": "2023-05-18T14:00:43.296152Z",
     "end_time": "2023-05-18T14:00:43.296152Z"
    }
   }
  },
  {
   "cell_type": "code",
   "execution_count": 854,
   "outputs": [],
   "source": [
    "def not_so_cool_regression_linear(x, y):\n",
    "    a = r * s_2_y ** .5 / s_2_x ** .5\n",
    "    b = np.average(y) - a * np.average(x)\n",
    "    return np.array([b, a])"
   ],
   "metadata": {
    "collapsed": false,
    "ExecuteTime": {
     "start_time": "2023-05-18T16:53:00.826367Z",
     "end_time": "2023-05-18T16:53:00.826367Z"
    }
   }
  },
  {
   "cell_type": "code",
   "execution_count": 839,
   "outputs": [],
   "source": [
    "def cool_function(x, coefficients):\n",
    "    return sum(coefficients[i] * x ** i for i in range(len(coefficients)))"
   ],
   "metadata": {
    "collapsed": false,
    "ExecuteTime": {
     "start_time": "2023-05-18T14:00:43.296152Z",
     "end_time": "2023-05-18T14:00:43.296152Z"
    }
   }
  },
  {
   "cell_type": "code",
   "execution_count": 853,
   "outputs": [
    {
     "data": {
      "text/plain": "array([-67.08523409,   0.73229292])"
     },
     "execution_count": 853,
     "metadata": {},
     "output_type": "execute_result"
    }
   ],
   "source": [
    "cool_regression(x, y)"
   ],
   "metadata": {
    "collapsed": false,
    "ExecuteTime": {
     "start_time": "2023-05-18T16:51:45.889779Z",
     "end_time": "2023-05-18T16:51:45.889779Z"
    }
   }
  },
  {
   "cell_type": "code",
   "execution_count": 855,
   "outputs": [
    {
     "data": {
      "text/plain": "array([-66.11283876,   0.72474351])"
     },
     "execution_count": 855,
     "metadata": {},
     "output_type": "execute_result"
    }
   ],
   "source": [
    "not_so_cool_regression_linear(x, y)"
   ],
   "metadata": {
    "collapsed": false,
    "ExecuteTime": {
     "start_time": "2023-05-18T16:53:06.279813Z",
     "end_time": "2023-05-18T16:53:06.279813Z"
    }
   }
  },
  {
   "cell_type": "code",
   "execution_count": 856,
   "outputs": [
    {
     "data": {
      "text/plain": "<matplotlib.collections.PathCollection at 0x1cf38b01f10>"
     },
     "execution_count": 856,
     "metadata": {},
     "output_type": "execute_result"
    },
    {
     "data": {
      "text/plain": "<Figure size 640x480 with 1 Axes>",
      "image/png": "[encoded data removed]"
     },
     "metadata": {},
     "output_type": "display_data"
    }
   ],
   "source": [
    "coefficients = cool_regression(x, y)\n",
    "coefficients_not_cool = not_so_cool_regression_linear(x, y)\n",
    "y_estimate = cool_function(x, coefficients)\n",
    "y_estimate_not_cool = cool_function(x, coefficients_not_cool)\n",
    "plt.plot(x, y_estimate, color='red')\n",
    "plt.plot(x, y_estimate_not_cool, color='green')\n",
    "plt.scatter(x, y)"
   ],
   "metadata": {
    "collapsed": false,
    "ExecuteTime": {
     "start_time": "2023-05-18T16:53:11.371017Z",
     "end_time": "2023-05-18T16:53:11.371017Z"
    }
   }
  },
  {
   "cell_type": "code",
   "execution_count": 857,
   "outputs": [
    {
     "data": {
      "text/plain": "0.009239985442781531"
     },
     "execution_count": 857,
     "metadata": {},
     "output_type": "execute_result"
    }
   ],
   "source": [
    "np.sum(np.abs(y_estimate_not_cool - y_estimate)) / n"
   ],
   "metadata": {
    "collapsed": false,
    "ExecuteTime": {
     "start_time": "2023-05-18T16:53:16.643962Z",
     "end_time": "2023-05-18T16:53:16.643962Z"
    }
   }
  },
  {
   "cell_type": "code",
   "execution_count": 844,
   "outputs": [
    {
     "data": {
      "text/plain": "<matplotlib.collections.PathCollection at 0x1cf37a0d710>"
     },
     "execution_count": 844,
     "metadata": {},
     "output_type": "execute_result"
    },
    {
     "data": {
      "text/plain": "<Figure size 640x480 with 1 Axes>",
      "image/png": "[encoded data removed]"
     },
     "metadata": {},
     "output_type": "display_data"
    }
   ],
   "source": [
    "coefficients = cool_regression(x, y, scale=3)\n",
    "y_estimate_2 = cool_function(x, coefficients)\n",
    "plt.plot(x, y_estimate_2, color='red')\n",
    "plt.scatter(x, y)"
   ],
   "metadata": {
    "collapsed": false,
    "ExecuteTime": {
     "start_time": "2023-05-18T14:00:43.349690Z",
     "end_time": "2023-05-18T14:00:43.349690Z"
    }
   }
  },
  {
   "cell_type": "markdown",
   "source": [
    "Среднеквадратическое отклонение между двумя полученными функциями"
   ],
   "metadata": {
    "collapsed": false
   }
  },
  {
   "cell_type": "code",
   "execution_count": 845,
   "outputs": [
    {
     "data": {
      "text/plain": "5.347729081535445e-10"
     },
     "execution_count": 845,
     "metadata": {},
     "output_type": "execute_result"
    }
   ],
   "source": [
    "error = np.sqrt(np.sum(np.power(y_estimate - y_estimate_2, 2))) / n\n",
    "error"
   ],
   "metadata": {
    "collapsed": false,
    "ExecuteTime": {
     "start_time": "2023-05-18T14:00:43.349690Z",
     "end_time": "2023-05-18T14:00:43.349690Z"
    }
   }
  },
  {
   "cell_type": "code",
   "execution_count": 846,
   "outputs": [
    {
     "data": {
      "text/plain": "True"
     },
     "execution_count": 846,
     "metadata": {},
     "output_type": "execute_result"
    }
   ],
   "source": [
    "np.round(error, 5) == 0"
   ],
   "metadata": {
    "collapsed": false,
    "ExecuteTime": {
     "start_time": "2023-05-18T14:00:43.349690Z",
     "end_time": "2023-05-18T14:00:43.349690Z"
    }
   }
  },
  {
   "cell_type": "markdown",
   "source": [
    "Среднеквадратическое отклонение между реальными данными и полученной функцией"
   ],
   "metadata": {
    "collapsed": false
   }
  },
  {
   "cell_type": "code",
   "execution_count": 847,
   "outputs": [
    {
     "data": {
      "text/plain": "0.07973060516876657"
     },
     "execution_count": 847,
     "metadata": {},
     "output_type": "execute_result"
    }
   ],
   "source": [
    "error = np.sqrt(np.sum(np.power(y - y_estimate, 2))) / n\n",
    "error"
   ],
   "metadata": {
    "collapsed": false,
    "ExecuteTime": {
     "start_time": "2023-05-18T14:00:43.349690Z",
     "end_time": "2023-05-18T14:00:43.349690Z"
    }
   }
  }
 ],
 "metadata": {
  "kernelspec": {
   "display_name": "Python 3",
   "language": "python",
   "name": "python3"
  },
  "language_info": {
   "codemirror_mode": {
    "name": "ipython",
    "version": 2
   },
   "file_extension": ".py",
   "mimetype": "text/x-python",
   "name": "python",
   "nbconvert_exporter": "python",
   "pygments_lexer": "ipython2",
   "version": "2.7.6"
  }
 },
 "nbformat": 4,
 "nbformat_minor": 0
}
